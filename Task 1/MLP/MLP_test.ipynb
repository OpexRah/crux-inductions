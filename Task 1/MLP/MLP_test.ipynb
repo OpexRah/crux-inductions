{
 "cells": [
  {
   "cell_type": "code",
   "execution_count": 1,
   "metadata": {},
   "outputs": [],
   "source": [
    "import numpy as np\n",
    "import pandas as pd\n",
    "from MLP import MLP"
   ]
  },
  {
   "cell_type": "code",
   "execution_count": 3,
   "metadata": {},
   "outputs": [
    {
     "data": {
      "text/plain": [
       "'d:\\\\Documents\\\\GitHub\\\\crux-inductions\\\\Task 1'"
      ]
     },
     "execution_count": 3,
     "metadata": {},
     "output_type": "execute_result"
    }
   ],
   "source": [
    "import os\n",
    "os.chdir('..')\n",
    "os.getcwd()"
   ]
  },
  {
   "cell_type": "code",
   "execution_count": 4,
   "metadata": {},
   "outputs": [],
   "source": [
    "df = pd.read_csv(\"Dataset/iris.csv\")\n",
    "df[\"variety\"].replace([\"Setosa\", \"Versicolor\", \"Virginica\"], [0, 1, 2], inplace=True)\n",
    "df = df.sample(frac=1).reset_index(drop=True)"
   ]
  },
  {
   "cell_type": "code",
   "execution_count": 5,
   "metadata": {},
   "outputs": [],
   "source": [
    "X = np.array(df.iloc[:, :-1].values)\n",
    "Y = np.array(df.iloc[:, -1].values)\n",
    "Y = pd.get_dummies(Y).values\n",
    "\n",
    "train_split = 0.85\n",
    "\n",
    "X_train = X[:int(len(X)*train_split)]\n",
    "Y_train = Y[:int(len(Y)*train_split)]\n",
    "X_test = X[int(len(X)*train_split):]\n",
    "Y_test = Y[int(len(Y)*train_split):]"
   ]
  },
  {
   "cell_type": "code",
   "execution_count": 6,
   "metadata": {},
   "outputs": [
    {
     "name": "stdout",
     "output_type": "stream",
     "text": [
      "Epoch: 0/100\n",
      "Training Accuracy : 0.33858267716535434\n",
      "Epoch: 10/100\n",
      "Training Accuracy : 0.6771653543307087\n",
      "Epoch: 20/100\n",
      "Training Accuracy : 0.8740157480314961\n",
      "Epoch: 30/100\n",
      "Training Accuracy : 0.968503937007874\n",
      "Epoch: 40/100\n",
      "Training Accuracy : 0.984251968503937\n",
      "Epoch: 50/100\n",
      "Training Accuracy : 0.984251968503937\n",
      "Epoch: 60/100\n",
      "Training Accuracy : 0.9921259842519685\n",
      "Epoch: 70/100\n",
      "Training Accuracy : 0.984251968503937\n",
      "Epoch: 80/100\n",
      "Training Accuracy : 0.984251968503937\n",
      "Epoch: 90/100\n",
      "Training Accuracy : 0.968503937007874\n"
     ]
    }
   ],
   "source": [
    "model = MLP([4,5,10,3], 0.15)\n",
    "model.fit(X_train, Y_train, epochs=100)"
   ]
  },
  {
   "cell_type": "code",
   "execution_count": 7,
   "metadata": {},
   "outputs": [
    {
     "name": "stdout",
     "output_type": "stream",
     "text": [
      "Testing accuracy: 0.9565217391304348\n"
     ]
    }
   ],
   "source": [
    "print(f\"Testing accuracy: {model.accuracy(X_test, Y_test)}\")"
   ]
  },
  {
   "cell_type": "code",
   "execution_count": null,
   "metadata": {},
   "outputs": [],
   "source": []
  }
 ],
 "metadata": {
  "kernelspec": {
   "display_name": "Python 3",
   "language": "python",
   "name": "python3"
  },
  "language_info": {
   "codemirror_mode": {
    "name": "ipython",
    "version": 3
   },
   "file_extension": ".py",
   "mimetype": "text/x-python",
   "name": "python",
   "nbconvert_exporter": "python",
   "pygments_lexer": "ipython3",
   "version": "3.10.10"
  }
 },
 "nbformat": 4,
 "nbformat_minor": 2
}
