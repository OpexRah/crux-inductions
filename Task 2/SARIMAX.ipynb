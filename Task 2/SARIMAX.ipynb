{
  "cells": [
    {
      "cell_type": "code",
      "execution_count": 1,
      "metadata": {
        "colab": {
          "base_uri": "https://localhost:8080/",
          "height": 423
        },
        "id": "1pSeEcL1tLug",
        "outputId": "c2be5acb-3cfb-4327-f28f-b9ee5200eba8"
      },
      "outputs": [
        {
          "data": {
            "application/vnd.google.colaboratory.intrinsic+json": {
              "summary": "{\n  \"name\": \"df\",\n  \"rows\": 1259,\n  \"fields\": [\n    {\n      \"column\": \"Date\",\n      \"properties\": {\n        \"dtype\": \"date\",\n        \"min\": \"2019-06-03 00:00:00\",\n        \"max\": \"2024-05-31 00:00:00\",\n        \"num_unique_values\": 1259,\n        \"samples\": [\n          \"2019-09-19 00:00:00\",\n          \"2023-06-29 00:00:00\",\n          \"2019-08-02 00:00:00\"\n        ],\n        \"semantic_type\": \"\",\n        \"description\": \"\"\n      }\n    },\n    {\n      \"column\": \"Close/Last\",\n      \"properties\": {\n        \"dtype\": \"number\",\n        \"std\": 2950.372167195995,\n        \"min\": 6978.02,\n        \"max\": 18869.44,\n        \"num_unique_values\": 1258,\n        \"samples\": [\n          15357.68,\n          7966.72,\n          7490.13\n        ],\n        \"semantic_type\": \"\",\n        \"description\": \"\"\n      }\n    },\n    {\n      \"column\": \"Open\",\n      \"properties\": {\n        \"dtype\": \"number\",\n        \"std\": 2952.0098412191587,\n        \"min\": 6952.71,\n        \"max\": 18907.14,\n        \"num_unique_values\": 1256,\n        \"samples\": [\n          13197.75,\n          7956.23,\n          7594.64\n        ],\n        \"semantic_type\": \"\",\n        \"description\": \"\"\n      }\n    },\n    {\n      \"column\": \"High\",\n      \"properties\": {\n        \"dtype\": \"number\",\n        \"std\": 2958.846819165077,\n        \"min\": 7126.43,\n        \"max\": 18907.54,\n        \"num_unique_values\": 1257,\n        \"samples\": [\n          13259.85,\n          7969.66,\n          7621.7\n        ],\n        \"semantic_type\": \"\",\n        \"description\": \"\"\n      }\n    },\n    {\n      \"column\": \"Low\",\n      \"properties\": {\n        \"dtype\": \"number\",\n        \"std\": 2939.8753769837735,\n        \"min\": 6771.91,\n        \"max\": 18755.94,\n        \"num_unique_values\": 1256,\n        \"samples\": [\n          12758.12,\n          7912.72,\n          7480.58\n        ],\n        \"semantic_type\": \"\",\n        \"description\": \"\"\n      }\n    }\n  ]\n}",
              "type": "dataframe",
              "variable_name": "df"
            },
            "text/html": [
              "\n",
              "  <div id=\"df-f033d321-bf3d-4ed4-a97a-3dce442dd036\" class=\"colab-df-container\">\n",
              "    <div>\n",
              "<style scoped>\n",
              "    .dataframe tbody tr th:only-of-type {\n",
              "        vertical-align: middle;\n",
              "    }\n",
              "\n",
              "    .dataframe tbody tr th {\n",
              "        vertical-align: top;\n",
              "    }\n",
              "\n",
              "    .dataframe thead th {\n",
              "        text-align: right;\n",
              "    }\n",
              "</style>\n",
              "<table border=\"1\" class=\"dataframe\">\n",
              "  <thead>\n",
              "    <tr style=\"text-align: right;\">\n",
              "      <th></th>\n",
              "      <th>Date</th>\n",
              "      <th>Close/Last</th>\n",
              "      <th>Open</th>\n",
              "      <th>High</th>\n",
              "      <th>Low</th>\n",
              "    </tr>\n",
              "  </thead>\n",
              "  <tbody>\n",
              "    <tr>\n",
              "      <th>0</th>\n",
              "      <td>2019-06-03</td>\n",
              "      <td>6978.02</td>\n",
              "      <td>7110.34</td>\n",
              "      <td>7126.43</td>\n",
              "      <td>6936.68</td>\n",
              "    </tr>\n",
              "    <tr>\n",
              "      <th>1</th>\n",
              "      <td>2019-06-04</td>\n",
              "      <td>7166.75</td>\n",
              "      <td>7056.18</td>\n",
              "      <td>7169.79</td>\n",
              "      <td>7023.09</td>\n",
              "    </tr>\n",
              "    <tr>\n",
              "      <th>2</th>\n",
              "      <td>2019-06-05</td>\n",
              "      <td>7220.90</td>\n",
              "      <td>7230.81</td>\n",
              "      <td>7235.23</td>\n",
              "      <td>7146.43</td>\n",
              "    </tr>\n",
              "    <tr>\n",
              "      <th>3</th>\n",
              "      <td>2019-06-06</td>\n",
              "      <td>7275.93</td>\n",
              "      <td>7229.86</td>\n",
              "      <td>7293.22</td>\n",
              "      <td>7201.59</td>\n",
              "    </tr>\n",
              "    <tr>\n",
              "      <th>4</th>\n",
              "      <td>2019-06-07</td>\n",
              "      <td>7417.29</td>\n",
              "      <td>7315.33</td>\n",
              "      <td>7445.99</td>\n",
              "      <td>7309.01</td>\n",
              "    </tr>\n",
              "    <tr>\n",
              "      <th>...</th>\n",
              "      <td>...</td>\n",
              "      <td>...</td>\n",
              "      <td>...</td>\n",
              "      <td>...</td>\n",
              "      <td>...</td>\n",
              "    </tr>\n",
              "    <tr>\n",
              "      <th>1254</th>\n",
              "      <td>2024-05-24</td>\n",
              "      <td>18808.35</td>\n",
              "      <td>18669.36</td>\n",
              "      <td>18851.99</td>\n",
              "      <td>18664.79</td>\n",
              "    </tr>\n",
              "    <tr>\n",
              "      <th>1255</th>\n",
              "      <td>2024-05-28</td>\n",
              "      <td>18869.44</td>\n",
              "      <td>18855.15</td>\n",
              "      <td>18875.20</td>\n",
              "      <td>18755.94</td>\n",
              "    </tr>\n",
              "    <tr>\n",
              "      <th>1256</th>\n",
              "      <td>2024-05-29</td>\n",
              "      <td>18736.75</td>\n",
              "      <td>18708.07</td>\n",
              "      <td>18814.82</td>\n",
              "      <td>18706.62</td>\n",
              "    </tr>\n",
              "    <tr>\n",
              "      <th>1257</th>\n",
              "      <td>2024-05-30</td>\n",
              "      <td>18538.66</td>\n",
              "      <td>18683.25</td>\n",
              "      <td>18705.26</td>\n",
              "      <td>18487.76</td>\n",
              "    </tr>\n",
              "    <tr>\n",
              "      <th>1258</th>\n",
              "      <td>2024-05-31</td>\n",
              "      <td>18536.65</td>\n",
              "      <td>18550.80</td>\n",
              "      <td>18574.56</td>\n",
              "      <td>18189.78</td>\n",
              "    </tr>\n",
              "  </tbody>\n",
              "</table>\n",
              "<p>1259 rows × 5 columns</p>\n",
              "</div>\n",
              "    <div class=\"colab-df-buttons\">\n",
              "\n",
              "  <div class=\"colab-df-container\">\n",
              "    <button class=\"colab-df-convert\" onclick=\"convertToInteractive('df-f033d321-bf3d-4ed4-a97a-3dce442dd036')\"\n",
              "            title=\"Convert this dataframe to an interactive table.\"\n",
              "            style=\"display:none;\">\n",
              "\n",
              "  <svg xmlns=\"http://www.w3.org/2000/svg\" height=\"24px\" viewBox=\"0 -960 960 960\">\n",
              "    <path d=\"M120-120v-720h720v720H120Zm60-500h600v-160H180v160Zm220 220h160v-160H400v160Zm0 220h160v-160H400v160ZM180-400h160v-160H180v160Zm440 0h160v-160H620v160ZM180-180h160v-160H180v160Zm440 0h160v-160H620v160Z\"/>\n",
              "  </svg>\n",
              "    </button>\n",
              "\n",
              "  <style>\n",
              "    .colab-df-container {\n",
              "      display:flex;\n",
              "      gap: 12px;\n",
              "    }\n",
              "\n",
              "    .colab-df-convert {\n",
              "      background-color: #E8F0FE;\n",
              "      border: none;\n",
              "      border-radius: 50%;\n",
              "      cursor: pointer;\n",
              "      display: none;\n",
              "      fill: #1967D2;\n",
              "      height: 32px;\n",
              "      padding: 0 0 0 0;\n",
              "      width: 32px;\n",
              "    }\n",
              "\n",
              "    .colab-df-convert:hover {\n",
              "      background-color: #E2EBFA;\n",
              "      box-shadow: 0px 1px 2px rgba(60, 64, 67, 0.3), 0px 1px 3px 1px rgba(60, 64, 67, 0.15);\n",
              "      fill: #174EA6;\n",
              "    }\n",
              "\n",
              "    .colab-df-buttons div {\n",
              "      margin-bottom: 4px;\n",
              "    }\n",
              "\n",
              "    [theme=dark] .colab-df-convert {\n",
              "      background-color: #3B4455;\n",
              "      fill: #D2E3FC;\n",
              "    }\n",
              "\n",
              "    [theme=dark] .colab-df-convert:hover {\n",
              "      background-color: #434B5C;\n",
              "      box-shadow: 0px 1px 3px 1px rgba(0, 0, 0, 0.15);\n",
              "      filter: drop-shadow(0px 1px 2px rgba(0, 0, 0, 0.3));\n",
              "      fill: #FFFFFF;\n",
              "    }\n",
              "  </style>\n",
              "\n",
              "    <script>\n",
              "      const buttonEl =\n",
              "        document.querySelector('#df-f033d321-bf3d-4ed4-a97a-3dce442dd036 button.colab-df-convert');\n",
              "      buttonEl.style.display =\n",
              "        google.colab.kernel.accessAllowed ? 'block' : 'none';\n",
              "\n",
              "      async function convertToInteractive(key) {\n",
              "        const element = document.querySelector('#df-f033d321-bf3d-4ed4-a97a-3dce442dd036');\n",
              "        const dataTable =\n",
              "          await google.colab.kernel.invokeFunction('convertToInteractive',\n",
              "                                                    [key], {});\n",
              "        if (!dataTable) return;\n",
              "\n",
              "        const docLinkHtml = 'Like what you see? Visit the ' +\n",
              "          '<a target=\"_blank\" href=https://colab.research.google.com/notebooks/data_table.ipynb>data table notebook</a>'\n",
              "          + ' to learn more about interactive tables.';\n",
              "        element.innerHTML = '';\n",
              "        dataTable['output_type'] = 'display_data';\n",
              "        await google.colab.output.renderOutput(dataTable, element);\n",
              "        const docLink = document.createElement('div');\n",
              "        docLink.innerHTML = docLinkHtml;\n",
              "        element.appendChild(docLink);\n",
              "      }\n",
              "    </script>\n",
              "  </div>\n",
              "\n",
              "\n",
              "<div id=\"df-d1d850d0-9fd3-449e-9df8-93743159ea1d\">\n",
              "  <button class=\"colab-df-quickchart\" onclick=\"quickchart('df-d1d850d0-9fd3-449e-9df8-93743159ea1d')\"\n",
              "            title=\"Suggest charts\"\n",
              "            style=\"display:none;\">\n",
              "\n",
              "<svg xmlns=\"http://www.w3.org/2000/svg\" height=\"24px\"viewBox=\"0 0 24 24\"\n",
              "     width=\"24px\">\n",
              "    <g>\n",
              "        <path d=\"M19 3H5c-1.1 0-2 .9-2 2v14c0 1.1.9 2 2 2h14c1.1 0 2-.9 2-2V5c0-1.1-.9-2-2-2zM9 17H7v-7h2v7zm4 0h-2V7h2v10zm4 0h-2v-4h2v4z\"/>\n",
              "    </g>\n",
              "</svg>\n",
              "  </button>\n",
              "\n",
              "<style>\n",
              "  .colab-df-quickchart {\n",
              "      --bg-color: #E8F0FE;\n",
              "      --fill-color: #1967D2;\n",
              "      --hover-bg-color: #E2EBFA;\n",
              "      --hover-fill-color: #174EA6;\n",
              "      --disabled-fill-color: #AAA;\n",
              "      --disabled-bg-color: #DDD;\n",
              "  }\n",
              "\n",
              "  [theme=dark] .colab-df-quickchart {\n",
              "      --bg-color: #3B4455;\n",
              "      --fill-color: #D2E3FC;\n",
              "      --hover-bg-color: #434B5C;\n",
              "      --hover-fill-color: #FFFFFF;\n",
              "      --disabled-bg-color: #3B4455;\n",
              "      --disabled-fill-color: #666;\n",
              "  }\n",
              "\n",
              "  .colab-df-quickchart {\n",
              "    background-color: var(--bg-color);\n",
              "    border: none;\n",
              "    border-radius: 50%;\n",
              "    cursor: pointer;\n",
              "    display: none;\n",
              "    fill: var(--fill-color);\n",
              "    height: 32px;\n",
              "    padding: 0;\n",
              "    width: 32px;\n",
              "  }\n",
              "\n",
              "  .colab-df-quickchart:hover {\n",
              "    background-color: var(--hover-bg-color);\n",
              "    box-shadow: 0 1px 2px rgba(60, 64, 67, 0.3), 0 1px 3px 1px rgba(60, 64, 67, 0.15);\n",
              "    fill: var(--button-hover-fill-color);\n",
              "  }\n",
              "\n",
              "  .colab-df-quickchart-complete:disabled,\n",
              "  .colab-df-quickchart-complete:disabled:hover {\n",
              "    background-color: var(--disabled-bg-color);\n",
              "    fill: var(--disabled-fill-color);\n",
              "    box-shadow: none;\n",
              "  }\n",
              "\n",
              "  .colab-df-spinner {\n",
              "    border: 2px solid var(--fill-color);\n",
              "    border-color: transparent;\n",
              "    border-bottom-color: var(--fill-color);\n",
              "    animation:\n",
              "      spin 1s steps(1) infinite;\n",
              "  }\n",
              "\n",
              "  @keyframes spin {\n",
              "    0% {\n",
              "      border-color: transparent;\n",
              "      border-bottom-color: var(--fill-color);\n",
              "      border-left-color: var(--fill-color);\n",
              "    }\n",
              "    20% {\n",
              "      border-color: transparent;\n",
              "      border-left-color: var(--fill-color);\n",
              "      border-top-color: var(--fill-color);\n",
              "    }\n",
              "    30% {\n",
              "      border-color: transparent;\n",
              "      border-left-color: var(--fill-color);\n",
              "      border-top-color: var(--fill-color);\n",
              "      border-right-color: var(--fill-color);\n",
              "    }\n",
              "    40% {\n",
              "      border-color: transparent;\n",
              "      border-right-color: var(--fill-color);\n",
              "      border-top-color: var(--fill-color);\n",
              "    }\n",
              "    60% {\n",
              "      border-color: transparent;\n",
              "      border-right-color: var(--fill-color);\n",
              "    }\n",
              "    80% {\n",
              "      border-color: transparent;\n",
              "      border-right-color: var(--fill-color);\n",
              "      border-bottom-color: var(--fill-color);\n",
              "    }\n",
              "    90% {\n",
              "      border-color: transparent;\n",
              "      border-bottom-color: var(--fill-color);\n",
              "    }\n",
              "  }\n",
              "</style>\n",
              "\n",
              "  <script>\n",
              "    async function quickchart(key) {\n",
              "      const quickchartButtonEl =\n",
              "        document.querySelector('#' + key + ' button');\n",
              "      quickchartButtonEl.disabled = true;  // To prevent multiple clicks.\n",
              "      quickchartButtonEl.classList.add('colab-df-spinner');\n",
              "      try {\n",
              "        const charts = await google.colab.kernel.invokeFunction(\n",
              "            'suggestCharts', [key], {});\n",
              "      } catch (error) {\n",
              "        console.error('Error during call to suggestCharts:', error);\n",
              "      }\n",
              "      quickchartButtonEl.classList.remove('colab-df-spinner');\n",
              "      quickchartButtonEl.classList.add('colab-df-quickchart-complete');\n",
              "    }\n",
              "    (() => {\n",
              "      let quickchartButtonEl =\n",
              "        document.querySelector('#df-d1d850d0-9fd3-449e-9df8-93743159ea1d button');\n",
              "      quickchartButtonEl.style.display =\n",
              "        google.colab.kernel.accessAllowed ? 'block' : 'none';\n",
              "    })();\n",
              "  </script>\n",
              "</div>\n",
              "    </div>\n",
              "  </div>\n"
            ],
            "text/plain": [
              "           Date  Close/Last      Open      High       Low\n",
              "0    2019-06-03     6978.02   7110.34   7126.43   6936.68\n",
              "1    2019-06-04     7166.75   7056.18   7169.79   7023.09\n",
              "2    2019-06-05     7220.90   7230.81   7235.23   7146.43\n",
              "3    2019-06-06     7275.93   7229.86   7293.22   7201.59\n",
              "4    2019-06-07     7417.29   7315.33   7445.99   7309.01\n",
              "...         ...         ...       ...       ...       ...\n",
              "1254 2024-05-24    18808.35  18669.36  18851.99  18664.79\n",
              "1255 2024-05-28    18869.44  18855.15  18875.20  18755.94\n",
              "1256 2024-05-29    18736.75  18708.07  18814.82  18706.62\n",
              "1257 2024-05-30    18538.66  18683.25  18705.26  18487.76\n",
              "1258 2024-05-31    18536.65  18550.80  18574.56  18189.78\n",
              "\n",
              "[1259 rows x 5 columns]"
            ]
          },
          "execution_count": 1,
          "metadata": {},
          "output_type": "execute_result"
        }
      ],
      "source": [
        "import numpy as np\n",
        "import pandas as pd\n",
        "import matplotlib.pyplot as plt\n",
        "\n",
        "df = pd.read_csv(\"/content/NASDAQ100_5years.csv\")\n",
        "df['Date'] = pd.to_datetime(df['Date'])\n",
        "df = df.sort_values('Date')\n",
        "df.reset_index(drop=True, inplace=True)\n",
        "df"
      ]
    },
    {
      "cell_type": "code",
      "execution_count": 2,
      "metadata": {
        "colab": {
          "base_uri": "https://localhost:8080/",
          "height": 507
        },
        "id": "RvCQG_JVtg0h",
        "outputId": "3ee33734-742e-4f8a-fa94-e7b3cdc5cbbb"
      },
      "outputs": [
        {
          "data": {
            "image/png": "[encoded data removed]",
            "text/plain": [
              "<Figure size 1000x500 with 1 Axes>"
            ]
          },
          "metadata": {},
          "output_type": "display_data"
        }
      ],
      "source": [
        "plt.figure(figsize=(10,5))\n",
        "plt.plot(df.index, df['Close/Last'])\n",
        "plt.xlabel('Date')\n",
        "plt.ylabel('Price')\n",
        "plt.tight_layout()\n",
        "plt.show()"
      ]
    },
    {
      "cell_type": "code",
      "execution_count": 3,
      "metadata": {
        "colab": {
          "base_uri": "https://localhost:8080/"
        },
        "id": "A5sb18ouv0m1",
        "outputId": "06503d63-07c6-4cb8-ccae-5fdbb170c94c"
      },
      "outputs": [
        {
          "name": "stdout",
          "output_type": "stream",
          "text": [
            "Fail to reject H0, data is not stationary, p-value: 0.7779386960770316\n"
          ]
        }
      ],
      "source": [
        "# stationary check\n",
        "from statsmodels.tsa.stattools import adfuller\n",
        "\n",
        "df_close = df[['Date','Close/Last']]\n",
        "\n",
        "#H0: Data is not stationary\n",
        "#H1: Data is stationary\n",
        "\n",
        "def check_stationary(df):\n",
        "  result = adfuller(df)\n",
        "  p_value = result[1]\n",
        "  if result[1] <= 0.05:\n",
        "    print(f\"Reject H0, data is stationary, p-value: {result[1]}\")\n",
        "  else:\n",
        "    print(f\"Fail to reject H0, data is not stationary, p-value: {result[1]}\")\n",
        "\n",
        "check_stationary(df_close['Close/Last'])"
      ]
    },
    {
      "cell_type": "code",
      "execution_count": 4,
      "metadata": {
        "colab": {
          "base_uri": "https://localhost:8080/",
          "height": 957
        },
        "id": "4Egc42rgxLxq",
        "outputId": "052a9e51-dcc2-43ed-b58b-e7eb243001c4"
      },
      "outputs": [
        {
          "data": {
            "image/png": "[encoded data removed]",
            "text/plain": [
              "<Figure size 640x480 with 4 Axes>"
            ]
          },
          "execution_count": 4,
          "metadata": {},
          "output_type": "execute_result"
        },
        {
          "data": {
            "image/png": "[encoded data removed]",
            "text/plain": [
              "<Figure size 640x480 with 4 Axes>"
            ]
          },
          "metadata": {},
          "output_type": "display_data"
        }
      ],
      "source": [
        "# decompose data to check trend, seasonality and noise\n",
        "from statsmodels.tsa.seasonal import seasonal_decompose\n",
        "\n",
        "decompose_results = seasonal_decompose(df_close['Close/Last'], model='additive',period=150)\n",
        "decompose_results.plot()"
      ]
    },
    {
      "cell_type": "code",
      "execution_count": null,
      "metadata": {
        "colab": {
          "base_uri": "https://localhost:8080/"
        },
        "id": "ezwcYwv8O2IE",
        "outputId": "19f5456f-b558-48e2-e8f7-4ead71c284ec"
      },
      "outputs": [
        {
          "name": "stdout",
          "output_type": "stream",
          "text": [
            "Trying with pdq:(0, 0, 0) and s_pdq:(0, 0, 0, 12)\n",
            "New parameters: pdq (0, 0, 0), s_pdq (0, 0, 0, 12) with aic: 27421.44988486283\n",
            "\n",
            "Trying with pdq:(0, 0, 0) and s_pdq:(0, 0, 1, 12)\n",
            "New parameters: pdq (0, 0, 0), s_pdq (0, 0, 1, 12) with aic: 26277.678691153553\n",
            "\n",
            "Trying with pdq:(0, 0, 0) and s_pdq:(0, 0, 2, 12)\n",
            "New parameters: pdq (0, 0, 0), s_pdq (0, 0, 2, 12) with aic: 23986.490224365487\n",
            "\n",
            "Trying with pdq:(0, 0, 0) and s_pdq:(0, 1, 0, 12)\n",
            "New parameters: pdq (0, 0, 0), s_pdq (0, 1, 0, 12) with aic: 19508.82073486252\n",
            "\n",
            "Trying with pdq:(0, 0, 0) and s_pdq:(0, 1, 1, 12)\n",
            "New parameters: pdq (0, 0, 0), s_pdq (0, 1, 1, 12) with aic: 19331.56213473565\n",
            "\n",
            "Trying with pdq:(0, 0, 0) and s_pdq:(0, 1, 2, 12)\n",
            "New parameters: pdq (0, 0, 0), s_pdq (0, 1, 2, 12) with aic: 19153.269808081473\n",
            "\n",
            "Trying with pdq:(0, 0, 0) and s_pdq:(0, 2, 0, 12)\n",
            "Trying with pdq:(0, 0, 0) and s_pdq:(0, 2, 1, 12)\n",
            "Trying with pdq:(0, 0, 0) and s_pdq:(0, 2, 2, 12)\n",
            "New parameters: pdq (0, 0, 0), s_pdq (0, 2, 2, 12) with aic: 18989.603009511746\n",
            "\n",
            "Trying with pdq:(0, 0, 0) and s_pdq:(1, 0, 0, 12)\n",
            "Trying with pdq:(0, 0, 0) and s_pdq:(1, 0, 1, 12)\n",
            "Trying with pdq:(0, 0, 0) and s_pdq:(1, 0, 2, 12)\n",
            "Trying with pdq:(0, 0, 0) and s_pdq:(1, 1, 0, 12)\n",
            "Trying with pdq:(0, 0, 0) and s_pdq:(1, 1, 1, 12)\n",
            "Trying with pdq:(0, 0, 0) and s_pdq:(1, 1, 2, 12)\n",
            "Trying with pdq:(0, 0, 0) and s_pdq:(1, 2, 0, 12)\n",
            "Trying with pdq:(0, 0, 0) and s_pdq:(1, 2, 1, 12)\n",
            "Trying with pdq:(0, 0, 0) and s_pdq:(1, 2, 2, 12)\n",
            "New parameters: pdq (0, 0, 0), s_pdq (1, 2, 2, 12) with aic: 18985.66915749532\n",
            "\n",
            "Trying with pdq:(0, 0, 0) and s_pdq:(2, 0, 0, 12)\n",
            "Trying with pdq:(0, 0, 0) and s_pdq:(2, 0, 1, 12)\n",
            "Trying with pdq:(0, 0, 0) and s_pdq:(2, 0, 2, 12)\n",
            "Trying with pdq:(0, 0, 0) and s_pdq:(2, 1, 0, 12)\n",
            "Trying with pdq:(0, 0, 0) and s_pdq:(2, 1, 1, 12)\n",
            "Trying with pdq:(0, 0, 0) and s_pdq:(2, 1, 2, 12)\n",
            "Trying with pdq:(0, 0, 0) and s_pdq:(2, 2, 0, 12)\n",
            "Trying with pdq:(0, 0, 0) and s_pdq:(2, 2, 1, 12)\n",
            "Trying with pdq:(0, 0, 0) and s_pdq:(2, 2, 2, 12)\n",
            "New parameters: pdq (0, 0, 0), s_pdq (2, 2, 2, 12) with aic: 18981.61601225915\n",
            "\n",
            "Trying with pdq:(0, 0, 1) and s_pdq:(0, 0, 0, 12)\n",
            "Trying with pdq:(0, 0, 1) and s_pdq:(0, 0, 1, 12)\n",
            "Trying with pdq:(0, 0, 1) and s_pdq:(0, 0, 2, 12)\n",
            "Trying with pdq:(0, 0, 1) and s_pdq:(0, 1, 0, 12)\n",
            "New parameters: pdq (0, 0, 1), s_pdq (0, 1, 0, 12) with aic: 18501.37409934132\n",
            "\n",
            "Trying with pdq:(0, 0, 1) and s_pdq:(0, 1, 1, 12)\n",
            "New parameters: pdq (0, 0, 1), s_pdq (0, 1, 1, 12) with aic: 18309.968293289327\n",
            "\n",
            "Trying with pdq:(0, 0, 1) and s_pdq:(0, 1, 2, 12)\n",
            "New parameters: pdq (0, 0, 1), s_pdq (0, 1, 2, 12) with aic: 18141.85346962186\n",
            "\n",
            "Trying with pdq:(0, 0, 1) and s_pdq:(0, 2, 0, 12)\n",
            "Trying with pdq:(0, 0, 1) and s_pdq:(0, 2, 1, 12)\n",
            "Trying with pdq:(0, 0, 1) and s_pdq:(0, 2, 2, 12)\n",
            "New parameters: pdq (0, 0, 1), s_pdq (0, 2, 2, 12) with aic: 17991.75314727205\n",
            "\n",
            "Trying with pdq:(0, 0, 1) and s_pdq:(1, 0, 0, 12)\n",
            "Trying with pdq:(0, 0, 1) and s_pdq:(1, 0, 1, 12)\n"
          ]
        },
        {
          "name": "stderr",
          "output_type": "stream",
          "text": [
            "/usr/local/lib/python3.10/dist-packages/statsmodels/base/model.py:607: ConvergenceWarning: Maximum Likelihood optimization failed to converge. Check mle_retvals\n",
            "  warnings.warn(\"Maximum Likelihood optimization failed to \"\n"
          ]
        },
        {
          "name": "stdout",
          "output_type": "stream",
          "text": [
            "Trying with pdq:(0, 0, 1) and s_pdq:(1, 0, 2, 12)\n",
            "Trying with pdq:(0, 0, 1) and s_pdq:(1, 1, 0, 12)\n",
            "Trying with pdq:(0, 0, 1) and s_pdq:(1, 1, 1, 12)\n",
            "Trying with pdq:(0, 0, 1) and s_pdq:(1, 1, 2, 12)\n",
            "Trying with pdq:(0, 0, 1) and s_pdq:(1, 2, 0, 12)\n",
            "Trying with pdq:(0, 0, 1) and s_pdq:(1, 2, 1, 12)\n",
            "Trying with pdq:(0, 0, 1) and s_pdq:(1, 2, 2, 12)\n"
          ]
        },
        {
          "name": "stderr",
          "output_type": "stream",
          "text": [
            "/usr/local/lib/python3.10/dist-packages/statsmodels/base/model.py:607: ConvergenceWarning: Maximum Likelihood optimization failed to converge. Check mle_retvals\n",
            "  warnings.warn(\"Maximum Likelihood optimization failed to \"\n"
          ]
        },
        {
          "name": "stdout",
          "output_type": "stream",
          "text": [
            "New parameters: pdq (0, 0, 1), s_pdq (1, 2, 2, 12) with aic: 17985.86594391692\n",
            "\n",
            "Trying with pdq:(0, 0, 1) and s_pdq:(2, 0, 0, 12)\n",
            "Trying with pdq:(0, 0, 1) and s_pdq:(2, 0, 1, 12)\n"
          ]
        },
        {
          "name": "stderr",
          "output_type": "stream",
          "text": [
            "/usr/local/lib/python3.10/dist-packages/statsmodels/base/model.py:607: ConvergenceWarning: Maximum Likelihood optimization failed to converge. Check mle_retvals\n",
            "  warnings.warn(\"Maximum Likelihood optimization failed to \"\n"
          ]
        },
        {
          "name": "stdout",
          "output_type": "stream",
          "text": [
            "Trying with pdq:(0, 0, 1) and s_pdq:(2, 0, 2, 12)\n"
          ]
        },
        {
          "name": "stderr",
          "output_type": "stream",
          "text": [
            "/usr/local/lib/python3.10/dist-packages/statsmodels/base/model.py:607: ConvergenceWarning: Maximum Likelihood optimization failed to converge. Check mle_retvals\n",
            "  warnings.warn(\"Maximum Likelihood optimization failed to \"\n"
          ]
        },
        {
          "name": "stdout",
          "output_type": "stream",
          "text": [
            "Trying with pdq:(0, 0, 1) and s_pdq:(2, 1, 0, 12)\n",
            "Trying with pdq:(0, 0, 1) and s_pdq:(2, 1, 1, 12)\n",
            "Trying with pdq:(0, 0, 1) and s_pdq:(2, 1, 2, 12)\n"
          ]
        },
        {
          "name": "stderr",
          "output_type": "stream",
          "text": [
            "/usr/local/lib/python3.10/dist-packages/statsmodels/base/model.py:607: ConvergenceWarning: Maximum Likelihood optimization failed to converge. Check mle_retvals\n",
            "  warnings.warn(\"Maximum Likelihood optimization failed to \"\n"
          ]
        },
        {
          "name": "stdout",
          "output_type": "stream",
          "text": [
            "Trying with pdq:(0, 0, 1) and s_pdq:(2, 2, 0, 12)\n",
            "Trying with pdq:(0, 0, 1) and s_pdq:(2, 2, 1, 12)\n",
            "Trying with pdq:(0, 0, 1) and s_pdq:(2, 2, 2, 12)\n",
            "Trying with pdq:(0, 0, 2) and s_pdq:(0, 0, 0, 12)\n",
            "Trying with pdq:(0, 0, 2) and s_pdq:(0, 0, 1, 12)\n"
          ]
        },
        {
          "name": "stderr",
          "output_type": "stream",
          "text": [
            "/usr/local/lib/python3.10/dist-packages/statsmodels/base/model.py:607: ConvergenceWarning: Maximum Likelihood optimization failed to converge. Check mle_retvals\n",
            "  warnings.warn(\"Maximum Likelihood optimization failed to \"\n"
          ]
        },
        {
          "name": "stdout",
          "output_type": "stream",
          "text": [
            "Trying with pdq:(0, 0, 2) and s_pdq:(0, 0, 2, 12)\n"
          ]
        },
        {
          "name": "stderr",
          "output_type": "stream",
          "text": [
            "/usr/local/lib/python3.10/dist-packages/statsmodels/base/model.py:607: ConvergenceWarning: Maximum Likelihood optimization failed to converge. Check mle_retvals\n",
            "  warnings.warn(\"Maximum Likelihood optimization failed to \"\n"
          ]
        },
        {
          "name": "stdout",
          "output_type": "stream",
          "text": [
            "Trying with pdq:(0, 0, 2) and s_pdq:(0, 1, 0, 12)\n",
            "New parameters: pdq (0, 0, 2), s_pdq (0, 1, 0, 12) with aic: 17963.46949666874\n",
            "\n",
            "Trying with pdq:(0, 0, 2) and s_pdq:(0, 1, 1, 12)\n",
            "New parameters: pdq (0, 0, 2), s_pdq (0, 1, 1, 12) with aic: 17727.36173549996\n",
            "\n",
            "Trying with pdq:(0, 0, 2) and s_pdq:(0, 1, 2, 12)\n",
            "New parameters: pdq (0, 0, 2), s_pdq (0, 1, 2, 12) with aic: 17566.74378084069\n",
            "\n",
            "Trying with pdq:(0, 0, 2) and s_pdq:(0, 2, 0, 12)\n",
            "Trying with pdq:(0, 0, 2) and s_pdq:(0, 2, 1, 12)\n",
            "Trying with pdq:(0, 0, 2) and s_pdq:(0, 2, 2, 12)\n",
            "New parameters: pdq (0, 0, 2), s_pdq (0, 2, 2, 12) with aic: 17424.4986979897\n",
            "\n",
            "Trying with pdq:(0, 0, 2) and s_pdq:(1, 0, 0, 12)\n",
            "Trying with pdq:(0, 0, 2) and s_pdq:(1, 0, 1, 12)\n"
          ]
        },
        {
          "name": "stderr",
          "output_type": "stream",
          "text": [
            "/usr/local/lib/python3.10/dist-packages/statsmodels/base/model.py:607: ConvergenceWarning: Maximum Likelihood optimization failed to converge. Check mle_retvals\n",
            "  warnings.warn(\"Maximum Likelihood optimization failed to \"\n"
          ]
        },
        {
          "name": "stdout",
          "output_type": "stream",
          "text": [
            "Trying with pdq:(0, 0, 2) and s_pdq:(1, 0, 2, 12)\n"
          ]
        },
        {
          "name": "stderr",
          "output_type": "stream",
          "text": [
            "/usr/local/lib/python3.10/dist-packages/statsmodels/base/model.py:607: ConvergenceWarning: Maximum Likelihood optimization failed to converge. Check mle_retvals\n",
            "  warnings.warn(\"Maximum Likelihood optimization failed to \"\n"
          ]
        },
        {
          "name": "stdout",
          "output_type": "stream",
          "text": [
            "Trying with pdq:(0, 0, 2) and s_pdq:(1, 1, 0, 12)\n",
            "Trying with pdq:(0, 0, 2) and s_pdq:(1, 1, 1, 12)\n",
            "Trying with pdq:(0, 0, 2) and s_pdq:(1, 1, 2, 12)\n"
          ]
        },
        {
          "name": "stderr",
          "output_type": "stream",
          "text": [
            "/usr/local/lib/python3.10/dist-packages/statsmodels/base/model.py:607: ConvergenceWarning: Maximum Likelihood optimization failed to converge. Check mle_retvals\n",
            "  warnings.warn(\"Maximum Likelihood optimization failed to \"\n"
          ]
        },
        {
          "name": "stdout",
          "output_type": "stream",
          "text": [
            "Trying with pdq:(0, 0, 2) and s_pdq:(1, 2, 0, 12)\n",
            "Trying with pdq:(0, 0, 2) and s_pdq:(1, 2, 1, 12)\n",
            "Trying with pdq:(0, 0, 2) and s_pdq:(1, 2, 2, 12)\n",
            "New parameters: pdq (0, 0, 2), s_pdq (1, 2, 2, 12) with aic: 17423.176712844994\n",
            "\n",
            "Trying with pdq:(0, 0, 2) and s_pdq:(2, 0, 0, 12)\n"
          ]
        },
        {
          "name": "stderr",
          "output_type": "stream",
          "text": [
            "/usr/local/lib/python3.10/dist-packages/statsmodels/base/model.py:607: ConvergenceWarning: Maximum Likelihood optimization failed to converge. Check mle_retvals\n",
            "  warnings.warn(\"Maximum Likelihood optimization failed to \"\n"
          ]
        },
        {
          "name": "stdout",
          "output_type": "stream",
          "text": [
            "Trying with pdq:(0, 0, 2) and s_pdq:(2, 0, 1, 12)\n"
          ]
        },
        {
          "name": "stderr",
          "output_type": "stream",
          "text": [
            "/usr/local/lib/python3.10/dist-packages/statsmodels/base/model.py:607: ConvergenceWarning: Maximum Likelihood optimization failed to converge. Check mle_retvals\n",
            "  warnings.warn(\"Maximum Likelihood optimization failed to \"\n"
          ]
        },
        {
          "name": "stdout",
          "output_type": "stream",
          "text": [
            "Trying with pdq:(0, 0, 2) and s_pdq:(2, 0, 2, 12)\n"
          ]
        },
        {
          "name": "stderr",
          "output_type": "stream",
          "text": [
            "/usr/local/lib/python3.10/dist-packages/statsmodels/base/model.py:607: ConvergenceWarning: Maximum Likelihood optimization failed to converge. Check mle_retvals\n",
            "  warnings.warn(\"Maximum Likelihood optimization failed to \"\n"
          ]
        },
        {
          "name": "stdout",
          "output_type": "stream",
          "text": [
            "Trying with pdq:(0, 0, 2) and s_pdq:(2, 1, 0, 12)\n",
            "Trying with pdq:(0, 0, 2) and s_pdq:(2, 1, 1, 12)\n",
            "Trying with pdq:(0, 0, 2) and s_pdq:(2, 1, 2, 12)\n"
          ]
        },
        {
          "name": "stderr",
          "output_type": "stream",
          "text": [
            "/usr/local/lib/python3.10/dist-packages/statsmodels/base/model.py:607: ConvergenceWarning: Maximum Likelihood optimization failed to converge. Check mle_retvals\n",
            "  warnings.warn(\"Maximum Likelihood optimization failed to \"\n"
          ]
        },
        {
          "name": "stdout",
          "output_type": "stream",
          "text": [
            "Trying with pdq:(0, 0, 2) and s_pdq:(2, 2, 0, 12)\n",
            "Trying with pdq:(0, 0, 2) and s_pdq:(2, 2, 1, 12)\n",
            "Trying with pdq:(0, 0, 2) and s_pdq:(2, 2, 2, 12)\n",
            "Trying with pdq:(0, 1, 0) and s_pdq:(0, 0, 0, 12)\n",
            "New parameters: pdq (0, 1, 0), s_pdq (0, 0, 0, 12) with aic: 16754.278158040695\n",
            "\n",
            "Trying with pdq:(0, 1, 0) and s_pdq:(0, 0, 1, 12)\n",
            "New parameters: pdq (0, 1, 0), s_pdq (0, 0, 1, 12) with aic: 16606.676237860935\n",
            "\n",
            "Trying with pdq:(0, 1, 0) and s_pdq:(0, 0, 2, 12)\n",
            "New parameters: pdq (0, 1, 0), s_pdq (0, 0, 2, 12) with aic: 16459.48679601041\n",
            "\n",
            "Trying with pdq:(0, 1, 0) and s_pdq:(0, 1, 0, 12)\n",
            "Trying with pdq:(0, 1, 0) and s_pdq:(0, 1, 1, 12)\n",
            "Trying with pdq:(0, 1, 0) and s_pdq:(0, 1, 2, 12)\n",
            "New parameters: pdq (0, 1, 0), s_pdq (0, 1, 2, 12) with aic: 16348.398368490805\n",
            "\n",
            "Trying with pdq:(0, 1, 0) and s_pdq:(0, 2, 0, 12)\n",
            "Trying with pdq:(0, 1, 0) and s_pdq:(0, 2, 1, 12)\n",
            "Trying with pdq:(0, 1, 0) and s_pdq:(0, 2, 2, 12)\n",
            "New parameters: pdq (0, 1, 0), s_pdq (0, 2, 2, 12) with aic: 16300.655778656263\n",
            "\n",
            "Trying with pdq:(0, 1, 0) and s_pdq:(1, 0, 0, 12)\n",
            "Trying with pdq:(0, 1, 0) and s_pdq:(1, 0, 1, 12)\n",
            "Trying with pdq:(0, 1, 0) and s_pdq:(1, 0, 2, 12)\n",
            "Trying with pdq:(0, 1, 0) and s_pdq:(1, 1, 0, 12)\n",
            "Trying with pdq:(0, 1, 0) and s_pdq:(1, 1, 1, 12)\n",
            "Trying with pdq:(0, 1, 0) and s_pdq:(1, 1, 2, 12)\n",
            "Trying with pdq:(0, 1, 0) and s_pdq:(1, 2, 0, 12)\n",
            "Trying with pdq:(0, 1, 0) and s_pdq:(1, 2, 1, 12)\n",
            "Trying with pdq:(0, 1, 0) and s_pdq:(1, 2, 2, 12)\n",
            "Trying with pdq:(0, 1, 0) and s_pdq:(2, 0, 0, 12)\n",
            "Trying with pdq:(0, 1, 0) and s_pdq:(2, 0, 1, 12)\n",
            "Trying with pdq:(0, 1, 0) and s_pdq:(2, 0, 2, 12)\n",
            "Trying with pdq:(0, 1, 0) and s_pdq:(2, 1, 0, 12)\n",
            "Trying with pdq:(0, 1, 0) and s_pdq:(2, 1, 1, 12)\n",
            "Trying with pdq:(0, 1, 0) and s_pdq:(2, 1, 2, 12)\n",
            "Trying with pdq:(0, 1, 0) and s_pdq:(2, 2, 0, 12)\n",
            "Trying with pdq:(0, 1, 0) and s_pdq:(2, 2, 1, 12)\n",
            "Trying with pdq:(0, 1, 0) and s_pdq:(2, 2, 2, 12)\n",
            "Trying with pdq:(0, 1, 1) and s_pdq:(0, 0, 0, 12)\n",
            "Trying with pdq:(0, 1, 1) and s_pdq:(0, 0, 1, 12)\n",
            "Trying with pdq:(0, 1, 1) and s_pdq:(0, 0, 2, 12)\n",
            "Trying with pdq:(0, 1, 1) and s_pdq:(0, 1, 0, 12)\n",
            "Trying with pdq:(0, 1, 1) and s_pdq:(0, 1, 1, 12)\n",
            "Trying with pdq:(0, 1, 1) and s_pdq:(0, 1, 2, 12)\n",
            "Trying with pdq:(0, 1, 1) and s_pdq:(0, 2, 0, 12)\n",
            "Trying with pdq:(0, 1, 1) and s_pdq:(0, 2, 1, 12)\n",
            "Trying with pdq:(0, 1, 1) and s_pdq:(0, 2, 2, 12)\n",
            "New parameters: pdq (0, 1, 1), s_pdq (0, 2, 2, 12) with aic: 16280.870345567593\n",
            "\n",
            "Trying with pdq:(0, 1, 1) and s_pdq:(1, 0, 0, 12)\n",
            "Trying with pdq:(0, 1, 1) and s_pdq:(1, 0, 1, 12)\n",
            "Trying with pdq:(0, 1, 1) and s_pdq:(1, 0, 2, 12)\n",
            "Trying with pdq:(0, 1, 1) and s_pdq:(1, 1, 0, 12)\n",
            "Trying with pdq:(0, 1, 1) and s_pdq:(1, 1, 1, 12)\n",
            "Trying with pdq:(0, 1, 1) and s_pdq:(1, 1, 2, 12)\n",
            "Trying with pdq:(0, 1, 1) and s_pdq:(1, 2, 0, 12)\n",
            "Trying with pdq:(0, 1, 1) and s_pdq:(1, 2, 1, 12)\n",
            "Trying with pdq:(0, 1, 1) and s_pdq:(1, 2, 2, 12)\n",
            "Trying with pdq:(0, 1, 1) and s_pdq:(2, 0, 0, 12)\n",
            "Trying with pdq:(0, 1, 1) and s_pdq:(2, 0, 1, 12)\n",
            "Trying with pdq:(0, 1, 1) and s_pdq:(2, 0, 2, 12)\n",
            "Trying with pdq:(0, 1, 1) and s_pdq:(2, 1, 0, 12)\n",
            "Trying with pdq:(0, 1, 1) and s_pdq:(2, 1, 1, 12)\n",
            "Trying with pdq:(0, 1, 1) and s_pdq:(2, 1, 2, 12)\n",
            "Trying with pdq:(0, 1, 1) and s_pdq:(2, 2, 0, 12)\n",
            "Trying with pdq:(0, 1, 1) and s_pdq:(2, 2, 1, 12)\n",
            "Trying with pdq:(0, 1, 1) and s_pdq:(2, 2, 2, 12)\n"
          ]
        },
        {
          "name": "stderr",
          "output_type": "stream",
          "text": [
            "/usr/local/lib/python3.10/dist-packages/statsmodels/base/model.py:607: ConvergenceWarning: Maximum Likelihood optimization failed to converge. Check mle_retvals\n",
            "  warnings.warn(\"Maximum Likelihood optimization failed to \"\n"
          ]
        },
        {
          "name": "stdout",
          "output_type": "stream",
          "text": [
            "Trying with pdq:(0, 1, 2) and s_pdq:(0, 0, 0, 12)\n",
            "Trying with pdq:(0, 1, 2) and s_pdq:(0, 0, 1, 12)\n",
            "Trying with pdq:(0, 1, 2) and s_pdq:(0, 0, 2, 12)\n",
            "Trying with pdq:(0, 1, 2) and s_pdq:(0, 1, 0, 12)\n",
            "Trying with pdq:(0, 1, 2) and s_pdq:(0, 1, 1, 12)\n",
            "Trying with pdq:(0, 1, 2) and s_pdq:(0, 1, 2, 12)\n",
            "Trying with pdq:(0, 1, 2) and s_pdq:(0, 2, 0, 12)\n",
            "Trying with pdq:(0, 1, 2) and s_pdq:(0, 2, 1, 12)\n",
            "Trying with pdq:(0, 1, 2) and s_pdq:(0, 2, 2, 12)\n",
            "New parameters: pdq (0, 1, 2), s_pdq (0, 2, 2, 12) with aic: 16270.13202981721\n",
            "\n",
            "Trying with pdq:(0, 1, 2) and s_pdq:(1, 0, 0, 12)\n",
            "Trying with pdq:(0, 1, 2) and s_pdq:(1, 0, 1, 12)\n",
            "Trying with pdq:(0, 1, 2) and s_pdq:(1, 0, 2, 12)\n",
            "Trying with pdq:(0, 1, 2) and s_pdq:(1, 1, 0, 12)\n",
            "Trying with pdq:(0, 1, 2) and s_pdq:(1, 1, 1, 12)\n",
            "Trying with pdq:(0, 1, 2) and s_pdq:(1, 1, 2, 12)\n",
            "Trying with pdq:(0, 1, 2) and s_pdq:(1, 2, 0, 12)\n",
            "Trying with pdq:(0, 1, 2) and s_pdq:(1, 2, 1, 12)\n",
            "Trying with pdq:(0, 1, 2) and s_pdq:(1, 2, 2, 12)\n"
          ]
        },
        {
          "name": "stderr",
          "output_type": "stream",
          "text": [
            "/usr/local/lib/python3.10/dist-packages/statsmodels/base/model.py:607: ConvergenceWarning: Maximum Likelihood optimization failed to converge. Check mle_retvals\n",
            "  warnings.warn(\"Maximum Likelihood optimization failed to \"\n"
          ]
        },
        {
          "name": "stdout",
          "output_type": "stream",
          "text": [
            "Trying with pdq:(0, 1, 2) and s_pdq:(2, 0, 0, 12)\n",
            "Trying with pdq:(0, 1, 2) and s_pdq:(2, 0, 1, 12)\n",
            "Trying with pdq:(0, 1, 2) and s_pdq:(2, 0, 2, 12)\n",
            "Trying with pdq:(0, 1, 2) and s_pdq:(2, 1, 0, 12)\n",
            "Trying with pdq:(0, 1, 2) and s_pdq:(2, 1, 1, 12)\n",
            "Trying with pdq:(0, 1, 2) and s_pdq:(2, 1, 2, 12)\n",
            "Trying with pdq:(0, 1, 2) and s_pdq:(2, 2, 0, 12)\n",
            "Trying with pdq:(0, 1, 2) and s_pdq:(2, 2, 1, 12)\n",
            "Trying with pdq:(0, 1, 2) and s_pdq:(2, 2, 2, 12)\n"
          ]
        },
        {
          "name": "stderr",
          "output_type": "stream",
          "text": [
            "/usr/local/lib/python3.10/dist-packages/statsmodels/base/model.py:607: ConvergenceWarning: Maximum Likelihood optimization failed to converge. Check mle_retvals\n",
            "  warnings.warn(\"Maximum Likelihood optimization failed to \"\n"
          ]
        },
        {
          "name": "stdout",
          "output_type": "stream",
          "text": [
            "Trying with pdq:(0, 2, 0) and s_pdq:(0, 0, 0, 12)\n",
            "Trying with pdq:(0, 2, 0) and s_pdq:(0, 0, 1, 12)\n",
            "Trying with pdq:(0, 2, 0) and s_pdq:(0, 0, 2, 12)\n",
            "Trying with pdq:(0, 2, 0) and s_pdq:(0, 1, 0, 12)\n",
            "Trying with pdq:(0, 2, 0) and s_pdq:(0, 1, 1, 12)\n",
            "Trying with pdq:(0, 2, 0) and s_pdq:(0, 1, 2, 12)\n",
            "Trying with pdq:(0, 2, 0) and s_pdq:(0, 2, 0, 12)\n",
            "Trying with pdq:(0, 2, 0) and s_pdq:(0, 2, 1, 12)\n",
            "Trying with pdq:(0, 2, 0) and s_pdq:(0, 2, 2, 12)\n",
            "Trying with pdq:(0, 2, 0) and s_pdq:(1, 0, 0, 12)\n",
            "Trying with pdq:(0, 2, 0) and s_pdq:(1, 0, 1, 12)\n",
            "Trying with pdq:(0, 2, 0) and s_pdq:(1, 0, 2, 12)\n",
            "Trying with pdq:(0, 2, 0) and s_pdq:(1, 1, 0, 12)\n",
            "Trying with pdq:(0, 2, 0) and s_pdq:(1, 1, 1, 12)\n",
            "Trying with pdq:(0, 2, 0) and s_pdq:(1, 1, 2, 12)\n",
            "Trying with pdq:(0, 2, 0) and s_pdq:(1, 2, 0, 12)\n",
            "Trying with pdq:(0, 2, 0) and s_pdq:(1, 2, 1, 12)\n",
            "Trying with pdq:(0, 2, 0) and s_pdq:(1, 2, 2, 12)\n",
            "Trying with pdq:(0, 2, 0) and s_pdq:(2, 0, 0, 12)\n",
            "Trying with pdq:(0, 2, 0) and s_pdq:(2, 0, 1, 12)\n",
            "Trying with pdq:(0, 2, 0) and s_pdq:(2, 0, 2, 12)\n",
            "Trying with pdq:(0, 2, 0) and s_pdq:(2, 1, 0, 12)\n",
            "Trying with pdq:(0, 2, 0) and s_pdq:(2, 1, 1, 12)\n",
            "Trying with pdq:(0, 2, 0) and s_pdq:(2, 1, 2, 12)\n",
            "Trying with pdq:(0, 2, 0) and s_pdq:(2, 2, 0, 12)\n",
            "Trying with pdq:(0, 2, 0) and s_pdq:(2, 2, 1, 12)\n",
            "Trying with pdq:(0, 2, 0) and s_pdq:(2, 2, 2, 12)\n"
          ]
        },
        {
          "name": "stderr",
          "output_type": "stream",
          "text": [
            "/usr/local/lib/python3.10/dist-packages/statsmodels/base/model.py:607: ConvergenceWarning: Maximum Likelihood optimization failed to converge. Check mle_retvals\n",
            "  warnings.warn(\"Maximum Likelihood optimization failed to \"\n"
          ]
        },
        {
          "name": "stdout",
          "output_type": "stream",
          "text": [
            "Trying with pdq:(0, 2, 1) and s_pdq:(0, 0, 0, 12)\n",
            "Trying with pdq:(0, 2, 1) and s_pdq:(0, 0, 1, 12)\n",
            "Trying with pdq:(0, 2, 1) and s_pdq:(0, 0, 2, 12)\n",
            "Trying with pdq:(0, 2, 1) and s_pdq:(0, 1, 0, 12)\n",
            "Trying with pdq:(0, 2, 1) and s_pdq:(0, 1, 1, 12)\n",
            "Trying with pdq:(0, 2, 1) and s_pdq:(0, 1, 2, 12)\n",
            "Trying with pdq:(0, 2, 1) and s_pdq:(0, 2, 0, 12)\n",
            "Trying with pdq:(0, 2, 1) and s_pdq:(0, 2, 1, 12)\n",
            "Trying with pdq:(0, 2, 1) and s_pdq:(0, 2, 2, 12)\n",
            "Trying with pdq:(0, 2, 1) and s_pdq:(1, 0, 0, 12)\n",
            "Trying with pdq:(0, 2, 1) and s_pdq:(1, 0, 1, 12)\n",
            "Trying with pdq:(0, 2, 1) and s_pdq:(1, 0, 2, 12)\n"
          ]
        },
        {
          "name": "stderr",
          "output_type": "stream",
          "text": [
            "/usr/local/lib/python3.10/dist-packages/statsmodels/base/model.py:607: ConvergenceWarning: Maximum Likelihood optimization failed to converge. Check mle_retvals\n",
            "  warnings.warn(\"Maximum Likelihood optimization failed to \"\n"
          ]
        },
        {
          "name": "stdout",
          "output_type": "stream",
          "text": [
            "Trying with pdq:(0, 2, 1) and s_pdq:(1, 1, 0, 12)\n",
            "Trying with pdq:(0, 2, 1) and s_pdq:(1, 1, 1, 12)\n",
            "Trying with pdq:(0, 2, 1) and s_pdq:(1, 1, 2, 12)\n",
            "Trying with pdq:(0, 2, 1) and s_pdq:(1, 2, 0, 12)\n",
            "Trying with pdq:(0, 2, 1) and s_pdq:(1, 2, 1, 12)\n",
            "Trying with pdq:(0, 2, 1) and s_pdq:(1, 2, 2, 12)\n"
          ]
        },
        {
          "name": "stderr",
          "output_type": "stream",
          "text": [
            "/usr/local/lib/python3.10/dist-packages/statsmodels/base/model.py:607: ConvergenceWarning: Maximum Likelihood optimization failed to converge. Check mle_retvals\n",
            "  warnings.warn(\"Maximum Likelihood optimization failed to \"\n"
          ]
        },
        {
          "name": "stdout",
          "output_type": "stream",
          "text": [
            "Trying with pdq:(0, 2, 1) and s_pdq:(2, 0, 0, 12)\n",
            "Trying with pdq:(0, 2, 1) and s_pdq:(2, 0, 1, 12)\n",
            "Trying with pdq:(0, 2, 1) and s_pdq:(2, 0, 2, 12)\n"
          ]
        },
        {
          "name": "stderr",
          "output_type": "stream",
          "text": [
            "/usr/local/lib/python3.10/dist-packages/statsmodels/base/model.py:607: ConvergenceWarning: Maximum Likelihood optimization failed to converge. Check mle_retvals\n",
            "  warnings.warn(\"Maximum Likelihood optimization failed to \"\n"
          ]
        },
        {
          "name": "stdout",
          "output_type": "stream",
          "text": [
            "Trying with pdq:(0, 2, 1) and s_pdq:(2, 1, 0, 12)\n",
            "Trying with pdq:(0, 2, 1) and s_pdq:(2, 1, 1, 12)\n",
            "Trying with pdq:(0, 2, 1) and s_pdq:(2, 1, 2, 12)\n"
          ]
        },
        {
          "name": "stderr",
          "output_type": "stream",
          "text": [
            "/usr/local/lib/python3.10/dist-packages/statsmodels/base/model.py:607: ConvergenceWarning: Maximum Likelihood optimization failed to converge. Check mle_retvals\n",
            "  warnings.warn(\"Maximum Likelihood optimization failed to \"\n"
          ]
        },
        {
          "name": "stdout",
          "output_type": "stream",
          "text": [
            "Trying with pdq:(0, 2, 1) and s_pdq:(2, 2, 0, 12)\n",
            "Trying with pdq:(0, 2, 1) and s_pdq:(2, 2, 1, 12)\n",
            "Trying with pdq:(0, 2, 1) and s_pdq:(2, 2, 2, 12)\n"
          ]
        },
        {
          "name": "stderr",
          "output_type": "stream",
          "text": [
            "/usr/local/lib/python3.10/dist-packages/statsmodels/base/model.py:607: ConvergenceWarning: Maximum Likelihood optimization failed to converge. Check mle_retvals\n",
            "  warnings.warn(\"Maximum Likelihood optimization failed to \"\n"
          ]
        },
        {
          "name": "stdout",
          "output_type": "stream",
          "text": [
            "Trying with pdq:(0, 2, 2) and s_pdq:(0, 0, 0, 12)\n",
            "Trying with pdq:(0, 2, 2) and s_pdq:(0, 0, 1, 12)\n",
            "Trying with pdq:(0, 2, 2) and s_pdq:(0, 0, 2, 12)\n",
            "Trying with pdq:(0, 2, 2) and s_pdq:(0, 1, 0, 12)\n",
            "Trying with pdq:(0, 2, 2) and s_pdq:(0, 1, 1, 12)\n",
            "Trying with pdq:(0, 2, 2) and s_pdq:(0, 1, 2, 12)\n",
            "Trying with pdq:(0, 2, 2) and s_pdq:(0, 2, 0, 12)\n",
            "Trying with pdq:(0, 2, 2) and s_pdq:(0, 2, 1, 12)\n",
            "Trying with pdq:(0, 2, 2) and s_pdq:(0, 2, 2, 12)\n"
          ]
        },
        {
          "name": "stderr",
          "output_type": "stream",
          "text": [
            "/usr/local/lib/python3.10/dist-packages/statsmodels/base/model.py:607: ConvergenceWarning: Maximum Likelihood optimization failed to converge. Check mle_retvals\n",
            "  warnings.warn(\"Maximum Likelihood optimization failed to \"\n"
          ]
        },
        {
          "name": "stdout",
          "output_type": "stream",
          "text": [
            "New parameters: pdq (0, 2, 2), s_pdq (0, 2, 2, 12) with aic: 16269.530239805135\n",
            "\n",
            "Trying with pdq:(0, 2, 2) and s_pdq:(1, 0, 0, 12)\n",
            "Trying with pdq:(0, 2, 2) and s_pdq:(1, 0, 1, 12)\n",
            "Trying with pdq:(0, 2, 2) and s_pdq:(1, 0, 2, 12)\n"
          ]
        },
        {
          "name": "stderr",
          "output_type": "stream",
          "text": [
            "/usr/local/lib/python3.10/dist-packages/statsmodels/base/model.py:607: ConvergenceWarning: Maximum Likelihood optimization failed to converge. Check mle_retvals\n",
            "  warnings.warn(\"Maximum Likelihood optimization failed to \"\n"
          ]
        },
        {
          "name": "stdout",
          "output_type": "stream",
          "text": [
            "Trying with pdq:(0, 2, 2) and s_pdq:(1, 1, 0, 12)\n",
            "Trying with pdq:(0, 2, 2) and s_pdq:(1, 1, 1, 12)\n",
            "Trying with pdq:(0, 2, 2) and s_pdq:(1, 1, 2, 12)\n"
          ]
        },
        {
          "name": "stderr",
          "output_type": "stream",
          "text": [
            "/usr/local/lib/python3.10/dist-packages/statsmodels/base/model.py:607: ConvergenceWarning: Maximum Likelihood optimization failed to converge. Check mle_retvals\n",
            "  warnings.warn(\"Maximum Likelihood optimization failed to \"\n"
          ]
        },
        {
          "name": "stdout",
          "output_type": "stream",
          "text": [
            "Trying with pdq:(0, 2, 2) and s_pdq:(1, 2, 0, 12)\n",
            "Trying with pdq:(0, 2, 2) and s_pdq:(1, 2, 1, 12)\n",
            "Trying with pdq:(0, 2, 2) and s_pdq:(1, 2, 2, 12)\n"
          ]
        },
        {
          "name": "stderr",
          "output_type": "stream",
          "text": [
            "/usr/local/lib/python3.10/dist-packages/statsmodels/base/model.py:607: ConvergenceWarning: Maximum Likelihood optimization failed to converge. Check mle_retvals\n",
            "  warnings.warn(\"Maximum Likelihood optimization failed to \"\n"
          ]
        },
        {
          "name": "stdout",
          "output_type": "stream",
          "text": [
            "Trying with pdq:(0, 2, 2) and s_pdq:(2, 0, 0, 12)\n",
            "Trying with pdq:(0, 2, 2) and s_pdq:(2, 0, 1, 12)\n",
            "Trying with pdq:(0, 2, 2) and s_pdq:(2, 0, 2, 12)\n"
          ]
        },
        {
          "name": "stderr",
          "output_type": "stream",
          "text": [
            "/usr/local/lib/python3.10/dist-packages/statsmodels/base/model.py:607: ConvergenceWarning: Maximum Likelihood optimization failed to converge. Check mle_retvals\n",
            "  warnings.warn(\"Maximum Likelihood optimization failed to \"\n"
          ]
        },
        {
          "name": "stdout",
          "output_type": "stream",
          "text": [
            "Trying with pdq:(0, 2, 2) and s_pdq:(2, 1, 0, 12)\n"
          ]
        },
        {
          "name": "stderr",
          "output_type": "stream",
          "text": [
            "/usr/local/lib/python3.10/dist-packages/statsmodels/base/model.py:607: ConvergenceWarning: Maximum Likelihood optimization failed to converge. Check mle_retvals\n",
            "  warnings.warn(\"Maximum Likelihood optimization failed to \"\n"
          ]
        },
        {
          "name": "stdout",
          "output_type": "stream",
          "text": [
            "Trying with pdq:(0, 2, 2) and s_pdq:(2, 1, 1, 12)\n",
            "Trying with pdq:(0, 2, 2) and s_pdq:(2, 1, 2, 12)\n"
          ]
        },
        {
          "name": "stderr",
          "output_type": "stream",
          "text": [
            "/usr/local/lib/python3.10/dist-packages/statsmodels/base/model.py:607: ConvergenceWarning: Maximum Likelihood optimization failed to converge. Check mle_retvals\n",
            "  warnings.warn(\"Maximum Likelihood optimization failed to \"\n"
          ]
        },
        {
          "name": "stdout",
          "output_type": "stream",
          "text": [
            "Trying with pdq:(0, 2, 2) and s_pdq:(2, 2, 0, 12)\n",
            "Trying with pdq:(0, 2, 2) and s_pdq:(2, 2, 1, 12)\n"
          ]
        },
        {
          "name": "stderr",
          "output_type": "stream",
          "text": [
            "/usr/local/lib/python3.10/dist-packages/statsmodels/base/model.py:607: ConvergenceWarning: Maximum Likelihood optimization failed to converge. Check mle_retvals\n",
            "  warnings.warn(\"Maximum Likelihood optimization failed to \"\n"
          ]
        },
        {
          "name": "stdout",
          "output_type": "stream",
          "text": [
            "Trying with pdq:(0, 2, 2) and s_pdq:(2, 2, 2, 12)\n"
          ]
        },
        {
          "name": "stderr",
          "output_type": "stream",
          "text": [
            "/usr/local/lib/python3.10/dist-packages/statsmodels/base/model.py:607: ConvergenceWarning: Maximum Likelihood optimization failed to converge. Check mle_retvals\n",
            "  warnings.warn(\"Maximum Likelihood optimization failed to \"\n"
          ]
        },
        {
          "name": "stdout",
          "output_type": "stream",
          "text": [
            "Trying with pdq:(1, 0, 0) and s_pdq:(0, 0, 0, 12)\n",
            "Trying with pdq:(1, 0, 0) and s_pdq:(0, 0, 1, 12)\n",
            "Trying with pdq:(1, 0, 0) and s_pdq:(0, 0, 2, 12)\n",
            "Trying with pdq:(1, 0, 0) and s_pdq:(0, 1, 0, 12)\n",
            "Trying with pdq:(1, 0, 0) and s_pdq:(0, 1, 1, 12)\n",
            "Trying with pdq:(1, 0, 0) and s_pdq:(0, 1, 2, 12)\n",
            "Trying with pdq:(1, 0, 0) and s_pdq:(0, 2, 0, 12)\n",
            "Trying with pdq:(1, 0, 0) and s_pdq:(0, 2, 1, 12)\n",
            "Trying with pdq:(1, 0, 0) and s_pdq:(0, 2, 2, 12)\n",
            "Trying with pdq:(1, 0, 0) and s_pdq:(1, 0, 0, 12)\n",
            "Trying with pdq:(1, 0, 0) and s_pdq:(1, 0, 1, 12)\n",
            "Trying with pdq:(1, 0, 0) and s_pdq:(1, 0, 2, 12)\n",
            "Trying with pdq:(1, 0, 0) and s_pdq:(1, 1, 0, 12)\n",
            "Trying with pdq:(1, 0, 0) and s_pdq:(1, 1, 1, 12)\n",
            "Trying with pdq:(1, 0, 0) and s_pdq:(1, 1, 2, 12)\n"
          ]
        },
        {
          "name": "stderr",
          "output_type": "stream",
          "text": [
            "/usr/local/lib/python3.10/dist-packages/statsmodels/base/model.py:607: ConvergenceWarning: Maximum Likelihood optimization failed to converge. Check mle_retvals\n",
            "  warnings.warn(\"Maximum Likelihood optimization failed to \"\n"
          ]
        },
        {
          "name": "stdout",
          "output_type": "stream",
          "text": [
            "Trying with pdq:(1, 0, 0) and s_pdq:(1, 2, 0, 12)\n",
            "Trying with pdq:(1, 0, 0) and s_pdq:(1, 2, 1, 12)\n",
            "Trying with pdq:(1, 0, 0) and s_pdq:(1, 2, 2, 12)\n",
            "Trying with pdq:(1, 0, 0) and s_pdq:(2, 0, 0, 12)\n",
            "Trying with pdq:(1, 0, 0) and s_pdq:(2, 0, 1, 12)\n",
            "Trying with pdq:(1, 0, 0) and s_pdq:(2, 0, 2, 12)\n"
          ]
        },
        {
          "name": "stderr",
          "output_type": "stream",
          "text": [
            "/usr/local/lib/python3.10/dist-packages/statsmodels/base/model.py:607: ConvergenceWarning: Maximum Likelihood optimization failed to converge. Check mle_retvals\n",
            "  warnings.warn(\"Maximum Likelihood optimization failed to \"\n"
          ]
        },
        {
          "name": "stdout",
          "output_type": "stream",
          "text": [
            "Trying with pdq:(1, 0, 0) and s_pdq:(2, 1, 0, 12)\n",
            "Trying with pdq:(1, 0, 0) and s_pdq:(2, 1, 1, 12)\n",
            "Trying with pdq:(1, 0, 0) and s_pdq:(2, 1, 2, 12)\n"
          ]
        },
        {
          "name": "stderr",
          "output_type": "stream",
          "text": [
            "/usr/local/lib/python3.10/dist-packages/statsmodels/base/model.py:607: ConvergenceWarning: Maximum Likelihood optimization failed to converge. Check mle_retvals\n",
            "  warnings.warn(\"Maximum Likelihood optimization failed to \"\n"
          ]
        },
        {
          "name": "stdout",
          "output_type": "stream",
          "text": [
            "Trying with pdq:(1, 0, 0) and s_pdq:(2, 2, 0, 12)\n",
            "Trying with pdq:(1, 0, 0) and s_pdq:(2, 2, 1, 12)\n",
            "Trying with pdq:(1, 0, 0) and s_pdq:(2, 2, 2, 12)\n"
          ]
        },
        {
          "name": "stderr",
          "output_type": "stream",
          "text": [
            "/usr/local/lib/python3.10/dist-packages/statsmodels/base/model.py:607: ConvergenceWarning: Maximum Likelihood optimization failed to converge. Check mle_retvals\n",
            "  warnings.warn(\"Maximum Likelihood optimization failed to \"\n"
          ]
        },
        {
          "name": "stdout",
          "output_type": "stream",
          "text": [
            "Trying with pdq:(1, 0, 1) and s_pdq:(0, 0, 0, 12)\n",
            "Trying with pdq:(1, 0, 1) and s_pdq:(0, 0, 1, 12)\n",
            "Trying with pdq:(1, 0, 1) and s_pdq:(0, 0, 2, 12)\n",
            "Trying with pdq:(1, 0, 1) and s_pdq:(0, 1, 0, 12)\n",
            "Trying with pdq:(1, 0, 1) and s_pdq:(0, 1, 1, 12)\n",
            "Trying with pdq:(1, 0, 1) and s_pdq:(0, 1, 2, 12)\n",
            "Trying with pdq:(1, 0, 1) and s_pdq:(0, 2, 0, 12)\n",
            "Trying with pdq:(1, 0, 1) and s_pdq:(0, 2, 1, 12)\n",
            "Trying with pdq:(1, 0, 1) and s_pdq:(0, 2, 2, 12)\n",
            "Trying with pdq:(1, 0, 1) and s_pdq:(1, 0, 0, 12)\n",
            "Trying with pdq:(1, 0, 1) and s_pdq:(1, 0, 1, 12)\n"
          ]
        },
        {
          "name": "stderr",
          "output_type": "stream",
          "text": [
            "/usr/local/lib/python3.10/dist-packages/statsmodels/base/model.py:607: ConvergenceWarning: Maximum Likelihood optimization failed to converge. Check mle_retvals\n",
            "  warnings.warn(\"Maximum Likelihood optimization failed to \"\n"
          ]
        },
        {
          "name": "stdout",
          "output_type": "stream",
          "text": [
            "Trying with pdq:(1, 0, 1) and s_pdq:(1, 0, 2, 12)\n"
          ]
        },
        {
          "name": "stderr",
          "output_type": "stream",
          "text": [
            "/usr/local/lib/python3.10/dist-packages/statsmodels/base/model.py:607: ConvergenceWarning: Maximum Likelihood optimization failed to converge. Check mle_retvals\n",
            "  warnings.warn(\"Maximum Likelihood optimization failed to \"\n"
          ]
        },
        {
          "name": "stdout",
          "output_type": "stream",
          "text": [
            "Trying with pdq:(1, 0, 1) and s_pdq:(1, 1, 0, 12)\n",
            "Trying with pdq:(1, 0, 1) and s_pdq:(1, 1, 1, 12)\n",
            "Trying with pdq:(1, 0, 1) and s_pdq:(1, 1, 2, 12)\n"
          ]
        },
        {
          "name": "stderr",
          "output_type": "stream",
          "text": [
            "/usr/local/lib/python3.10/dist-packages/statsmodels/base/model.py:607: ConvergenceWarning: Maximum Likelihood optimization failed to converge. Check mle_retvals\n",
            "  warnings.warn(\"Maximum Likelihood optimization failed to \"\n"
          ]
        },
        {
          "name": "stdout",
          "output_type": "stream",
          "text": [
            "Trying with pdq:(1, 0, 1) and s_pdq:(1, 2, 0, 12)\n",
            "Trying with pdq:(1, 0, 1) and s_pdq:(1, 2, 1, 12)\n",
            "Trying with pdq:(1, 0, 1) and s_pdq:(1, 2, 2, 12)\n"
          ]
        },
        {
          "name": "stderr",
          "output_type": "stream",
          "text": [
            "/usr/local/lib/python3.10/dist-packages/statsmodels/base/model.py:607: ConvergenceWarning: Maximum Likelihood optimization failed to converge. Check mle_retvals\n",
            "  warnings.warn(\"Maximum Likelihood optimization failed to \"\n"
          ]
        },
        {
          "name": "stdout",
          "output_type": "stream",
          "text": [
            "Trying with pdq:(1, 0, 1) and s_pdq:(2, 0, 0, 12)\n",
            "Trying with pdq:(1, 0, 1) and s_pdq:(2, 0, 1, 12)\n",
            "Trying with pdq:(1, 0, 1) and s_pdq:(2, 0, 2, 12)\n",
            "Trying with pdq:(1, 0, 1) and s_pdq:(2, 1, 0, 12)\n",
            "Trying with pdq:(1, 0, 1) and s_pdq:(2, 1, 1, 12)\n"
          ]
        },
        {
          "name": "stderr",
          "output_type": "stream",
          "text": [
            "/usr/local/lib/python3.10/dist-packages/statsmodels/base/model.py:607: ConvergenceWarning: Maximum Likelihood optimization failed to converge. Check mle_retvals\n",
            "  warnings.warn(\"Maximum Likelihood optimization failed to \"\n"
          ]
        },
        {
          "name": "stdout",
          "output_type": "stream",
          "text": [
            "Trying with pdq:(1, 0, 1) and s_pdq:(2, 1, 2, 12)\n"
          ]
        },
        {
          "name": "stderr",
          "output_type": "stream",
          "text": [
            "/usr/local/lib/python3.10/dist-packages/statsmodels/base/model.py:607: ConvergenceWarning: Maximum Likelihood optimization failed to converge. Check mle_retvals\n",
            "  warnings.warn(\"Maximum Likelihood optimization failed to \"\n"
          ]
        },
        {
          "name": "stdout",
          "output_type": "stream",
          "text": [
            "Trying with pdq:(1, 0, 1) and s_pdq:(2, 2, 0, 12)\n",
            "Trying with pdq:(1, 0, 1) and s_pdq:(2, 2, 1, 12)\n",
            "Trying with pdq:(1, 0, 1) and s_pdq:(2, 2, 2, 12)\n"
          ]
        },
        {
          "name": "stderr",
          "output_type": "stream",
          "text": [
            "/usr/local/lib/python3.10/dist-packages/statsmodels/base/model.py:607: ConvergenceWarning: Maximum Likelihood optimization failed to converge. Check mle_retvals\n",
            "  warnings.warn(\"Maximum Likelihood optimization failed to \"\n"
          ]
        },
        {
          "name": "stdout",
          "output_type": "stream",
          "text": [
            "Trying with pdq:(1, 0, 2) and s_pdq:(0, 0, 0, 12)\n",
            "Trying with pdq:(1, 0, 2) and s_pdq:(0, 0, 1, 12)\n",
            "Trying with pdq:(1, 0, 2) and s_pdq:(0, 0, 2, 12)\n",
            "Trying with pdq:(1, 0, 2) and s_pdq:(0, 1, 0, 12)\n",
            "Trying with pdq:(1, 0, 2) and s_pdq:(0, 1, 1, 12)\n",
            "Trying with pdq:(1, 0, 2) and s_pdq:(0, 1, 2, 12)\n",
            "Trying with pdq:(1, 0, 2) and s_pdq:(0, 2, 0, 12)\n",
            "Trying with pdq:(1, 0, 2) and s_pdq:(0, 2, 1, 12)\n",
            "Trying with pdq:(1, 0, 2) and s_pdq:(0, 2, 2, 12)\n"
          ]
        },
        {
          "name": "stderr",
          "output_type": "stream",
          "text": [
            "/usr/local/lib/python3.10/dist-packages/statsmodels/base/model.py:607: ConvergenceWarning: Maximum Likelihood optimization failed to converge. Check mle_retvals\n",
            "  warnings.warn(\"Maximum Likelihood optimization failed to \"\n"
          ]
        },
        {
          "name": "stdout",
          "output_type": "stream",
          "text": [
            "Trying with pdq:(1, 0, 2) and s_pdq:(1, 0, 0, 12)\n",
            "Trying with pdq:(1, 0, 2) and s_pdq:(1, 0, 1, 12)\n",
            "Trying with pdq:(1, 0, 2) and s_pdq:(1, 0, 2, 12)\n",
            "Trying with pdq:(1, 0, 2) and s_pdq:(1, 1, 0, 12)\n",
            "Trying with pdq:(1, 0, 2) and s_pdq:(1, 1, 1, 12)\n"
          ]
        },
        {
          "name": "stderr",
          "output_type": "stream",
          "text": [
            "/usr/local/lib/python3.10/dist-packages/statsmodels/base/model.py:607: ConvergenceWarning: Maximum Likelihood optimization failed to converge. Check mle_retvals\n",
            "  warnings.warn(\"Maximum Likelihood optimization failed to \"\n"
          ]
        },
        {
          "name": "stdout",
          "output_type": "stream",
          "text": [
            "Trying with pdq:(1, 0, 2) and s_pdq:(1, 1, 2, 12)\n"
          ]
        },
        {
          "name": "stderr",
          "output_type": "stream",
          "text": [
            "/usr/local/lib/python3.10/dist-packages/statsmodels/base/model.py:607: ConvergenceWarning: Maximum Likelihood optimization failed to converge. Check mle_retvals\n",
            "  warnings.warn(\"Maximum Likelihood optimization failed to \"\n"
          ]
        },
        {
          "name": "stdout",
          "output_type": "stream",
          "text": [
            "Trying with pdq:(1, 0, 2) and s_pdq:(1, 2, 0, 12)\n",
            "Trying with pdq:(1, 0, 2) and s_pdq:(1, 2, 1, 12)\n",
            "Trying with pdq:(1, 0, 2) and s_pdq:(1, 2, 2, 12)\n"
          ]
        },
        {
          "name": "stderr",
          "output_type": "stream",
          "text": [
            "/usr/local/lib/python3.10/dist-packages/statsmodels/base/model.py:607: ConvergenceWarning: Maximum Likelihood optimization failed to converge. Check mle_retvals\n",
            "  warnings.warn(\"Maximum Likelihood optimization failed to \"\n"
          ]
        },
        {
          "name": "stdout",
          "output_type": "stream",
          "text": [
            "Trying with pdq:(1, 0, 2) and s_pdq:(2, 0, 0, 12)\n",
            "Trying with pdq:(1, 0, 2) and s_pdq:(2, 0, 1, 12)\n",
            "Trying with pdq:(1, 0, 2) and s_pdq:(2, 0, 2, 12)\n"
          ]
        },
        {
          "name": "stderr",
          "output_type": "stream",
          "text": [
            "/usr/local/lib/python3.10/dist-packages/statsmodels/base/model.py:607: ConvergenceWarning: Maximum Likelihood optimization failed to converge. Check mle_retvals\n",
            "  warnings.warn(\"Maximum Likelihood optimization failed to \"\n"
          ]
        },
        {
          "name": "stdout",
          "output_type": "stream",
          "text": [
            "Trying with pdq:(1, 0, 2) and s_pdq:(2, 1, 0, 12)\n",
            "Trying with pdq:(1, 0, 2) and s_pdq:(2, 1, 1, 12)\n"
          ]
        },
        {
          "name": "stderr",
          "output_type": "stream",
          "text": [
            "/usr/local/lib/python3.10/dist-packages/statsmodels/base/model.py:607: ConvergenceWarning: Maximum Likelihood optimization failed to converge. Check mle_retvals\n",
            "  warnings.warn(\"Maximum Likelihood optimization failed to \"\n"
          ]
        },
        {
          "name": "stdout",
          "output_type": "stream",
          "text": [
            "Trying with pdq:(1, 0, 2) and s_pdq:(2, 1, 2, 12)\n"
          ]
        },
        {
          "name": "stderr",
          "output_type": "stream",
          "text": [
            "/usr/local/lib/python3.10/dist-packages/statsmodels/base/model.py:607: ConvergenceWarning: Maximum Likelihood optimization failed to converge. Check mle_retvals\n",
            "  warnings.warn(\"Maximum Likelihood optimization failed to \"\n"
          ]
        },
        {
          "name": "stdout",
          "output_type": "stream",
          "text": [
            "Trying with pdq:(1, 0, 2) and s_pdq:(2, 2, 0, 12)\n",
            "Trying with pdq:(1, 0, 2) and s_pdq:(2, 2, 1, 12)\n",
            "Trying with pdq:(1, 0, 2) and s_pdq:(2, 2, 2, 12)\n"
          ]
        },
        {
          "name": "stderr",
          "output_type": "stream",
          "text": [
            "/usr/local/lib/python3.10/dist-packages/statsmodels/base/model.py:607: ConvergenceWarning: Maximum Likelihood optimization failed to converge. Check mle_retvals\n",
            "  warnings.warn(\"Maximum Likelihood optimization failed to \"\n"
          ]
        },
        {
          "name": "stdout",
          "output_type": "stream",
          "text": [
            "Trying with pdq:(1, 1, 0) and s_pdq:(0, 0, 0, 12)\n",
            "Trying with pdq:(1, 1, 0) and s_pdq:(0, 0, 1, 12)\n",
            "Trying with pdq:(1, 1, 0) and s_pdq:(0, 0, 2, 12)\n",
            "Trying with pdq:(1, 1, 0) and s_pdq:(0, 1, 0, 12)\n",
            "Trying with pdq:(1, 1, 0) and s_pdq:(0, 1, 1, 12)\n",
            "Trying with pdq:(1, 1, 0) and s_pdq:(0, 1, 2, 12)\n",
            "Trying with pdq:(1, 1, 0) and s_pdq:(0, 2, 0, 12)\n",
            "Trying with pdq:(1, 1, 0) and s_pdq:(0, 2, 1, 12)\n",
            "Trying with pdq:(1, 1, 0) and s_pdq:(0, 2, 2, 12)\n",
            "Trying with pdq:(1, 1, 0) and s_pdq:(1, 0, 0, 12)\n",
            "Trying with pdq:(1, 1, 0) and s_pdq:(1, 0, 1, 12)\n",
            "Trying with pdq:(1, 1, 0) and s_pdq:(1, 0, 2, 12)\n",
            "Trying with pdq:(1, 1, 0) and s_pdq:(1, 1, 0, 12)\n",
            "Trying with pdq:(1, 1, 0) and s_pdq:(1, 1, 1, 12)\n",
            "Trying with pdq:(1, 1, 0) and s_pdq:(1, 1, 2, 12)\n",
            "Trying with pdq:(1, 1, 0) and s_pdq:(1, 2, 0, 12)\n",
            "Trying with pdq:(1, 1, 0) and s_pdq:(1, 2, 1, 12)\n",
            "Trying with pdq:(1, 1, 0) and s_pdq:(1, 2, 2, 12)\n"
          ]
        },
        {
          "name": "stderr",
          "output_type": "stream",
          "text": [
            "/usr/local/lib/python3.10/dist-packages/statsmodels/base/model.py:607: ConvergenceWarning: Maximum Likelihood optimization failed to converge. Check mle_retvals\n",
            "  warnings.warn(\"Maximum Likelihood optimization failed to \"\n"
          ]
        },
        {
          "name": "stdout",
          "output_type": "stream",
          "text": [
            "Trying with pdq:(1, 1, 0) and s_pdq:(2, 0, 0, 12)\n",
            "Trying with pdq:(1, 1, 0) and s_pdq:(2, 0, 1, 12)\n",
            "Trying with pdq:(1, 1, 0) and s_pdq:(2, 0, 2, 12)\n",
            "Trying with pdq:(1, 1, 0) and s_pdq:(2, 1, 0, 12)\n",
            "Trying with pdq:(1, 1, 0) and s_pdq:(2, 1, 1, 12)\n",
            "Trying with pdq:(1, 1, 0) and s_pdq:(2, 1, 2, 12)\n",
            "Trying with pdq:(1, 1, 0) and s_pdq:(2, 2, 0, 12)\n",
            "Trying with pdq:(1, 1, 0) and s_pdq:(2, 2, 1, 12)\n",
            "Trying with pdq:(1, 1, 0) and s_pdq:(2, 2, 2, 12)\n"
          ]
        },
        {
          "name": "stderr",
          "output_type": "stream",
          "text": [
            "/usr/local/lib/python3.10/dist-packages/statsmodels/base/model.py:607: ConvergenceWarning: Maximum Likelihood optimization failed to converge. Check mle_retvals\n",
            "  warnings.warn(\"Maximum Likelihood optimization failed to \"\n"
          ]
        },
        {
          "name": "stdout",
          "output_type": "stream",
          "text": [
            "Trying with pdq:(1, 1, 1) and s_pdq:(0, 0, 0, 12)\n",
            "Trying with pdq:(1, 1, 1) and s_pdq:(0, 0, 1, 12)\n",
            "Trying with pdq:(1, 1, 1) and s_pdq:(0, 0, 2, 12)\n",
            "Trying with pdq:(1, 1, 1) and s_pdq:(0, 1, 0, 12)\n",
            "Trying with pdq:(1, 1, 1) and s_pdq:(0, 1, 1, 12)\n",
            "Trying with pdq:(1, 1, 1) and s_pdq:(0, 1, 2, 12)\n"
          ]
        },
        {
          "name": "stderr",
          "output_type": "stream",
          "text": [
            "/usr/local/lib/python3.10/dist-packages/statsmodels/base/model.py:607: ConvergenceWarning: Maximum Likelihood optimization failed to converge. Check mle_retvals\n",
            "  warnings.warn(\"Maximum Likelihood optimization failed to \"\n"
          ]
        },
        {
          "name": "stdout",
          "output_type": "stream",
          "text": [
            "Trying with pdq:(1, 1, 1) and s_pdq:(0, 2, 0, 12)\n",
            "Trying with pdq:(1, 1, 1) and s_pdq:(0, 2, 1, 12)\n"
          ]
        },
        {
          "name": "stderr",
          "output_type": "stream",
          "text": [
            "/usr/local/lib/python3.10/dist-packages/statsmodels/base/model.py:607: ConvergenceWarning: Maximum Likelihood optimization failed to converge. Check mle_retvals\n",
            "  warnings.warn(\"Maximum Likelihood optimization failed to \"\n"
          ]
        },
        {
          "name": "stdout",
          "output_type": "stream",
          "text": [
            "Trying with pdq:(1, 1, 1) and s_pdq:(0, 2, 2, 12)\n",
            "Trying with pdq:(1, 1, 1) and s_pdq:(1, 0, 0, 12)\n",
            "Trying with pdq:(1, 1, 1) and s_pdq:(1, 0, 1, 12)\n",
            "Trying with pdq:(1, 1, 1) and s_pdq:(1, 0, 2, 12)\n",
            "Trying with pdq:(1, 1, 1) and s_pdq:(1, 1, 0, 12)\n",
            "Trying with pdq:(1, 1, 1) and s_pdq:(1, 1, 1, 12)\n",
            "Trying with pdq:(1, 1, 1) and s_pdq:(1, 1, 2, 12)\n",
            "Trying with pdq:(1, 1, 1) and s_pdq:(1, 2, 0, 12)\n",
            "Trying with pdq:(1, 1, 1) and s_pdq:(1, 2, 1, 12)\n",
            "Trying with pdq:(1, 1, 1) and s_pdq:(1, 2, 2, 12)\n"
          ]
        },
        {
          "name": "stderr",
          "output_type": "stream",
          "text": [
            "/usr/local/lib/python3.10/dist-packages/statsmodels/base/model.py:607: ConvergenceWarning: Maximum Likelihood optimization failed to converge. Check mle_retvals\n",
            "  warnings.warn(\"Maximum Likelihood optimization failed to \"\n"
          ]
        },
        {
          "name": "stdout",
          "output_type": "stream",
          "text": [
            "Trying with pdq:(1, 1, 1) and s_pdq:(2, 0, 0, 12)\n",
            "Trying with pdq:(1, 1, 1) and s_pdq:(2, 0, 1, 12)\n",
            "Trying with pdq:(1, 1, 1) and s_pdq:(2, 0, 2, 12)\n",
            "Trying with pdq:(1, 1, 1) and s_pdq:(2, 1, 0, 12)\n",
            "Trying with pdq:(1, 1, 1) and s_pdq:(2, 1, 1, 12)\n"
          ]
        },
        {
          "name": "stderr",
          "output_type": "stream",
          "text": [
            "/usr/local/lib/python3.10/dist-packages/statsmodels/base/model.py:607: ConvergenceWarning: Maximum Likelihood optimization failed to converge. Check mle_retvals\n",
            "  warnings.warn(\"Maximum Likelihood optimization failed to \"\n"
          ]
        },
        {
          "name": "stdout",
          "output_type": "stream",
          "text": [
            "Trying with pdq:(1, 1, 1) and s_pdq:(2, 1, 2, 12)\n"
          ]
        },
        {
          "name": "stderr",
          "output_type": "stream",
          "text": [
            "/usr/local/lib/python3.10/dist-packages/statsmodels/base/model.py:607: ConvergenceWarning: Maximum Likelihood optimization failed to converge. Check mle_retvals\n",
            "  warnings.warn(\"Maximum Likelihood optimization failed to \"\n"
          ]
        },
        {
          "name": "stdout",
          "output_type": "stream",
          "text": [
            "Trying with pdq:(1, 1, 1) and s_pdq:(2, 2, 0, 12)\n",
            "Trying with pdq:(1, 1, 1) and s_pdq:(2, 2, 1, 12)\n",
            "Trying with pdq:(1, 1, 1) and s_pdq:(2, 2, 2, 12)\n"
          ]
        },
        {
          "name": "stderr",
          "output_type": "stream",
          "text": [
            "/usr/local/lib/python3.10/dist-packages/statsmodels/base/model.py:607: ConvergenceWarning: Maximum Likelihood optimization failed to converge. Check mle_retvals\n",
            "  warnings.warn(\"Maximum Likelihood optimization failed to \"\n"
          ]
        },
        {
          "name": "stdout",
          "output_type": "stream",
          "text": [
            "Trying with pdq:(1, 1, 2) and s_pdq:(0, 0, 0, 12)\n",
            "Trying with pdq:(1, 1, 2) and s_pdq:(0, 0, 1, 12)\n",
            "Trying with pdq:(1, 1, 2) and s_pdq:(0, 0, 2, 12)\n",
            "Trying with pdq:(1, 1, 2) and s_pdq:(0, 1, 0, 12)\n",
            "Trying with pdq:(1, 1, 2) and s_pdq:(0, 1, 1, 12)\n",
            "Trying with pdq:(1, 1, 2) and s_pdq:(0, 1, 2, 12)\n"
          ]
        },
        {
          "name": "stderr",
          "output_type": "stream",
          "text": [
            "/usr/local/lib/python3.10/dist-packages/statsmodels/base/model.py:607: ConvergenceWarning: Maximum Likelihood optimization failed to converge. Check mle_retvals\n",
            "  warnings.warn(\"Maximum Likelihood optimization failed to \"\n"
          ]
        },
        {
          "name": "stdout",
          "output_type": "stream",
          "text": [
            "Trying with pdq:(1, 1, 2) and s_pdq:(0, 2, 0, 12)\n",
            "Trying with pdq:(1, 1, 2) and s_pdq:(0, 2, 1, 12)\n"
          ]
        },
        {
          "name": "stderr",
          "output_type": "stream",
          "text": [
            "/usr/local/lib/python3.10/dist-packages/statsmodels/base/model.py:607: ConvergenceWarning: Maximum Likelihood optimization failed to converge. Check mle_retvals\n",
            "  warnings.warn(\"Maximum Likelihood optimization failed to \"\n"
          ]
        },
        {
          "name": "stdout",
          "output_type": "stream",
          "text": [
            "Trying with pdq:(1, 1, 2) and s_pdq:(0, 2, 2, 12)\n"
          ]
        },
        {
          "name": "stderr",
          "output_type": "stream",
          "text": [
            "/usr/local/lib/python3.10/dist-packages/statsmodels/base/model.py:607: ConvergenceWarning: Maximum Likelihood optimization failed to converge. Check mle_retvals\n",
            "  warnings.warn(\"Maximum Likelihood optimization failed to \"\n"
          ]
        },
        {
          "name": "stdout",
          "output_type": "stream",
          "text": [
            "Trying with pdq:(1, 1, 2) and s_pdq:(1, 0, 0, 12)\n",
            "Trying with pdq:(1, 1, 2) and s_pdq:(1, 0, 1, 12)\n",
            "Trying with pdq:(1, 1, 2) and s_pdq:(1, 0, 2, 12)\n",
            "Trying with pdq:(1, 1, 2) and s_pdq:(1, 1, 0, 12)\n",
            "Trying with pdq:(1, 1, 2) and s_pdq:(1, 1, 1, 12)\n"
          ]
        },
        {
          "name": "stderr",
          "output_type": "stream",
          "text": [
            "/usr/local/lib/python3.10/dist-packages/statsmodels/base/model.py:607: ConvergenceWarning: Maximum Likelihood optimization failed to converge. Check mle_retvals\n",
            "  warnings.warn(\"Maximum Likelihood optimization failed to \"\n"
          ]
        },
        {
          "name": "stdout",
          "output_type": "stream",
          "text": [
            "Trying with pdq:(1, 1, 2) and s_pdq:(1, 1, 2, 12)\n"
          ]
        },
        {
          "name": "stderr",
          "output_type": "stream",
          "text": [
            "/usr/local/lib/python3.10/dist-packages/statsmodels/base/model.py:607: ConvergenceWarning: Maximum Likelihood optimization failed to converge. Check mle_retvals\n",
            "  warnings.warn(\"Maximum Likelihood optimization failed to \"\n"
          ]
        },
        {
          "name": "stdout",
          "output_type": "stream",
          "text": [
            "Trying with pdq:(1, 1, 2) and s_pdq:(1, 2, 0, 12)\n",
            "Trying with pdq:(1, 1, 2) and s_pdq:(1, 2, 1, 12)\n",
            "Trying with pdq:(1, 1, 2) and s_pdq:(1, 2, 2, 12)\n"
          ]
        },
        {
          "name": "stderr",
          "output_type": "stream",
          "text": [
            "/usr/local/lib/python3.10/dist-packages/statsmodels/base/model.py:607: ConvergenceWarning: Maximum Likelihood optimization failed to converge. Check mle_retvals\n",
            "  warnings.warn(\"Maximum Likelihood optimization failed to \"\n"
          ]
        },
        {
          "name": "stdout",
          "output_type": "stream",
          "text": [
            "Trying with pdq:(1, 1, 2) and s_pdq:(2, 0, 0, 12)\n",
            "Trying with pdq:(1, 1, 2) and s_pdq:(2, 0, 1, 12)\n",
            "Trying with pdq:(1, 1, 2) and s_pdq:(2, 0, 2, 12)\n",
            "Trying with pdq:(1, 1, 2) and s_pdq:(2, 1, 0, 12)\n",
            "Trying with pdq:(1, 1, 2) and s_pdq:(2, 1, 1, 12)\n",
            "Trying with pdq:(1, 1, 2) and s_pdq:(2, 1, 2, 12)\n"
          ]
        },
        {
          "name": "stderr",
          "output_type": "stream",
          "text": [
            "/usr/local/lib/python3.10/dist-packages/statsmodels/base/model.py:607: ConvergenceWarning: Maximum Likelihood optimization failed to converge. Check mle_retvals\n",
            "  warnings.warn(\"Maximum Likelihood optimization failed to \"\n"
          ]
        },
        {
          "name": "stdout",
          "output_type": "stream",
          "text": [
            "Trying with pdq:(1, 1, 2) and s_pdq:(2, 2, 0, 12)\n",
            "Trying with pdq:(1, 1, 2) and s_pdq:(2, 2, 1, 12)\n",
            "Trying with pdq:(1, 1, 2) and s_pdq:(2, 2, 2, 12)\n"
          ]
        },
        {
          "name": "stderr",
          "output_type": "stream",
          "text": [
            "/usr/local/lib/python3.10/dist-packages/statsmodels/base/model.py:607: ConvergenceWarning: Maximum Likelihood optimization failed to converge. Check mle_retvals\n",
            "  warnings.warn(\"Maximum Likelihood optimization failed to \"\n"
          ]
        },
        {
          "name": "stdout",
          "output_type": "stream",
          "text": [
            "Trying with pdq:(1, 2, 0) and s_pdq:(0, 0, 0, 12)\n",
            "Trying with pdq:(1, 2, 0) and s_pdq:(0, 0, 1, 12)\n",
            "Trying with pdq:(1, 2, 0) and s_pdq:(0, 0, 2, 12)\n",
            "Trying with pdq:(1, 2, 0) and s_pdq:(0, 1, 0, 12)\n",
            "Trying with pdq:(1, 2, 0) and s_pdq:(0, 1, 1, 12)\n",
            "Trying with pdq:(1, 2, 0) and s_pdq:(0, 1, 2, 12)\n",
            "Trying with pdq:(1, 2, 0) and s_pdq:(0, 2, 0, 12)\n",
            "Trying with pdq:(1, 2, 0) and s_pdq:(0, 2, 1, 12)\n",
            "Trying with pdq:(1, 2, 0) and s_pdq:(0, 2, 2, 12)\n",
            "Trying with pdq:(1, 2, 0) and s_pdq:(1, 0, 0, 12)\n",
            "Trying with pdq:(1, 2, 0) and s_pdq:(1, 0, 1, 12)\n",
            "Trying with pdq:(1, 2, 0) and s_pdq:(1, 0, 2, 12)\n",
            "Trying with pdq:(1, 2, 0) and s_pdq:(1, 1, 0, 12)\n",
            "Trying with pdq:(1, 2, 0) and s_pdq:(1, 1, 1, 12)\n",
            "Trying with pdq:(1, 2, 0) and s_pdq:(1, 1, 2, 12)\n",
            "Trying with pdq:(1, 2, 0) and s_pdq:(1, 2, 0, 12)\n",
            "Trying with pdq:(1, 2, 0) and s_pdq:(1, 2, 1, 12)\n",
            "Trying with pdq:(1, 2, 0) and s_pdq:(1, 2, 2, 12)\n"
          ]
        },
        {
          "name": "stderr",
          "output_type": "stream",
          "text": [
            "/usr/local/lib/python3.10/dist-packages/statsmodels/base/model.py:607: ConvergenceWarning: Maximum Likelihood optimization failed to converge. Check mle_retvals\n",
            "  warnings.warn(\"Maximum Likelihood optimization failed to \"\n"
          ]
        },
        {
          "name": "stdout",
          "output_type": "stream",
          "text": [
            "Trying with pdq:(1, 2, 0) and s_pdq:(2, 0, 0, 12)\n",
            "Trying with pdq:(1, 2, 0) and s_pdq:(2, 0, 1, 12)\n",
            "Trying with pdq:(1, 2, 0) and s_pdq:(2, 0, 2, 12)\n",
            "Trying with pdq:(1, 2, 0) and s_pdq:(2, 1, 0, 12)\n",
            "Trying with pdq:(1, 2, 0) and s_pdq:(2, 1, 1, 12)\n",
            "Trying with pdq:(1, 2, 0) and s_pdq:(2, 1, 2, 12)\n",
            "Trying with pdq:(1, 2, 0) and s_pdq:(2, 2, 0, 12)\n",
            "Trying with pdq:(1, 2, 0) and s_pdq:(2, 2, 1, 12)\n",
            "Trying with pdq:(1, 2, 0) and s_pdq:(2, 2, 2, 12)\n"
          ]
        },
        {
          "name": "stderr",
          "output_type": "stream",
          "text": [
            "/usr/local/lib/python3.10/dist-packages/statsmodels/base/model.py:607: ConvergenceWarning: Maximum Likelihood optimization failed to converge. Check mle_retvals\n",
            "  warnings.warn(\"Maximum Likelihood optimization failed to \"\n"
          ]
        },
        {
          "name": "stdout",
          "output_type": "stream",
          "text": [
            "Trying with pdq:(1, 2, 1) and s_pdq:(0, 0, 0, 12)\n",
            "Trying with pdq:(1, 2, 1) and s_pdq:(0, 0, 1, 12)\n",
            "Trying with pdq:(1, 2, 1) and s_pdq:(0, 0, 2, 12)\n",
            "Trying with pdq:(1, 2, 1) and s_pdq:(0, 1, 0, 12)\n",
            "Trying with pdq:(1, 2, 1) and s_pdq:(0, 1, 1, 12)\n",
            "Trying with pdq:(1, 2, 1) and s_pdq:(0, 1, 2, 12)\n"
          ]
        },
        {
          "name": "stderr",
          "output_type": "stream",
          "text": [
            "/usr/local/lib/python3.10/dist-packages/statsmodels/base/model.py:607: ConvergenceWarning: Maximum Likelihood optimization failed to converge. Check mle_retvals\n",
            "  warnings.warn(\"Maximum Likelihood optimization failed to \"\n"
          ]
        },
        {
          "name": "stdout",
          "output_type": "stream",
          "text": [
            "Trying with pdq:(1, 2, 1) and s_pdq:(0, 2, 0, 12)\n",
            "Trying with pdq:(1, 2, 1) and s_pdq:(0, 2, 1, 12)\n",
            "Trying with pdq:(1, 2, 1) and s_pdq:(0, 2, 2, 12)\n"
          ]
        },
        {
          "name": "stderr",
          "output_type": "stream",
          "text": [
            "/usr/local/lib/python3.10/dist-packages/statsmodels/base/model.py:607: ConvergenceWarning: Maximum Likelihood optimization failed to converge. Check mle_retvals\n",
            "  warnings.warn(\"Maximum Likelihood optimization failed to \"\n"
          ]
        },
        {
          "name": "stdout",
          "output_type": "stream",
          "text": [
            "Trying with pdq:(1, 2, 1) and s_pdq:(1, 0, 0, 12)\n",
            "Trying with pdq:(1, 2, 1) and s_pdq:(1, 0, 1, 12)\n",
            "Trying with pdq:(1, 2, 1) and s_pdq:(1, 0, 2, 12)\n"
          ]
        },
        {
          "name": "stderr",
          "output_type": "stream",
          "text": [
            "/usr/local/lib/python3.10/dist-packages/statsmodels/base/model.py:607: ConvergenceWarning: Maximum Likelihood optimization failed to converge. Check mle_retvals\n",
            "  warnings.warn(\"Maximum Likelihood optimization failed to \"\n"
          ]
        },
        {
          "name": "stdout",
          "output_type": "stream",
          "text": [
            "Trying with pdq:(1, 2, 1) and s_pdq:(1, 1, 0, 12)\n",
            "Trying with pdq:(1, 2, 1) and s_pdq:(1, 1, 1, 12)\n",
            "Trying with pdq:(1, 2, 1) and s_pdq:(1, 1, 2, 12)\n"
          ]
        },
        {
          "name": "stderr",
          "output_type": "stream",
          "text": [
            "/usr/local/lib/python3.10/dist-packages/statsmodels/base/model.py:607: ConvergenceWarning: Maximum Likelihood optimization failed to converge. Check mle_retvals\n",
            "  warnings.warn(\"Maximum Likelihood optimization failed to \"\n"
          ]
        },
        {
          "name": "stdout",
          "output_type": "stream",
          "text": [
            "Trying with pdq:(1, 2, 1) and s_pdq:(1, 2, 0, 12)\n",
            "Trying with pdq:(1, 2, 1) and s_pdq:(1, 2, 1, 12)\n",
            "Trying with pdq:(1, 2, 1) and s_pdq:(1, 2, 2, 12)\n"
          ]
        },
        {
          "name": "stderr",
          "output_type": "stream",
          "text": [
            "/usr/local/lib/python3.10/dist-packages/statsmodels/base/model.py:607: ConvergenceWarning: Maximum Likelihood optimization failed to converge. Check mle_retvals\n",
            "  warnings.warn(\"Maximum Likelihood optimization failed to \"\n"
          ]
        },
        {
          "name": "stdout",
          "output_type": "stream",
          "text": [
            "Trying with pdq:(1, 2, 1) and s_pdq:(2, 0, 0, 12)\n",
            "Trying with pdq:(1, 2, 1) and s_pdq:(2, 0, 1, 12)\n",
            "Trying with pdq:(1, 2, 1) and s_pdq:(2, 0, 2, 12)\n",
            "Trying with pdq:(1, 2, 1) and s_pdq:(2, 1, 0, 12)\n",
            "Trying with pdq:(1, 2, 1) and s_pdq:(2, 1, 1, 12)\n",
            "Trying with pdq:(1, 2, 1) and s_pdq:(2, 1, 2, 12)\n"
          ]
        },
        {
          "name": "stderr",
          "output_type": "stream",
          "text": [
            "/usr/local/lib/python3.10/dist-packages/statsmodels/base/model.py:607: ConvergenceWarning: Maximum Likelihood optimization failed to converge. Check mle_retvals\n",
            "  warnings.warn(\"Maximum Likelihood optimization failed to \"\n"
          ]
        },
        {
          "name": "stdout",
          "output_type": "stream",
          "text": [
            "Trying with pdq:(1, 2, 1) and s_pdq:(2, 2, 0, 12)\n",
            "Trying with pdq:(1, 2, 1) and s_pdq:(2, 2, 1, 12)\n",
            "Trying with pdq:(1, 2, 1) and s_pdq:(2, 2, 2, 12)\n"
          ]
        },
        {
          "name": "stderr",
          "output_type": "stream",
          "text": [
            "/usr/local/lib/python3.10/dist-packages/statsmodels/base/model.py:607: ConvergenceWarning: Maximum Likelihood optimization failed to converge. Check mle_retvals\n",
            "  warnings.warn(\"Maximum Likelihood optimization failed to \"\n"
          ]
        },
        {
          "name": "stdout",
          "output_type": "stream",
          "text": [
            "Trying with pdq:(1, 2, 2) and s_pdq:(0, 0, 0, 12)\n"
          ]
        },
        {
          "name": "stderr",
          "output_type": "stream",
          "text": [
            "/usr/local/lib/python3.10/dist-packages/statsmodels/base/model.py:607: ConvergenceWarning: Maximum Likelihood optimization failed to converge. Check mle_retvals\n",
            "  warnings.warn(\"Maximum Likelihood optimization failed to \"\n"
          ]
        },
        {
          "name": "stdout",
          "output_type": "stream",
          "text": [
            "Trying with pdq:(1, 2, 2) and s_pdq:(0, 0, 1, 12)\n"
          ]
        },
        {
          "name": "stderr",
          "output_type": "stream",
          "text": [
            "/usr/local/lib/python3.10/dist-packages/statsmodels/base/model.py:607: ConvergenceWarning: Maximum Likelihood optimization failed to converge. Check mle_retvals\n",
            "  warnings.warn(\"Maximum Likelihood optimization failed to \"\n"
          ]
        },
        {
          "name": "stdout",
          "output_type": "stream",
          "text": [
            "Trying with pdq:(1, 2, 2) and s_pdq:(0, 0, 2, 12)\n"
          ]
        },
        {
          "name": "stderr",
          "output_type": "stream",
          "text": [
            "/usr/local/lib/python3.10/dist-packages/statsmodels/base/model.py:607: ConvergenceWarning: Maximum Likelihood optimization failed to converge. Check mle_retvals\n",
            "  warnings.warn(\"Maximum Likelihood optimization failed to \"\n"
          ]
        },
        {
          "name": "stdout",
          "output_type": "stream",
          "text": [
            "Trying with pdq:(1, 2, 2) and s_pdq:(0, 1, 0, 12)\n",
            "Trying with pdq:(1, 2, 2) and s_pdq:(0, 1, 1, 12)\n"
          ]
        },
        {
          "name": "stderr",
          "output_type": "stream",
          "text": [
            "/usr/local/lib/python3.10/dist-packages/statsmodels/base/model.py:607: ConvergenceWarning: Maximum Likelihood optimization failed to converge. Check mle_retvals\n",
            "  warnings.warn(\"Maximum Likelihood optimization failed to \"\n"
          ]
        },
        {
          "name": "stdout",
          "output_type": "stream",
          "text": [
            "Trying with pdq:(1, 2, 2) and s_pdq:(0, 1, 2, 12)\n"
          ]
        },
        {
          "name": "stderr",
          "output_type": "stream",
          "text": [
            "/usr/local/lib/python3.10/dist-packages/statsmodels/base/model.py:607: ConvergenceWarning: Maximum Likelihood optimization failed to converge. Check mle_retvals\n",
            "  warnings.warn(\"Maximum Likelihood optimization failed to \"\n"
          ]
        },
        {
          "name": "stdout",
          "output_type": "stream",
          "text": [
            "Trying with pdq:(1, 2, 2) and s_pdq:(0, 2, 0, 12)\n",
            "Trying with pdq:(1, 2, 2) and s_pdq:(0, 2, 1, 12)\n"
          ]
        },
        {
          "name": "stderr",
          "output_type": "stream",
          "text": [
            "/usr/local/lib/python3.10/dist-packages/statsmodels/base/model.py:607: ConvergenceWarning: Maximum Likelihood optimization failed to converge. Check mle_retvals\n",
            "  warnings.warn(\"Maximum Likelihood optimization failed to \"\n"
          ]
        },
        {
          "name": "stdout",
          "output_type": "stream",
          "text": [
            "Trying with pdq:(1, 2, 2) and s_pdq:(0, 2, 2, 12)\n"
          ]
        },
        {
          "name": "stderr",
          "output_type": "stream",
          "text": [
            "/usr/local/lib/python3.10/dist-packages/statsmodels/base/model.py:607: ConvergenceWarning: Maximum Likelihood optimization failed to converge. Check mle_retvals\n",
            "  warnings.warn(\"Maximum Likelihood optimization failed to \"\n"
          ]
        },
        {
          "name": "stdout",
          "output_type": "stream",
          "text": [
            "Trying with pdq:(1, 2, 2) and s_pdq:(1, 0, 0, 12)\n"
          ]
        },
        {
          "name": "stderr",
          "output_type": "stream",
          "text": [
            "/usr/local/lib/python3.10/dist-packages/statsmodels/base/model.py:607: ConvergenceWarning: Maximum Likelihood optimization failed to converge. Check mle_retvals\n",
            "  warnings.warn(\"Maximum Likelihood optimization failed to \"\n"
          ]
        },
        {
          "name": "stdout",
          "output_type": "stream",
          "text": [
            "Trying with pdq:(1, 2, 2) and s_pdq:(1, 0, 1, 12)\n"
          ]
        },
        {
          "name": "stderr",
          "output_type": "stream",
          "text": [
            "/usr/local/lib/python3.10/dist-packages/statsmodels/base/model.py:607: ConvergenceWarning: Maximum Likelihood optimization failed to converge. Check mle_retvals\n",
            "  warnings.warn(\"Maximum Likelihood optimization failed to \"\n"
          ]
        },
        {
          "name": "stdout",
          "output_type": "stream",
          "text": [
            "Trying with pdq:(1, 2, 2) and s_pdq:(1, 0, 2, 12)\n"
          ]
        },
        {
          "name": "stderr",
          "output_type": "stream",
          "text": [
            "/usr/local/lib/python3.10/dist-packages/statsmodels/base/model.py:607: ConvergenceWarning: Maximum Likelihood optimization failed to converge. Check mle_retvals\n",
            "  warnings.warn(\"Maximum Likelihood optimization failed to \"\n"
          ]
        },
        {
          "name": "stdout",
          "output_type": "stream",
          "text": [
            "Trying with pdq:(1, 2, 2) and s_pdq:(1, 1, 0, 12)\n",
            "Trying with pdq:(1, 2, 2) and s_pdq:(1, 1, 1, 12)\n"
          ]
        },
        {
          "name": "stderr",
          "output_type": "stream",
          "text": [
            "/usr/local/lib/python3.10/dist-packages/statsmodels/base/model.py:607: ConvergenceWarning: Maximum Likelihood optimization failed to converge. Check mle_retvals\n",
            "  warnings.warn(\"Maximum Likelihood optimization failed to \"\n"
          ]
        },
        {
          "name": "stdout",
          "output_type": "stream",
          "text": [
            "Trying with pdq:(1, 2, 2) and s_pdq:(1, 1, 2, 12)\n"
          ]
        },
        {
          "name": "stderr",
          "output_type": "stream",
          "text": [
            "/usr/local/lib/python3.10/dist-packages/statsmodels/base/model.py:607: ConvergenceWarning: Maximum Likelihood optimization failed to converge. Check mle_retvals\n",
            "  warnings.warn(\"Maximum Likelihood optimization failed to \"\n"
          ]
        },
        {
          "name": "stdout",
          "output_type": "stream",
          "text": [
            "Trying with pdq:(1, 2, 2) and s_pdq:(1, 2, 0, 12)\n",
            "Trying with pdq:(1, 2, 2) and s_pdq:(1, 2, 1, 12)\n",
            "Trying with pdq:(1, 2, 2) and s_pdq:(1, 2, 2, 12)\n"
          ]
        },
        {
          "name": "stderr",
          "output_type": "stream",
          "text": [
            "/usr/local/lib/python3.10/dist-packages/statsmodels/base/model.py:607: ConvergenceWarning: Maximum Likelihood optimization failed to converge. Check mle_retvals\n",
            "  warnings.warn(\"Maximum Likelihood optimization failed to \"\n"
          ]
        },
        {
          "name": "stdout",
          "output_type": "stream",
          "text": [
            "Trying with pdq:(1, 2, 2) and s_pdq:(2, 0, 0, 12)\n"
          ]
        },
        {
          "name": "stderr",
          "output_type": "stream",
          "text": [
            "/usr/local/lib/python3.10/dist-packages/statsmodels/base/model.py:607: ConvergenceWarning: Maximum Likelihood optimization failed to converge. Check mle_retvals\n",
            "  warnings.warn(\"Maximum Likelihood optimization failed to \"\n"
          ]
        },
        {
          "name": "stdout",
          "output_type": "stream",
          "text": [
            "Trying with pdq:(1, 2, 2) and s_pdq:(2, 0, 1, 12)\n"
          ]
        },
        {
          "name": "stderr",
          "output_type": "stream",
          "text": [
            "/usr/local/lib/python3.10/dist-packages/statsmodels/base/model.py:607: ConvergenceWarning: Maximum Likelihood optimization failed to converge. Check mle_retvals\n",
            "  warnings.warn(\"Maximum Likelihood optimization failed to \"\n"
          ]
        },
        {
          "name": "stdout",
          "output_type": "stream",
          "text": [
            "Trying with pdq:(1, 2, 2) and s_pdq:(2, 0, 2, 12)\n"
          ]
        },
        {
          "name": "stderr",
          "output_type": "stream",
          "text": [
            "/usr/local/lib/python3.10/dist-packages/statsmodels/base/model.py:607: ConvergenceWarning: Maximum Likelihood optimization failed to converge. Check mle_retvals\n",
            "  warnings.warn(\"Maximum Likelihood optimization failed to \"\n"
          ]
        },
        {
          "name": "stdout",
          "output_type": "stream",
          "text": [
            "Trying with pdq:(1, 2, 2) and s_pdq:(2, 1, 0, 12)\n",
            "Trying with pdq:(1, 2, 2) and s_pdq:(2, 1, 1, 12)\n"
          ]
        },
        {
          "name": "stderr",
          "output_type": "stream",
          "text": [
            "/usr/local/lib/python3.10/dist-packages/statsmodels/base/model.py:607: ConvergenceWarning: Maximum Likelihood optimization failed to converge. Check mle_retvals\n",
            "  warnings.warn(\"Maximum Likelihood optimization failed to \"\n"
          ]
        },
        {
          "name": "stdout",
          "output_type": "stream",
          "text": [
            "Trying with pdq:(1, 2, 2) and s_pdq:(2, 1, 2, 12)\n"
          ]
        },
        {
          "name": "stderr",
          "output_type": "stream",
          "text": [
            "/usr/local/lib/python3.10/dist-packages/statsmodels/base/model.py:607: ConvergenceWarning: Maximum Likelihood optimization failed to converge. Check mle_retvals\n",
            "  warnings.warn(\"Maximum Likelihood optimization failed to \"\n"
          ]
        },
        {
          "name": "stdout",
          "output_type": "stream",
          "text": [
            "Trying with pdq:(1, 2, 2) and s_pdq:(2, 2, 0, 12)\n"
          ]
        },
        {
          "name": "stderr",
          "output_type": "stream",
          "text": [
            "/usr/local/lib/python3.10/dist-packages/statsmodels/base/model.py:607: ConvergenceWarning: Maximum Likelihood optimization failed to converge. Check mle_retvals\n",
            "  warnings.warn(\"Maximum Likelihood optimization failed to \"\n"
          ]
        },
        {
          "name": "stdout",
          "output_type": "stream",
          "text": [
            "Trying with pdq:(1, 2, 2) and s_pdq:(2, 2, 1, 12)\n"
          ]
        },
        {
          "name": "stderr",
          "output_type": "stream",
          "text": [
            "/usr/local/lib/python3.10/dist-packages/statsmodels/base/model.py:607: ConvergenceWarning: Maximum Likelihood optimization failed to converge. Check mle_retvals\n",
            "  warnings.warn(\"Maximum Likelihood optimization failed to \"\n"
          ]
        },
        {
          "name": "stdout",
          "output_type": "stream",
          "text": [
            "Trying with pdq:(1, 2, 2) and s_pdq:(2, 2, 2, 12)\n"
          ]
        },
        {
          "name": "stderr",
          "output_type": "stream",
          "text": [
            "/usr/local/lib/python3.10/dist-packages/statsmodels/base/model.py:607: ConvergenceWarning: Maximum Likelihood optimization failed to converge. Check mle_retvals\n",
            "  warnings.warn(\"Maximum Likelihood optimization failed to \"\n"
          ]
        },
        {
          "name": "stdout",
          "output_type": "stream",
          "text": [
            "Trying with pdq:(2, 0, 0) and s_pdq:(0, 0, 0, 12)\n",
            "Trying with pdq:(2, 0, 0) and s_pdq:(0, 0, 1, 12)\n",
            "Trying with pdq:(2, 0, 0) and s_pdq:(0, 0, 2, 12)\n",
            "Trying with pdq:(2, 0, 0) and s_pdq:(0, 1, 0, 12)\n",
            "Trying with pdq:(2, 0, 0) and s_pdq:(0, 1, 1, 12)\n",
            "Trying with pdq:(2, 0, 0) and s_pdq:(0, 1, 2, 12)\n",
            "Trying with pdq:(2, 0, 0) and s_pdq:(0, 2, 0, 12)\n",
            "Trying with pdq:(2, 0, 0) and s_pdq:(0, 2, 1, 12)\n",
            "Trying with pdq:(2, 0, 0) and s_pdq:(0, 2, 2, 12)\n",
            "Trying with pdq:(2, 0, 0) and s_pdq:(1, 0, 0, 12)\n",
            "Trying with pdq:(2, 0, 0) and s_pdq:(1, 0, 1, 12)\n",
            "Trying with pdq:(2, 0, 0) and s_pdq:(1, 0, 2, 12)\n",
            "Trying with pdq:(2, 0, 0) and s_pdq:(1, 1, 0, 12)\n",
            "Trying with pdq:(2, 0, 0) and s_pdq:(1, 1, 1, 12)\n"
          ]
        },
        {
          "name": "stderr",
          "output_type": "stream",
          "text": [
            "/usr/local/lib/python3.10/dist-packages/statsmodels/base/model.py:607: ConvergenceWarning: Maximum Likelihood optimization failed to converge. Check mle_retvals\n",
            "  warnings.warn(\"Maximum Likelihood optimization failed to \"\n"
          ]
        },
        {
          "name": "stdout",
          "output_type": "stream",
          "text": [
            "Trying with pdq:(2, 0, 0) and s_pdq:(1, 1, 2, 12)\n"
          ]
        },
        {
          "name": "stderr",
          "output_type": "stream",
          "text": [
            "/usr/local/lib/python3.10/dist-packages/statsmodels/base/model.py:607: ConvergenceWarning: Maximum Likelihood optimization failed to converge. Check mle_retvals\n",
            "  warnings.warn(\"Maximum Likelihood optimization failed to \"\n"
          ]
        },
        {
          "name": "stdout",
          "output_type": "stream",
          "text": [
            "Trying with pdq:(2, 0, 0) and s_pdq:(1, 2, 0, 12)\n",
            "Trying with pdq:(2, 0, 0) and s_pdq:(1, 2, 1, 12)\n",
            "Trying with pdq:(2, 0, 0) and s_pdq:(1, 2, 2, 12)\n"
          ]
        },
        {
          "name": "stderr",
          "output_type": "stream",
          "text": [
            "/usr/local/lib/python3.10/dist-packages/statsmodels/base/model.py:607: ConvergenceWarning: Maximum Likelihood optimization failed to converge. Check mle_retvals\n",
            "  warnings.warn(\"Maximum Likelihood optimization failed to \"\n"
          ]
        },
        {
          "name": "stdout",
          "output_type": "stream",
          "text": [
            "Trying with pdq:(2, 0, 0) and s_pdq:(2, 0, 0, 12)\n",
            "Trying with pdq:(2, 0, 0) and s_pdq:(2, 0, 1, 12)\n"
          ]
        },
        {
          "name": "stderr",
          "output_type": "stream",
          "text": [
            "/usr/local/lib/python3.10/dist-packages/statsmodels/base/model.py:607: ConvergenceWarning: Maximum Likelihood optimization failed to converge. Check mle_retvals\n",
            "  warnings.warn(\"Maximum Likelihood optimization failed to \"\n"
          ]
        },
        {
          "name": "stdout",
          "output_type": "stream",
          "text": [
            "Trying with pdq:(2, 0, 0) and s_pdq:(2, 0, 2, 12)\n",
            "Trying with pdq:(2, 0, 0) and s_pdq:(2, 1, 0, 12)\n",
            "Trying with pdq:(2, 0, 0) and s_pdq:(2, 1, 1, 12)\n"
          ]
        },
        {
          "name": "stderr",
          "output_type": "stream",
          "text": [
            "/usr/local/lib/python3.10/dist-packages/statsmodels/base/model.py:607: ConvergenceWarning: Maximum Likelihood optimization failed to converge. Check mle_retvals\n",
            "  warnings.warn(\"Maximum Likelihood optimization failed to \"\n"
          ]
        },
        {
          "name": "stdout",
          "output_type": "stream",
          "text": [
            "Trying with pdq:(2, 0, 0) and s_pdq:(2, 1, 2, 12)\n"
          ]
        },
        {
          "name": "stderr",
          "output_type": "stream",
          "text": [
            "/usr/local/lib/python3.10/dist-packages/statsmodels/base/model.py:607: ConvergenceWarning: Maximum Likelihood optimization failed to converge. Check mle_retvals\n",
            "  warnings.warn(\"Maximum Likelihood optimization failed to \"\n"
          ]
        },
        {
          "name": "stdout",
          "output_type": "stream",
          "text": [
            "Trying with pdq:(2, 0, 0) and s_pdq:(2, 2, 0, 12)\n",
            "Trying with pdq:(2, 0, 0) and s_pdq:(2, 2, 1, 12)\n",
            "Trying with pdq:(2, 0, 0) and s_pdq:(2, 2, 2, 12)\n"
          ]
        },
        {
          "name": "stderr",
          "output_type": "stream",
          "text": [
            "/usr/local/lib/python3.10/dist-packages/statsmodels/base/model.py:607: ConvergenceWarning: Maximum Likelihood optimization failed to converge. Check mle_retvals\n",
            "  warnings.warn(\"Maximum Likelihood optimization failed to \"\n"
          ]
        },
        {
          "name": "stdout",
          "output_type": "stream",
          "text": [
            "Trying with pdq:(2, 0, 1) and s_pdq:(0, 0, 0, 12)\n"
          ]
        },
        {
          "name": "stderr",
          "output_type": "stream",
          "text": [
            "/usr/local/lib/python3.10/dist-packages/statsmodels/base/model.py:607: ConvergenceWarning: Maximum Likelihood optimization failed to converge. Check mle_retvals\n",
            "  warnings.warn(\"Maximum Likelihood optimization failed to \"\n"
          ]
        },
        {
          "name": "stdout",
          "output_type": "stream",
          "text": [
            "Trying with pdq:(2, 0, 1) and s_pdq:(0, 0, 1, 12)\n",
            "Trying with pdq:(2, 0, 1) and s_pdq:(0, 0, 2, 12)\n",
            "Trying with pdq:(2, 0, 1) and s_pdq:(0, 1, 0, 12)\n",
            "Trying with pdq:(2, 0, 1) and s_pdq:(0, 1, 1, 12)\n"
          ]
        },
        {
          "name": "stderr",
          "output_type": "stream",
          "text": [
            "/usr/local/lib/python3.10/dist-packages/statsmodels/base/model.py:607: ConvergenceWarning: Maximum Likelihood optimization failed to converge. Check mle_retvals\n",
            "  warnings.warn(\"Maximum Likelihood optimization failed to \"\n"
          ]
        },
        {
          "name": "stdout",
          "output_type": "stream",
          "text": [
            "Trying with pdq:(2, 0, 1) and s_pdq:(0, 1, 2, 12)\n"
          ]
        },
        {
          "name": "stderr",
          "output_type": "stream",
          "text": [
            "/usr/local/lib/python3.10/dist-packages/statsmodels/base/model.py:607: ConvergenceWarning: Maximum Likelihood optimization failed to converge. Check mle_retvals\n",
            "  warnings.warn(\"Maximum Likelihood optimization failed to \"\n"
          ]
        },
        {
          "name": "stdout",
          "output_type": "stream",
          "text": [
            "Trying with pdq:(2, 0, 1) and s_pdq:(0, 2, 0, 12)\n",
            "Trying with pdq:(2, 0, 1) and s_pdq:(0, 2, 1, 12)\n"
          ]
        },
        {
          "name": "stderr",
          "output_type": "stream",
          "text": [
            "/usr/local/lib/python3.10/dist-packages/statsmodels/base/model.py:607: ConvergenceWarning: Maximum Likelihood optimization failed to converge. Check mle_retvals\n",
            "  warnings.warn(\"Maximum Likelihood optimization failed to \"\n"
          ]
        },
        {
          "name": "stdout",
          "output_type": "stream",
          "text": [
            "Trying with pdq:(2, 0, 1) and s_pdq:(0, 2, 2, 12)\n"
          ]
        },
        {
          "name": "stderr",
          "output_type": "stream",
          "text": [
            "/usr/local/lib/python3.10/dist-packages/statsmodels/base/model.py:607: ConvergenceWarning: Maximum Likelihood optimization failed to converge. Check mle_retvals\n",
            "  warnings.warn(\"Maximum Likelihood optimization failed to \"\n"
          ]
        },
        {
          "name": "stdout",
          "output_type": "stream",
          "text": [
            "Trying with pdq:(2, 0, 1) and s_pdq:(1, 0, 0, 12)\n",
            "Trying with pdq:(2, 0, 1) and s_pdq:(1, 0, 1, 12)\n",
            "Trying with pdq:(2, 0, 1) and s_pdq:(1, 0, 2, 12)\n",
            "Trying with pdq:(2, 0, 1) and s_pdq:(1, 1, 0, 12)\n",
            "Trying with pdq:(2, 0, 1) and s_pdq:(1, 1, 1, 12)\n"
          ]
        },
        {
          "name": "stderr",
          "output_type": "stream",
          "text": [
            "/usr/local/lib/python3.10/dist-packages/statsmodels/base/model.py:607: ConvergenceWarning: Maximum Likelihood optimization failed to converge. Check mle_retvals\n",
            "  warnings.warn(\"Maximum Likelihood optimization failed to \"\n"
          ]
        },
        {
          "name": "stdout",
          "output_type": "stream",
          "text": [
            "Trying with pdq:(2, 0, 1) and s_pdq:(1, 1, 2, 12)\n"
          ]
        },
        {
          "name": "stderr",
          "output_type": "stream",
          "text": [
            "/usr/local/lib/python3.10/dist-packages/statsmodels/base/model.py:607: ConvergenceWarning: Maximum Likelihood optimization failed to converge. Check mle_retvals\n",
            "  warnings.warn(\"Maximum Likelihood optimization failed to \"\n"
          ]
        },
        {
          "name": "stdout",
          "output_type": "stream",
          "text": [
            "Trying with pdq:(2, 0, 1) and s_pdq:(1, 2, 0, 12)\n",
            "Trying with pdq:(2, 0, 1) and s_pdq:(1, 2, 1, 12)\n"
          ]
        },
        {
          "name": "stderr",
          "output_type": "stream",
          "text": [
            "/usr/local/lib/python3.10/dist-packages/statsmodels/base/model.py:607: ConvergenceWarning: Maximum Likelihood optimization failed to converge. Check mle_retvals\n",
            "  warnings.warn(\"Maximum Likelihood optimization failed to \"\n"
          ]
        },
        {
          "name": "stdout",
          "output_type": "stream",
          "text": [
            "Trying with pdq:(2, 0, 1) and s_pdq:(1, 2, 2, 12)\n"
          ]
        },
        {
          "name": "stderr",
          "output_type": "stream",
          "text": [
            "/usr/local/lib/python3.10/dist-packages/statsmodels/base/model.py:607: ConvergenceWarning: Maximum Likelihood optimization failed to converge. Check mle_retvals\n",
            "  warnings.warn(\"Maximum Likelihood optimization failed to \"\n"
          ]
        },
        {
          "name": "stdout",
          "output_type": "stream",
          "text": [
            "Trying with pdq:(2, 0, 1) and s_pdq:(2, 0, 0, 12)\n",
            "Trying with pdq:(2, 0, 1) and s_pdq:(2, 0, 1, 12)\n",
            "Trying with pdq:(2, 0, 1) and s_pdq:(2, 0, 2, 12)\n",
            "Trying with pdq:(2, 0, 1) and s_pdq:(2, 1, 0, 12)\n",
            "Trying with pdq:(2, 0, 1) and s_pdq:(2, 1, 1, 12)\n"
          ]
        },
        {
          "name": "stderr",
          "output_type": "stream",
          "text": [
            "/usr/local/lib/python3.10/dist-packages/statsmodels/base/model.py:607: ConvergenceWarning: Maximum Likelihood optimization failed to converge. Check mle_retvals\n",
            "  warnings.warn(\"Maximum Likelihood optimization failed to \"\n"
          ]
        },
        {
          "name": "stdout",
          "output_type": "stream",
          "text": [
            "Trying with pdq:(2, 0, 1) and s_pdq:(2, 1, 2, 12)\n"
          ]
        },
        {
          "name": "stderr",
          "output_type": "stream",
          "text": [
            "/usr/local/lib/python3.10/dist-packages/statsmodels/base/model.py:607: ConvergenceWarning: Maximum Likelihood optimization failed to converge. Check mle_retvals\n",
            "  warnings.warn(\"Maximum Likelihood optimization failed to \"\n"
          ]
        },
        {
          "name": "stdout",
          "output_type": "stream",
          "text": [
            "Trying with pdq:(2, 0, 1) and s_pdq:(2, 2, 0, 12)\n",
            "Trying with pdq:(2, 0, 1) and s_pdq:(2, 2, 1, 12)\n"
          ]
        },
        {
          "name": "stderr",
          "output_type": "stream",
          "text": [
            "/usr/local/lib/python3.10/dist-packages/statsmodels/base/model.py:607: ConvergenceWarning: Maximum Likelihood optimization failed to converge. Check mle_retvals\n",
            "  warnings.warn(\"Maximum Likelihood optimization failed to \"\n"
          ]
        },
        {
          "name": "stdout",
          "output_type": "stream",
          "text": [
            "Trying with pdq:(2, 0, 1) and s_pdq:(2, 2, 2, 12)\n"
          ]
        },
        {
          "name": "stderr",
          "output_type": "stream",
          "text": [
            "/usr/local/lib/python3.10/dist-packages/statsmodels/base/model.py:607: ConvergenceWarning: Maximum Likelihood optimization failed to converge. Check mle_retvals\n",
            "  warnings.warn(\"Maximum Likelihood optimization failed to \"\n"
          ]
        },
        {
          "name": "stdout",
          "output_type": "stream",
          "text": [
            "Trying with pdq:(2, 0, 2) and s_pdq:(0, 0, 0, 12)\n",
            "Trying with pdq:(2, 0, 2) and s_pdq:(0, 0, 1, 12)\n",
            "Trying with pdq:(2, 0, 2) and s_pdq:(0, 0, 2, 12)\n",
            "Trying with pdq:(2, 0, 2) and s_pdq:(0, 1, 0, 12)\n",
            "Trying with pdq:(2, 0, 2) and s_pdq:(0, 1, 1, 12)\n"
          ]
        },
        {
          "name": "stderr",
          "output_type": "stream",
          "text": [
            "/usr/local/lib/python3.10/dist-packages/statsmodels/base/model.py:607: ConvergenceWarning: Maximum Likelihood optimization failed to converge. Check mle_retvals\n",
            "  warnings.warn(\"Maximum Likelihood optimization failed to \"\n"
          ]
        },
        {
          "name": "stdout",
          "output_type": "stream",
          "text": [
            "Trying with pdq:(2, 0, 2) and s_pdq:(0, 1, 2, 12)\n"
          ]
        },
        {
          "name": "stderr",
          "output_type": "stream",
          "text": [
            "/usr/local/lib/python3.10/dist-packages/statsmodels/base/model.py:607: ConvergenceWarning: Maximum Likelihood optimization failed to converge. Check mle_retvals\n",
            "  warnings.warn(\"Maximum Likelihood optimization failed to \"\n"
          ]
        },
        {
          "name": "stdout",
          "output_type": "stream",
          "text": [
            "Trying with pdq:(2, 0, 2) and s_pdq:(0, 2, 0, 12)\n",
            "Trying with pdq:(2, 0, 2) and s_pdq:(0, 2, 1, 12)\n"
          ]
        },
        {
          "name": "stderr",
          "output_type": "stream",
          "text": [
            "/usr/local/lib/python3.10/dist-packages/statsmodels/base/model.py:607: ConvergenceWarning: Maximum Likelihood optimization failed to converge. Check mle_retvals\n",
            "  warnings.warn(\"Maximum Likelihood optimization failed to \"\n"
          ]
        },
        {
          "name": "stdout",
          "output_type": "stream",
          "text": [
            "Trying with pdq:(2, 0, 2) and s_pdq:(0, 2, 2, 12)\n"
          ]
        },
        {
          "name": "stderr",
          "output_type": "stream",
          "text": [
            "/usr/local/lib/python3.10/dist-packages/statsmodels/base/model.py:607: ConvergenceWarning: Maximum Likelihood optimization failed to converge. Check mle_retvals\n",
            "  warnings.warn(\"Maximum Likelihood optimization failed to \"\n"
          ]
        },
        {
          "name": "stdout",
          "output_type": "stream",
          "text": [
            "Trying with pdq:(2, 0, 2) and s_pdq:(1, 0, 0, 12)\n",
            "Trying with pdq:(2, 0, 2) and s_pdq:(1, 0, 1, 12)\n"
          ]
        },
        {
          "name": "stderr",
          "output_type": "stream",
          "text": [
            "/usr/local/lib/python3.10/dist-packages/statsmodels/base/model.py:607: ConvergenceWarning: Maximum Likelihood optimization failed to converge. Check mle_retvals\n",
            "  warnings.warn(\"Maximum Likelihood optimization failed to \"\n"
          ]
        },
        {
          "name": "stdout",
          "output_type": "stream",
          "text": [
            "Trying with pdq:(2, 0, 2) and s_pdq:(1, 0, 2, 12)\n"
          ]
        },
        {
          "name": "stderr",
          "output_type": "stream",
          "text": [
            "/usr/local/lib/python3.10/dist-packages/statsmodels/base/model.py:607: ConvergenceWarning: Maximum Likelihood optimization failed to converge. Check mle_retvals\n",
            "  warnings.warn(\"Maximum Likelihood optimization failed to \"\n"
          ]
        },
        {
          "name": "stdout",
          "output_type": "stream",
          "text": [
            "Trying with pdq:(2, 0, 2) and s_pdq:(1, 1, 0, 12)\n",
            "Trying with pdq:(2, 0, 2) and s_pdq:(1, 1, 1, 12)\n",
            "Trying with pdq:(2, 0, 2) and s_pdq:(1, 1, 2, 12)\n"
          ]
        },
        {
          "name": "stderr",
          "output_type": "stream",
          "text": [
            "/usr/local/lib/python3.10/dist-packages/statsmodels/base/model.py:607: ConvergenceWarning: Maximum Likelihood optimization failed to converge. Check mle_retvals\n",
            "  warnings.warn(\"Maximum Likelihood optimization failed to \"\n"
          ]
        },
        {
          "name": "stdout",
          "output_type": "stream",
          "text": [
            "Trying with pdq:(2, 0, 2) and s_pdq:(1, 2, 0, 12)\n"
          ]
        },
        {
          "name": "stderr",
          "output_type": "stream",
          "text": [
            "/usr/local/lib/python3.10/dist-packages/statsmodels/base/model.py:607: ConvergenceWarning: Maximum Likelihood optimization failed to converge. Check mle_retvals\n",
            "  warnings.warn(\"Maximum Likelihood optimization failed to \"\n"
          ]
        },
        {
          "name": "stdout",
          "output_type": "stream",
          "text": [
            "Trying with pdq:(2, 0, 2) and s_pdq:(1, 2, 1, 12)\n"
          ]
        },
        {
          "name": "stderr",
          "output_type": "stream",
          "text": [
            "/usr/local/lib/python3.10/dist-packages/statsmodels/base/model.py:607: ConvergenceWarning: Maximum Likelihood optimization failed to converge. Check mle_retvals\n",
            "  warnings.warn(\"Maximum Likelihood optimization failed to \"\n"
          ]
        },
        {
          "name": "stdout",
          "output_type": "stream",
          "text": [
            "Trying with pdq:(2, 0, 2) and s_pdq:(1, 2, 2, 12)\n"
          ]
        },
        {
          "name": "stderr",
          "output_type": "stream",
          "text": [
            "/usr/local/lib/python3.10/dist-packages/statsmodels/base/model.py:607: ConvergenceWarning: Maximum Likelihood optimization failed to converge. Check mle_retvals\n",
            "  warnings.warn(\"Maximum Likelihood optimization failed to \"\n"
          ]
        },
        {
          "name": "stdout",
          "output_type": "stream",
          "text": [
            "Trying with pdq:(2, 0, 2) and s_pdq:(2, 0, 0, 12)\n",
            "Trying with pdq:(2, 0, 2) and s_pdq:(2, 0, 1, 12)\n"
          ]
        },
        {
          "name": "stderr",
          "output_type": "stream",
          "text": [
            "/usr/local/lib/python3.10/dist-packages/statsmodels/base/model.py:607: ConvergenceWarning: Maximum Likelihood optimization failed to converge. Check mle_retvals\n",
            "  warnings.warn(\"Maximum Likelihood optimization failed to \"\n"
          ]
        },
        {
          "name": "stdout",
          "output_type": "stream",
          "text": [
            "Trying with pdq:(2, 0, 2) and s_pdq:(2, 0, 2, 12)\n",
            "Trying with pdq:(2, 0, 2) and s_pdq:(2, 1, 0, 12)\n"
          ]
        },
        {
          "name": "stderr",
          "output_type": "stream",
          "text": [
            "/usr/local/lib/python3.10/dist-packages/statsmodels/base/model.py:607: ConvergenceWarning: Maximum Likelihood optimization failed to converge. Check mle_retvals\n",
            "  warnings.warn(\"Maximum Likelihood optimization failed to \"\n"
          ]
        },
        {
          "name": "stdout",
          "output_type": "stream",
          "text": [
            "Trying with pdq:(2, 0, 2) and s_pdq:(2, 1, 1, 12)\n"
          ]
        },
        {
          "name": "stderr",
          "output_type": "stream",
          "text": [
            "/usr/local/lib/python3.10/dist-packages/statsmodels/base/model.py:607: ConvergenceWarning: Maximum Likelihood optimization failed to converge. Check mle_retvals\n",
            "  warnings.warn(\"Maximum Likelihood optimization failed to \"\n"
          ]
        },
        {
          "name": "stdout",
          "output_type": "stream",
          "text": [
            "Trying with pdq:(2, 0, 2) and s_pdq:(2, 1, 2, 12)\n"
          ]
        },
        {
          "name": "stderr",
          "output_type": "stream",
          "text": [
            "/usr/local/lib/python3.10/dist-packages/statsmodels/base/model.py:607: ConvergenceWarning: Maximum Likelihood optimization failed to converge. Check mle_retvals\n",
            "  warnings.warn(\"Maximum Likelihood optimization failed to \"\n"
          ]
        },
        {
          "name": "stdout",
          "output_type": "stream",
          "text": [
            "Trying with pdq:(2, 0, 2) and s_pdq:(2, 2, 0, 12)\n"
          ]
        },
        {
          "name": "stderr",
          "output_type": "stream",
          "text": [
            "/usr/local/lib/python3.10/dist-packages/statsmodels/base/model.py:607: ConvergenceWarning: Maximum Likelihood optimization failed to converge. Check mle_retvals\n",
            "  warnings.warn(\"Maximum Likelihood optimization failed to \"\n"
          ]
        },
        {
          "name": "stdout",
          "output_type": "stream",
          "text": [
            "Trying with pdq:(2, 0, 2) and s_pdq:(2, 2, 1, 12)\n",
            "Trying with pdq:(2, 0, 2) and s_pdq:(2, 2, 2, 12)\n"
          ]
        },
        {
          "name": "stderr",
          "output_type": "stream",
          "text": [
            "/usr/local/lib/python3.10/dist-packages/statsmodels/base/model.py:607: ConvergenceWarning: Maximum Likelihood optimization failed to converge. Check mle_retvals\n",
            "  warnings.warn(\"Maximum Likelihood optimization failed to \"\n"
          ]
        },
        {
          "name": "stdout",
          "output_type": "stream",
          "text": [
            "Trying with pdq:(2, 1, 0) and s_pdq:(0, 0, 0, 12)\n",
            "Trying with pdq:(2, 1, 0) and s_pdq:(0, 0, 1, 12)\n",
            "Trying with pdq:(2, 1, 0) and s_pdq:(0, 0, 2, 12)\n",
            "Trying with pdq:(2, 1, 0) and s_pdq:(0, 1, 0, 12)\n",
            "Trying with pdq:(2, 1, 0) and s_pdq:(0, 1, 1, 12)\n",
            "Trying with pdq:(2, 1, 0) and s_pdq:(0, 1, 2, 12)\n",
            "Trying with pdq:(2, 1, 0) and s_pdq:(0, 2, 0, 12)\n",
            "Trying with pdq:(2, 1, 0) and s_pdq:(0, 2, 1, 12)\n",
            "Trying with pdq:(2, 1, 0) and s_pdq:(0, 2, 2, 12)\n",
            "Trying with pdq:(2, 1, 0) and s_pdq:(1, 0, 0, 12)\n",
            "Trying with pdq:(2, 1, 0) and s_pdq:(1, 0, 1, 12)\n",
            "Trying with pdq:(2, 1, 0) and s_pdq:(1, 0, 2, 12)\n",
            "Trying with pdq:(2, 1, 0) and s_pdq:(1, 1, 0, 12)\n",
            "Trying with pdq:(2, 1, 0) and s_pdq:(1, 1, 1, 12)\n",
            "Trying with pdq:(2, 1, 0) and s_pdq:(1, 1, 2, 12)\n",
            "Trying with pdq:(2, 1, 0) and s_pdq:(1, 2, 0, 12)\n",
            "Trying with pdq:(2, 1, 0) and s_pdq:(1, 2, 1, 12)\n",
            "Trying with pdq:(2, 1, 0) and s_pdq:(1, 2, 2, 12)\n"
          ]
        },
        {
          "name": "stderr",
          "output_type": "stream",
          "text": [
            "/usr/local/lib/python3.10/dist-packages/statsmodels/base/model.py:607: ConvergenceWarning: Maximum Likelihood optimization failed to converge. Check mle_retvals\n",
            "  warnings.warn(\"Maximum Likelihood optimization failed to \"\n"
          ]
        },
        {
          "name": "stdout",
          "output_type": "stream",
          "text": [
            "Trying with pdq:(2, 1, 0) and s_pdq:(2, 0, 0, 12)\n",
            "Trying with pdq:(2, 1, 0) and s_pdq:(2, 0, 1, 12)\n",
            "Trying with pdq:(2, 1, 0) and s_pdq:(2, 0, 2, 12)\n",
            "Trying with pdq:(2, 1, 0) and s_pdq:(2, 1, 0, 12)\n",
            "Trying with pdq:(2, 1, 0) and s_pdq:(2, 1, 1, 12)\n",
            "Trying with pdq:(2, 1, 0) and s_pdq:(2, 1, 2, 12)\n",
            "Trying with pdq:(2, 1, 0) and s_pdq:(2, 2, 0, 12)\n",
            "Trying with pdq:(2, 1, 0) and s_pdq:(2, 2, 1, 12)\n",
            "Trying with pdq:(2, 1, 0) and s_pdq:(2, 2, 2, 12)\n"
          ]
        },
        {
          "name": "stderr",
          "output_type": "stream",
          "text": [
            "/usr/local/lib/python3.10/dist-packages/statsmodels/base/model.py:607: ConvergenceWarning: Maximum Likelihood optimization failed to converge. Check mle_retvals\n",
            "  warnings.warn(\"Maximum Likelihood optimization failed to \"\n"
          ]
        },
        {
          "name": "stdout",
          "output_type": "stream",
          "text": [
            "Trying with pdq:(2, 1, 1) and s_pdq:(0, 0, 0, 12)\n",
            "Trying with pdq:(2, 1, 1) and s_pdq:(0, 0, 1, 12)\n",
            "Trying with pdq:(2, 1, 1) and s_pdq:(0, 0, 2, 12)\n",
            "Trying with pdq:(2, 1, 1) and s_pdq:(0, 1, 0, 12)\n",
            "Trying with pdq:(2, 1, 1) and s_pdq:(0, 1, 1, 12)\n"
          ]
        },
        {
          "name": "stderr",
          "output_type": "stream",
          "text": [
            "/usr/local/lib/python3.10/dist-packages/statsmodels/base/model.py:607: ConvergenceWarning: Maximum Likelihood optimization failed to converge. Check mle_retvals\n",
            "  warnings.warn(\"Maximum Likelihood optimization failed to \"\n"
          ]
        },
        {
          "name": "stdout",
          "output_type": "stream",
          "text": [
            "Trying with pdq:(2, 1, 1) and s_pdq:(0, 1, 2, 12)\n"
          ]
        },
        {
          "name": "stderr",
          "output_type": "stream",
          "text": [
            "/usr/local/lib/python3.10/dist-packages/statsmodels/base/model.py:607: ConvergenceWarning: Maximum Likelihood optimization failed to converge. Check mle_retvals\n",
            "  warnings.warn(\"Maximum Likelihood optimization failed to \"\n"
          ]
        },
        {
          "name": "stdout",
          "output_type": "stream",
          "text": [
            "Trying with pdq:(2, 1, 1) and s_pdq:(0, 2, 0, 12)\n",
            "Trying with pdq:(2, 1, 1) and s_pdq:(0, 2, 1, 12)\n"
          ]
        },
        {
          "name": "stderr",
          "output_type": "stream",
          "text": [
            "/usr/local/lib/python3.10/dist-packages/statsmodels/base/model.py:607: ConvergenceWarning: Maximum Likelihood optimization failed to converge. Check mle_retvals\n",
            "  warnings.warn(\"Maximum Likelihood optimization failed to \"\n"
          ]
        },
        {
          "name": "stdout",
          "output_type": "stream",
          "text": [
            "Trying with pdq:(2, 1, 1) and s_pdq:(0, 2, 2, 12)\n"
          ]
        },
        {
          "name": "stderr",
          "output_type": "stream",
          "text": [
            "/usr/local/lib/python3.10/dist-packages/statsmodels/base/model.py:607: ConvergenceWarning: Maximum Likelihood optimization failed to converge. Check mle_retvals\n",
            "  warnings.warn(\"Maximum Likelihood optimization failed to \"\n"
          ]
        },
        {
          "name": "stdout",
          "output_type": "stream",
          "text": [
            "Trying with pdq:(2, 1, 1) and s_pdq:(1, 0, 0, 12)\n",
            "Trying with pdq:(2, 1, 1) and s_pdq:(1, 0, 1, 12)\n",
            "Trying with pdq:(2, 1, 1) and s_pdq:(1, 0, 2, 12)\n"
          ]
        },
        {
          "name": "stderr",
          "output_type": "stream",
          "text": [
            "/usr/local/lib/python3.10/dist-packages/statsmodels/base/model.py:607: ConvergenceWarning: Maximum Likelihood optimization failed to converge. Check mle_retvals\n",
            "  warnings.warn(\"Maximum Likelihood optimization failed to \"\n"
          ]
        },
        {
          "name": "stdout",
          "output_type": "stream",
          "text": [
            "Trying with pdq:(2, 1, 1) and s_pdq:(1, 1, 0, 12)\n",
            "Trying with pdq:(2, 1, 1) and s_pdq:(1, 1, 1, 12)\n"
          ]
        },
        {
          "name": "stderr",
          "output_type": "stream",
          "text": [
            "/usr/local/lib/python3.10/dist-packages/statsmodels/base/model.py:607: ConvergenceWarning: Maximum Likelihood optimization failed to converge. Check mle_retvals\n",
            "  warnings.warn(\"Maximum Likelihood optimization failed to \"\n"
          ]
        },
        {
          "name": "stdout",
          "output_type": "stream",
          "text": [
            "Trying with pdq:(2, 1, 1) and s_pdq:(1, 1, 2, 12)\n"
          ]
        },
        {
          "name": "stderr",
          "output_type": "stream",
          "text": [
            "/usr/local/lib/python3.10/dist-packages/statsmodels/base/model.py:607: ConvergenceWarning: Maximum Likelihood optimization failed to converge. Check mle_retvals\n",
            "  warnings.warn(\"Maximum Likelihood optimization failed to \"\n"
          ]
        },
        {
          "name": "stdout",
          "output_type": "stream",
          "text": [
            "Trying with pdq:(2, 1, 1) and s_pdq:(1, 2, 0, 12)\n"
          ]
        },
        {
          "name": "stderr",
          "output_type": "stream",
          "text": [
            "/usr/local/lib/python3.10/dist-packages/statsmodels/base/model.py:607: ConvergenceWarning: Maximum Likelihood optimization failed to converge. Check mle_retvals\n",
            "  warnings.warn(\"Maximum Likelihood optimization failed to \"\n"
          ]
        },
        {
          "name": "stdout",
          "output_type": "stream",
          "text": [
            "Trying with pdq:(2, 1, 1) and s_pdq:(1, 2, 1, 12)\n"
          ]
        },
        {
          "name": "stderr",
          "output_type": "stream",
          "text": [
            "/usr/local/lib/python3.10/dist-packages/statsmodels/base/model.py:607: ConvergenceWarning: Maximum Likelihood optimization failed to converge. Check mle_retvals\n",
            "  warnings.warn(\"Maximum Likelihood optimization failed to \"\n"
          ]
        },
        {
          "name": "stdout",
          "output_type": "stream",
          "text": [
            "Trying with pdq:(2, 1, 1) and s_pdq:(1, 2, 2, 12)\n"
          ]
        },
        {
          "name": "stderr",
          "output_type": "stream",
          "text": [
            "/usr/local/lib/python3.10/dist-packages/statsmodels/base/model.py:607: ConvergenceWarning: Maximum Likelihood optimization failed to converge. Check mle_retvals\n",
            "  warnings.warn(\"Maximum Likelihood optimization failed to \"\n"
          ]
        },
        {
          "name": "stdout",
          "output_type": "stream",
          "text": [
            "Trying with pdq:(2, 1, 1) and s_pdq:(2, 0, 0, 12)\n",
            "Trying with pdq:(2, 1, 1) and s_pdq:(2, 0, 1, 12)\n",
            "Trying with pdq:(2, 1, 1) and s_pdq:(2, 0, 2, 12)\n"
          ]
        },
        {
          "name": "stderr",
          "output_type": "stream",
          "text": [
            "/usr/local/lib/python3.10/dist-packages/statsmodels/base/model.py:607: ConvergenceWarning: Maximum Likelihood optimization failed to converge. Check mle_retvals\n",
            "  warnings.warn(\"Maximum Likelihood optimization failed to \"\n"
          ]
        },
        {
          "name": "stdout",
          "output_type": "stream",
          "text": [
            "Trying with pdq:(2, 1, 1) and s_pdq:(2, 1, 0, 12)\n",
            "Trying with pdq:(2, 1, 1) and s_pdq:(2, 1, 1, 12)\n"
          ]
        },
        {
          "name": "stderr",
          "output_type": "stream",
          "text": [
            "/usr/local/lib/python3.10/dist-packages/statsmodels/base/model.py:607: ConvergenceWarning: Maximum Likelihood optimization failed to converge. Check mle_retvals\n",
            "  warnings.warn(\"Maximum Likelihood optimization failed to \"\n"
          ]
        },
        {
          "name": "stdout",
          "output_type": "stream",
          "text": [
            "Trying with pdq:(2, 1, 1) and s_pdq:(2, 1, 2, 12)\n"
          ]
        },
        {
          "name": "stderr",
          "output_type": "stream",
          "text": [
            "/usr/local/lib/python3.10/dist-packages/statsmodels/base/model.py:607: ConvergenceWarning: Maximum Likelihood optimization failed to converge. Check mle_retvals\n",
            "  warnings.warn(\"Maximum Likelihood optimization failed to \"\n"
          ]
        },
        {
          "name": "stdout",
          "output_type": "stream",
          "text": [
            "Trying with pdq:(2, 1, 1) and s_pdq:(2, 2, 0, 12)\n"
          ]
        },
        {
          "name": "stderr",
          "output_type": "stream",
          "text": [
            "/usr/local/lib/python3.10/dist-packages/statsmodels/base/model.py:607: ConvergenceWarning: Maximum Likelihood optimization failed to converge. Check mle_retvals\n",
            "  warnings.warn(\"Maximum Likelihood optimization failed to \"\n"
          ]
        },
        {
          "name": "stdout",
          "output_type": "stream",
          "text": [
            "Trying with pdq:(2, 1, 1) and s_pdq:(2, 2, 1, 12)\n"
          ]
        },
        {
          "name": "stderr",
          "output_type": "stream",
          "text": [
            "/usr/local/lib/python3.10/dist-packages/statsmodels/base/model.py:607: ConvergenceWarning: Maximum Likelihood optimization failed to converge. Check mle_retvals\n",
            "  warnings.warn(\"Maximum Likelihood optimization failed to \"\n"
          ]
        },
        {
          "name": "stdout",
          "output_type": "stream",
          "text": [
            "Trying with pdq:(2, 1, 1) and s_pdq:(2, 2, 2, 12)\n"
          ]
        },
        {
          "name": "stderr",
          "output_type": "stream",
          "text": [
            "/usr/local/lib/python3.10/dist-packages/statsmodels/base/model.py:607: ConvergenceWarning: Maximum Likelihood optimization failed to converge. Check mle_retvals\n",
            "  warnings.warn(\"Maximum Likelihood optimization failed to \"\n"
          ]
        },
        {
          "name": "stdout",
          "output_type": "stream",
          "text": [
            "Trying with pdq:(2, 1, 2) and s_pdq:(0, 0, 0, 12)\n",
            "Trying with pdq:(2, 1, 2) and s_pdq:(0, 0, 1, 12)\n",
            "Trying with pdq:(2, 1, 2) and s_pdq:(0, 0, 2, 12)\n",
            "Trying with pdq:(2, 1, 2) and s_pdq:(0, 1, 0, 12)\n",
            "Trying with pdq:(2, 1, 2) and s_pdq:(0, 1, 1, 12)\n"
          ]
        },
        {
          "name": "stderr",
          "output_type": "stream",
          "text": [
            "/usr/local/lib/python3.10/dist-packages/statsmodels/base/model.py:607: ConvergenceWarning: Maximum Likelihood optimization failed to converge. Check mle_retvals\n",
            "  warnings.warn(\"Maximum Likelihood optimization failed to \"\n"
          ]
        },
        {
          "name": "stdout",
          "output_type": "stream",
          "text": [
            "Trying with pdq:(2, 1, 2) and s_pdq:(0, 1, 2, 12)\n"
          ]
        },
        {
          "name": "stderr",
          "output_type": "stream",
          "text": [
            "/usr/local/lib/python3.10/dist-packages/statsmodels/base/model.py:607: ConvergenceWarning: Maximum Likelihood optimization failed to converge. Check mle_retvals\n",
            "  warnings.warn(\"Maximum Likelihood optimization failed to \"\n"
          ]
        },
        {
          "name": "stdout",
          "output_type": "stream",
          "text": [
            "Trying with pdq:(2, 1, 2) and s_pdq:(0, 2, 0, 12)\n",
            "Trying with pdq:(2, 1, 2) and s_pdq:(0, 2, 1, 12)\n"
          ]
        },
        {
          "name": "stderr",
          "output_type": "stream",
          "text": [
            "/usr/local/lib/python3.10/dist-packages/statsmodels/base/model.py:607: ConvergenceWarning: Maximum Likelihood optimization failed to converge. Check mle_retvals\n",
            "  warnings.warn(\"Maximum Likelihood optimization failed to \"\n"
          ]
        },
        {
          "name": "stdout",
          "output_type": "stream",
          "text": [
            "Trying with pdq:(2, 1, 2) and s_pdq:(0, 2, 2, 12)\n"
          ]
        },
        {
          "name": "stderr",
          "output_type": "stream",
          "text": [
            "/usr/local/lib/python3.10/dist-packages/statsmodels/base/model.py:607: ConvergenceWarning: Maximum Likelihood optimization failed to converge. Check mle_retvals\n",
            "  warnings.warn(\"Maximum Likelihood optimization failed to \"\n"
          ]
        },
        {
          "name": "stdout",
          "output_type": "stream",
          "text": [
            "Trying with pdq:(2, 1, 2) and s_pdq:(1, 0, 0, 12)\n",
            "Trying with pdq:(2, 1, 2) and s_pdq:(1, 0, 1, 12)\n",
            "Trying with pdq:(2, 1, 2) and s_pdq:(1, 0, 2, 12)\n",
            "Trying with pdq:(2, 1, 2) and s_pdq:(1, 1, 0, 12)\n"
          ]
        },
        {
          "name": "stderr",
          "output_type": "stream",
          "text": [
            "/usr/local/lib/python3.10/dist-packages/statsmodels/base/model.py:607: ConvergenceWarning: Maximum Likelihood optimization failed to converge. Check mle_retvals\n",
            "  warnings.warn(\"Maximum Likelihood optimization failed to \"\n"
          ]
        },
        {
          "name": "stdout",
          "output_type": "stream",
          "text": [
            "Trying with pdq:(2, 1, 2) and s_pdq:(1, 1, 1, 12)\n"
          ]
        },
        {
          "name": "stderr",
          "output_type": "stream",
          "text": [
            "/usr/local/lib/python3.10/dist-packages/statsmodels/base/model.py:607: ConvergenceWarning: Maximum Likelihood optimization failed to converge. Check mle_retvals\n",
            "  warnings.warn(\"Maximum Likelihood optimization failed to \"\n"
          ]
        },
        {
          "name": "stdout",
          "output_type": "stream",
          "text": [
            "Trying with pdq:(2, 1, 2) and s_pdq:(1, 1, 2, 12)\n"
          ]
        },
        {
          "name": "stderr",
          "output_type": "stream",
          "text": [
            "/usr/local/lib/python3.10/dist-packages/statsmodels/base/model.py:607: ConvergenceWarning: Maximum Likelihood optimization failed to converge. Check mle_retvals\n",
            "  warnings.warn(\"Maximum Likelihood optimization failed to \"\n"
          ]
        },
        {
          "name": "stdout",
          "output_type": "stream",
          "text": [
            "Trying with pdq:(2, 1, 2) and s_pdq:(1, 2, 0, 12)\n"
          ]
        },
        {
          "name": "stderr",
          "output_type": "stream",
          "text": [
            "/usr/local/lib/python3.10/dist-packages/statsmodels/base/model.py:607: ConvergenceWarning: Maximum Likelihood optimization failed to converge. Check mle_retvals\n",
            "  warnings.warn(\"Maximum Likelihood optimization failed to \"\n"
          ]
        },
        {
          "name": "stdout",
          "output_type": "stream",
          "text": [
            "Trying with pdq:(2, 1, 2) and s_pdq:(1, 2, 1, 12)\n"
          ]
        },
        {
          "name": "stderr",
          "output_type": "stream",
          "text": [
            "/usr/local/lib/python3.10/dist-packages/statsmodels/base/model.py:607: ConvergenceWarning: Maximum Likelihood optimization failed to converge. Check mle_retvals\n",
            "  warnings.warn(\"Maximum Likelihood optimization failed to \"\n"
          ]
        },
        {
          "name": "stdout",
          "output_type": "stream",
          "text": [
            "Trying with pdq:(2, 1, 2) and s_pdq:(1, 2, 2, 12)\n"
          ]
        },
        {
          "name": "stderr",
          "output_type": "stream",
          "text": [
            "/usr/local/lib/python3.10/dist-packages/statsmodels/base/model.py:607: ConvergenceWarning: Maximum Likelihood optimization failed to converge. Check mle_retvals\n",
            "  warnings.warn(\"Maximum Likelihood optimization failed to \"\n"
          ]
        },
        {
          "name": "stdout",
          "output_type": "stream",
          "text": [
            "Trying with pdq:(2, 1, 2) and s_pdq:(2, 0, 0, 12)\n",
            "Trying with pdq:(2, 1, 2) and s_pdq:(2, 0, 1, 12)\n"
          ]
        },
        {
          "name": "stderr",
          "output_type": "stream",
          "text": [
            "/usr/local/lib/python3.10/dist-packages/statsmodels/base/model.py:607: ConvergenceWarning: Maximum Likelihood optimization failed to converge. Check mle_retvals\n",
            "  warnings.warn(\"Maximum Likelihood optimization failed to \"\n"
          ]
        },
        {
          "name": "stdout",
          "output_type": "stream",
          "text": [
            "Trying with pdq:(2, 1, 2) and s_pdq:(2, 0, 2, 12)\n"
          ]
        },
        {
          "name": "stderr",
          "output_type": "stream",
          "text": [
            "/usr/local/lib/python3.10/dist-packages/statsmodels/base/model.py:607: ConvergenceWarning: Maximum Likelihood optimization failed to converge. Check mle_retvals\n",
            "  warnings.warn(\"Maximum Likelihood optimization failed to \"\n"
          ]
        },
        {
          "name": "stdout",
          "output_type": "stream",
          "text": [
            "Trying with pdq:(2, 1, 2) and s_pdq:(2, 1, 0, 12)\n"
          ]
        },
        {
          "name": "stderr",
          "output_type": "stream",
          "text": [
            "/usr/local/lib/python3.10/dist-packages/statsmodels/base/model.py:607: ConvergenceWarning: Maximum Likelihood optimization failed to converge. Check mle_retvals\n",
            "  warnings.warn(\"Maximum Likelihood optimization failed to \"\n"
          ]
        },
        {
          "name": "stdout",
          "output_type": "stream",
          "text": [
            "Trying with pdq:(2, 1, 2) and s_pdq:(2, 1, 1, 12)\n"
          ]
        },
        {
          "name": "stderr",
          "output_type": "stream",
          "text": [
            "/usr/local/lib/python3.10/dist-packages/statsmodels/base/model.py:607: ConvergenceWarning: Maximum Likelihood optimization failed to converge. Check mle_retvals\n",
            "  warnings.warn(\"Maximum Likelihood optimization failed to \"\n"
          ]
        },
        {
          "name": "stdout",
          "output_type": "stream",
          "text": [
            "Trying with pdq:(2, 1, 2) and s_pdq:(2, 1, 2, 12)\n"
          ]
        },
        {
          "name": "stderr",
          "output_type": "stream",
          "text": [
            "/usr/local/lib/python3.10/dist-packages/statsmodels/base/model.py:607: ConvergenceWarning: Maximum Likelihood optimization failed to converge. Check mle_retvals\n",
            "  warnings.warn(\"Maximum Likelihood optimization failed to \"\n"
          ]
        },
        {
          "name": "stdout",
          "output_type": "stream",
          "text": [
            "Trying with pdq:(2, 1, 2) and s_pdq:(2, 2, 0, 12)\n"
          ]
        },
        {
          "name": "stderr",
          "output_type": "stream",
          "text": [
            "/usr/local/lib/python3.10/dist-packages/statsmodels/base/model.py:607: ConvergenceWarning: Maximum Likelihood optimization failed to converge. Check mle_retvals\n",
            "  warnings.warn(\"Maximum Likelihood optimization failed to \"\n"
          ]
        },
        {
          "name": "stdout",
          "output_type": "stream",
          "text": [
            "Trying with pdq:(2, 1, 2) and s_pdq:(2, 2, 1, 12)\n"
          ]
        },
        {
          "name": "stderr",
          "output_type": "stream",
          "text": [
            "/usr/local/lib/python3.10/dist-packages/statsmodels/base/model.py:607: ConvergenceWarning: Maximum Likelihood optimization failed to converge. Check mle_retvals\n",
            "  warnings.warn(\"Maximum Likelihood optimization failed to \"\n"
          ]
        },
        {
          "name": "stdout",
          "output_type": "stream",
          "text": [
            "Trying with pdq:(2, 1, 2) and s_pdq:(2, 2, 2, 12)\n"
          ]
        },
        {
          "name": "stderr",
          "output_type": "stream",
          "text": [
            "/usr/local/lib/python3.10/dist-packages/statsmodels/base/model.py:607: ConvergenceWarning: Maximum Likelihood optimization failed to converge. Check mle_retvals\n",
            "  warnings.warn(\"Maximum Likelihood optimization failed to \"\n"
          ]
        },
        {
          "name": "stdout",
          "output_type": "stream",
          "text": [
            "Trying with pdq:(2, 2, 0) and s_pdq:(0, 0, 0, 12)\n",
            "Trying with pdq:(2, 2, 0) and s_pdq:(0, 0, 1, 12)\n",
            "Trying with pdq:(2, 2, 0) and s_pdq:(0, 0, 2, 12)\n",
            "Trying with pdq:(2, 2, 0) and s_pdq:(0, 1, 0, 12)\n",
            "Trying with pdq:(2, 2, 0) and s_pdq:(0, 1, 1, 12)\n",
            "Trying with pdq:(2, 2, 0) and s_pdq:(0, 1, 2, 12)\n",
            "Trying with pdq:(2, 2, 0) and s_pdq:(0, 2, 0, 12)\n",
            "Trying with pdq:(2, 2, 0) and s_pdq:(0, 2, 1, 12)\n",
            "Trying with pdq:(2, 2, 0) and s_pdq:(0, 2, 2, 12)\n",
            "Trying with pdq:(2, 2, 0) and s_pdq:(1, 0, 0, 12)\n",
            "Trying with pdq:(2, 2, 0) and s_pdq:(1, 0, 1, 12)\n",
            "Trying with pdq:(2, 2, 0) and s_pdq:(1, 0, 2, 12)\n",
            "Trying with pdq:(2, 2, 0) and s_pdq:(1, 1, 0, 12)\n",
            "Trying with pdq:(2, 2, 0) and s_pdq:(1, 1, 1, 12)\n",
            "Trying with pdq:(2, 2, 0) and s_pdq:(1, 1, 2, 12)\n",
            "Trying with pdq:(2, 2, 0) and s_pdq:(1, 2, 0, 12)\n",
            "Trying with pdq:(2, 2, 0) and s_pdq:(1, 2, 1, 12)\n",
            "Trying with pdq:(2, 2, 0) and s_pdq:(1, 2, 2, 12)\n"
          ]
        },
        {
          "name": "stderr",
          "output_type": "stream",
          "text": [
            "/usr/local/lib/python3.10/dist-packages/statsmodels/base/model.py:607: ConvergenceWarning: Maximum Likelihood optimization failed to converge. Check mle_retvals\n",
            "  warnings.warn(\"Maximum Likelihood optimization failed to \"\n"
          ]
        },
        {
          "name": "stdout",
          "output_type": "stream",
          "text": [
            "Trying with pdq:(2, 2, 0) and s_pdq:(2, 0, 0, 12)\n",
            "Trying with pdq:(2, 2, 0) and s_pdq:(2, 0, 1, 12)\n",
            "Trying with pdq:(2, 2, 0) and s_pdq:(2, 0, 2, 12)\n",
            "Trying with pdq:(2, 2, 0) and s_pdq:(2, 1, 0, 12)\n",
            "Trying with pdq:(2, 2, 0) and s_pdq:(2, 1, 1, 12)\n",
            "Trying with pdq:(2, 2, 0) and s_pdq:(2, 1, 2, 12)\n",
            "Trying with pdq:(2, 2, 0) and s_pdq:(2, 2, 0, 12)\n",
            "Trying with pdq:(2, 2, 0) and s_pdq:(2, 2, 1, 12)\n",
            "Trying with pdq:(2, 2, 0) and s_pdq:(2, 2, 2, 12)\n"
          ]
        },
        {
          "name": "stderr",
          "output_type": "stream",
          "text": [
            "/usr/local/lib/python3.10/dist-packages/statsmodels/base/model.py:607: ConvergenceWarning: Maximum Likelihood optimization failed to converge. Check mle_retvals\n",
            "  warnings.warn(\"Maximum Likelihood optimization failed to \"\n"
          ]
        },
        {
          "name": "stdout",
          "output_type": "stream",
          "text": [
            "Trying with pdq:(2, 2, 1) and s_pdq:(0, 0, 0, 12)\n",
            "Trying with pdq:(2, 2, 1) and s_pdq:(0, 0, 1, 12)\n",
            "Trying with pdq:(2, 2, 1) and s_pdq:(0, 0, 2, 12)\n",
            "Trying with pdq:(2, 2, 1) and s_pdq:(0, 1, 0, 12)\n",
            "Trying with pdq:(2, 2, 1) and s_pdq:(0, 1, 1, 12)\n",
            "Trying with pdq:(2, 2, 1) and s_pdq:(0, 1, 2, 12)\n",
            "Trying with pdq:(2, 2, 1) and s_pdq:(0, 2, 0, 12)\n",
            "Trying with pdq:(2, 2, 1) and s_pdq:(0, 2, 1, 12)\n",
            "Trying with pdq:(2, 2, 1) and s_pdq:(0, 2, 2, 12)\n"
          ]
        },
        {
          "name": "stderr",
          "output_type": "stream",
          "text": [
            "/usr/local/lib/python3.10/dist-packages/statsmodels/base/model.py:607: ConvergenceWarning: Maximum Likelihood optimization failed to converge. Check mle_retvals\n",
            "  warnings.warn(\"Maximum Likelihood optimization failed to \"\n"
          ]
        },
        {
          "name": "stdout",
          "output_type": "stream",
          "text": [
            "Trying with pdq:(2, 2, 1) and s_pdq:(1, 0, 0, 12)\n",
            "Trying with pdq:(2, 2, 1) and s_pdq:(1, 0, 1, 12)\n",
            "Trying with pdq:(2, 2, 1) and s_pdq:(1, 0, 2, 12)\n",
            "Trying with pdq:(2, 2, 1) and s_pdq:(1, 1, 0, 12)\n",
            "Trying with pdq:(2, 2, 1) and s_pdq:(1, 1, 1, 12)\n",
            "Trying with pdq:(2, 2, 1) and s_pdq:(1, 1, 2, 12)\n"
          ]
        },
        {
          "name": "stderr",
          "output_type": "stream",
          "text": [
            "/usr/local/lib/python3.10/dist-packages/statsmodels/base/model.py:607: ConvergenceWarning: Maximum Likelihood optimization failed to converge. Check mle_retvals\n",
            "  warnings.warn(\"Maximum Likelihood optimization failed to \"\n"
          ]
        },
        {
          "name": "stdout",
          "output_type": "stream",
          "text": [
            "Trying with pdq:(2, 2, 1) and s_pdq:(1, 2, 0, 12)\n",
            "Trying with pdq:(2, 2, 1) and s_pdq:(1, 2, 1, 12)\n",
            "Trying with pdq:(2, 2, 1) and s_pdq:(1, 2, 2, 12)\n"
          ]
        },
        {
          "name": "stderr",
          "output_type": "stream",
          "text": [
            "/usr/local/lib/python3.10/dist-packages/statsmodels/base/model.py:607: ConvergenceWarning: Maximum Likelihood optimization failed to converge. Check mle_retvals\n",
            "  warnings.warn(\"Maximum Likelihood optimization failed to \"\n"
          ]
        },
        {
          "name": "stdout",
          "output_type": "stream",
          "text": [
            "Trying with pdq:(2, 2, 1) and s_pdq:(2, 0, 0, 12)\n",
            "Trying with pdq:(2, 2, 1) and s_pdq:(2, 0, 1, 12)\n",
            "Trying with pdq:(2, 2, 1) and s_pdq:(2, 0, 2, 12)\n"
          ]
        },
        {
          "name": "stderr",
          "output_type": "stream",
          "text": [
            "/usr/local/lib/python3.10/dist-packages/statsmodels/base/model.py:607: ConvergenceWarning: Maximum Likelihood optimization failed to converge. Check mle_retvals\n",
            "  warnings.warn(\"Maximum Likelihood optimization failed to \"\n"
          ]
        },
        {
          "name": "stdout",
          "output_type": "stream",
          "text": [
            "Trying with pdq:(2, 2, 1) and s_pdq:(2, 1, 0, 12)\n",
            "Trying with pdq:(2, 2, 1) and s_pdq:(2, 1, 1, 12)\n",
            "Trying with pdq:(2, 2, 1) and s_pdq:(2, 1, 2, 12)\n"
          ]
        },
        {
          "name": "stderr",
          "output_type": "stream",
          "text": [
            "/usr/local/lib/python3.10/dist-packages/statsmodels/base/model.py:607: ConvergenceWarning: Maximum Likelihood optimization failed to converge. Check mle_retvals\n",
            "  warnings.warn(\"Maximum Likelihood optimization failed to \"\n"
          ]
        },
        {
          "name": "stdout",
          "output_type": "stream",
          "text": [
            "Trying with pdq:(2, 2, 1) and s_pdq:(2, 2, 0, 12)\n",
            "Trying with pdq:(2, 2, 1) and s_pdq:(2, 2, 1, 12)\n"
          ]
        },
        {
          "name": "stderr",
          "output_type": "stream",
          "text": [
            "/usr/local/lib/python3.10/dist-packages/statsmodels/base/model.py:607: ConvergenceWarning: Maximum Likelihood optimization failed to converge. Check mle_retvals\n",
            "  warnings.warn(\"Maximum Likelihood optimization failed to \"\n"
          ]
        },
        {
          "name": "stdout",
          "output_type": "stream",
          "text": [
            "Trying with pdq:(2, 2, 1) and s_pdq:(2, 2, 2, 12)\n"
          ]
        },
        {
          "name": "stderr",
          "output_type": "stream",
          "text": [
            "/usr/local/lib/python3.10/dist-packages/statsmodels/base/model.py:607: ConvergenceWarning: Maximum Likelihood optimization failed to converge. Check mle_retvals\n",
            "  warnings.warn(\"Maximum Likelihood optimization failed to \"\n"
          ]
        },
        {
          "name": "stdout",
          "output_type": "stream",
          "text": [
            "Trying with pdq:(2, 2, 2) and s_pdq:(0, 0, 0, 12)\n",
            "Trying with pdq:(2, 2, 2) and s_pdq:(0, 0, 1, 12)\n"
          ]
        },
        {
          "name": "stderr",
          "output_type": "stream",
          "text": [
            "/usr/local/lib/python3.10/dist-packages/statsmodels/base/model.py:607: ConvergenceWarning: Maximum Likelihood optimization failed to converge. Check mle_retvals\n",
            "  warnings.warn(\"Maximum Likelihood optimization failed to \"\n"
          ]
        },
        {
          "name": "stdout",
          "output_type": "stream",
          "text": [
            "Trying with pdq:(2, 2, 2) and s_pdq:(0, 0, 2, 12)\n"
          ]
        },
        {
          "name": "stderr",
          "output_type": "stream",
          "text": [
            "/usr/local/lib/python3.10/dist-packages/statsmodels/base/model.py:607: ConvergenceWarning: Maximum Likelihood optimization failed to converge. Check mle_retvals\n",
            "  warnings.warn(\"Maximum Likelihood optimization failed to \"\n"
          ]
        },
        {
          "name": "stdout",
          "output_type": "stream",
          "text": [
            "Trying with pdq:(2, 2, 2) and s_pdq:(0, 1, 0, 12)\n",
            "Trying with pdq:(2, 2, 2) and s_pdq:(0, 1, 1, 12)\n"
          ]
        },
        {
          "name": "stderr",
          "output_type": "stream",
          "text": [
            "/usr/local/lib/python3.10/dist-packages/statsmodels/base/model.py:607: ConvergenceWarning: Maximum Likelihood optimization failed to converge. Check mle_retvals\n",
            "  warnings.warn(\"Maximum Likelihood optimization failed to \"\n"
          ]
        },
        {
          "name": "stdout",
          "output_type": "stream",
          "text": [
            "Trying with pdq:(2, 2, 2) and s_pdq:(0, 1, 2, 12)\n"
          ]
        },
        {
          "name": "stderr",
          "output_type": "stream",
          "text": [
            "/usr/local/lib/python3.10/dist-packages/statsmodels/base/model.py:607: ConvergenceWarning: Maximum Likelihood optimization failed to converge. Check mle_retvals\n",
            "  warnings.warn(\"Maximum Likelihood optimization failed to \"\n"
          ]
        },
        {
          "name": "stdout",
          "output_type": "stream",
          "text": [
            "Trying with pdq:(2, 2, 2) and s_pdq:(0, 2, 0, 12)\n",
            "Trying with pdq:(2, 2, 2) and s_pdq:(0, 2, 1, 12)\n",
            "Trying with pdq:(2, 2, 2) and s_pdq:(0, 2, 2, 12)\n"
          ]
        },
        {
          "name": "stderr",
          "output_type": "stream",
          "text": [
            "/usr/local/lib/python3.10/dist-packages/statsmodels/base/model.py:607: ConvergenceWarning: Maximum Likelihood optimization failed to converge. Check mle_retvals\n",
            "  warnings.warn(\"Maximum Likelihood optimization failed to \"\n"
          ]
        },
        {
          "name": "stdout",
          "output_type": "stream",
          "text": [
            "Trying with pdq:(2, 2, 2) and s_pdq:(1, 0, 0, 12)\n",
            "Trying with pdq:(2, 2, 2) and s_pdq:(1, 0, 1, 12)\n"
          ]
        },
        {
          "name": "stderr",
          "output_type": "stream",
          "text": [
            "/usr/local/lib/python3.10/dist-packages/statsmodels/base/model.py:607: ConvergenceWarning: Maximum Likelihood optimization failed to converge. Check mle_retvals\n",
            "  warnings.warn(\"Maximum Likelihood optimization failed to \"\n"
          ]
        },
        {
          "name": "stdout",
          "output_type": "stream",
          "text": [
            "Trying with pdq:(2, 2, 2) and s_pdq:(1, 0, 2, 12)\n"
          ]
        },
        {
          "name": "stderr",
          "output_type": "stream",
          "text": [
            "/usr/local/lib/python3.10/dist-packages/statsmodels/base/model.py:607: ConvergenceWarning: Maximum Likelihood optimization failed to converge. Check mle_retvals\n",
            "  warnings.warn(\"Maximum Likelihood optimization failed to \"\n"
          ]
        },
        {
          "name": "stdout",
          "output_type": "stream",
          "text": [
            "Trying with pdq:(2, 2, 2) and s_pdq:(1, 1, 0, 12)\n"
          ]
        },
        {
          "name": "stderr",
          "output_type": "stream",
          "text": [
            "/usr/local/lib/python3.10/dist-packages/statsmodels/base/model.py:607: ConvergenceWarning: Maximum Likelihood optimization failed to converge. Check mle_retvals\n",
            "  warnings.warn(\"Maximum Likelihood optimization failed to \"\n"
          ]
        },
        {
          "name": "stdout",
          "output_type": "stream",
          "text": [
            "Trying with pdq:(2, 2, 2) and s_pdq:(1, 1, 1, 12)\n"
          ]
        },
        {
          "name": "stderr",
          "output_type": "stream",
          "text": [
            "/usr/local/lib/python3.10/dist-packages/statsmodels/base/model.py:607: ConvergenceWarning: Maximum Likelihood optimization failed to converge. Check mle_retvals\n",
            "  warnings.warn(\"Maximum Likelihood optimization failed to \"\n"
          ]
        },
        {
          "name": "stdout",
          "output_type": "stream",
          "text": [
            "Trying with pdq:(2, 2, 2) and s_pdq:(1, 1, 2, 12)\n"
          ]
        },
        {
          "name": "stderr",
          "output_type": "stream",
          "text": [
            "/usr/local/lib/python3.10/dist-packages/statsmodels/base/model.py:607: ConvergenceWarning: Maximum Likelihood optimization failed to converge. Check mle_retvals\n",
            "  warnings.warn(\"Maximum Likelihood optimization failed to \"\n"
          ]
        },
        {
          "name": "stdout",
          "output_type": "stream",
          "text": [
            "Trying with pdq:(2, 2, 2) and s_pdq:(1, 2, 0, 12)\n"
          ]
        },
        {
          "name": "stderr",
          "output_type": "stream",
          "text": [
            "/usr/local/lib/python3.10/dist-packages/statsmodels/base/model.py:607: ConvergenceWarning: Maximum Likelihood optimization failed to converge. Check mle_retvals\n",
            "  warnings.warn(\"Maximum Likelihood optimization failed to \"\n"
          ]
        },
        {
          "name": "stdout",
          "output_type": "stream",
          "text": [
            "Trying with pdq:(2, 2, 2) and s_pdq:(1, 2, 1, 12)\n",
            "Trying with pdq:(2, 2, 2) and s_pdq:(1, 2, 2, 12)\n"
          ]
        },
        {
          "name": "stderr",
          "output_type": "stream",
          "text": [
            "/usr/local/lib/python3.10/dist-packages/statsmodels/base/model.py:607: ConvergenceWarning: Maximum Likelihood optimization failed to converge. Check mle_retvals\n",
            "  warnings.warn(\"Maximum Likelihood optimization failed to \"\n"
          ]
        },
        {
          "name": "stdout",
          "output_type": "stream",
          "text": [
            "Trying with pdq:(2, 2, 2) and s_pdq:(2, 0, 0, 12)\n"
          ]
        },
        {
          "name": "stderr",
          "output_type": "stream",
          "text": [
            "/usr/local/lib/python3.10/dist-packages/statsmodels/base/model.py:607: ConvergenceWarning: Maximum Likelihood optimization failed to converge. Check mle_retvals\n",
            "  warnings.warn(\"Maximum Likelihood optimization failed to \"\n"
          ]
        },
        {
          "name": "stdout",
          "output_type": "stream",
          "text": [
            "Trying with pdq:(2, 2, 2) and s_pdq:(2, 0, 1, 12)\n"
          ]
        },
        {
          "name": "stderr",
          "output_type": "stream",
          "text": [
            "/usr/local/lib/python3.10/dist-packages/statsmodels/base/model.py:607: ConvergenceWarning: Maximum Likelihood optimization failed to converge. Check mle_retvals\n",
            "  warnings.warn(\"Maximum Likelihood optimization failed to \"\n"
          ]
        },
        {
          "name": "stdout",
          "output_type": "stream",
          "text": [
            "Trying with pdq:(2, 2, 2) and s_pdq:(2, 0, 2, 12)\n"
          ]
        },
        {
          "name": "stderr",
          "output_type": "stream",
          "text": [
            "/usr/local/lib/python3.10/dist-packages/statsmodels/base/model.py:607: ConvergenceWarning: Maximum Likelihood optimization failed to converge. Check mle_retvals\n",
            "  warnings.warn(\"Maximum Likelihood optimization failed to \"\n"
          ]
        },
        {
          "name": "stdout",
          "output_type": "stream",
          "text": [
            "Trying with pdq:(2, 2, 2) and s_pdq:(2, 1, 0, 12)\n"
          ]
        },
        {
          "name": "stderr",
          "output_type": "stream",
          "text": [
            "/usr/local/lib/python3.10/dist-packages/statsmodels/base/model.py:607: ConvergenceWarning: Maximum Likelihood optimization failed to converge. Check mle_retvals\n",
            "  warnings.warn(\"Maximum Likelihood optimization failed to \"\n"
          ]
        },
        {
          "name": "stdout",
          "output_type": "stream",
          "text": [
            "Trying with pdq:(2, 2, 2) and s_pdq:(2, 1, 1, 12)\n"
          ]
        },
        {
          "name": "stderr",
          "output_type": "stream",
          "text": [
            "/usr/local/lib/python3.10/dist-packages/statsmodels/base/model.py:607: ConvergenceWarning: Maximum Likelihood optimization failed to converge. Check mle_retvals\n",
            "  warnings.warn(\"Maximum Likelihood optimization failed to \"\n"
          ]
        },
        {
          "name": "stdout",
          "output_type": "stream",
          "text": [
            "Trying with pdq:(2, 2, 2) and s_pdq:(2, 1, 2, 12)\n"
          ]
        },
        {
          "name": "stderr",
          "output_type": "stream",
          "text": [
            "/usr/local/lib/python3.10/dist-packages/statsmodels/base/model.py:607: ConvergenceWarning: Maximum Likelihood optimization failed to converge. Check mle_retvals\n",
            "  warnings.warn(\"Maximum Likelihood optimization failed to \"\n"
          ]
        },
        {
          "name": "stdout",
          "output_type": "stream",
          "text": [
            "Trying with pdq:(2, 2, 2) and s_pdq:(2, 2, 0, 12)\n"
          ]
        },
        {
          "name": "stderr",
          "output_type": "stream",
          "text": [
            "/usr/local/lib/python3.10/dist-packages/statsmodels/base/model.py:607: ConvergenceWarning: Maximum Likelihood optimization failed to converge. Check mle_retvals\n",
            "  warnings.warn(\"Maximum Likelihood optimization failed to \"\n"
          ]
        },
        {
          "name": "stdout",
          "output_type": "stream",
          "text": [
            "Trying with pdq:(2, 2, 2) and s_pdq:(2, 2, 1, 12)\n"
          ]
        },
        {
          "name": "stderr",
          "output_type": "stream",
          "text": [
            "/usr/local/lib/python3.10/dist-packages/statsmodels/base/model.py:607: ConvergenceWarning: Maximum Likelihood optimization failed to converge. Check mle_retvals\n",
            "  warnings.warn(\"Maximum Likelihood optimization failed to \"\n"
          ]
        },
        {
          "name": "stdout",
          "output_type": "stream",
          "text": [
            "Trying with pdq:(2, 2, 2) and s_pdq:(2, 2, 2, 12)\n"
          ]
        },
        {
          "name": "stderr",
          "output_type": "stream",
          "text": [
            "/usr/local/lib/python3.10/dist-packages/statsmodels/base/model.py:607: ConvergenceWarning: Maximum Likelihood optimization failed to converge. Check mle_retvals\n",
            "  warnings.warn(\"Maximum Likelihood optimization failed to \"\n"
          ]
        }
      ],
      "source": [
        "# Grid search for best parameters\n",
        "\n",
        "from statsmodels.tsa.statespace.sarimax import SARIMAX\n",
        "from sklearn.metrics import mean_squared_error as mse\n",
        "import itertools\n",
        "\n",
        "p = d = q = range(0,3)\n",
        "\n",
        "pdq = list(itertools.product(p,d,q))\n",
        "seasonal_pdq = [(x[0],x[1],x[2],12) for x in list(itertools.product(p,d,q))]\n",
        "\n",
        "best_aic = np.inf\n",
        "best_pdq = None\n",
        "best_s_pdq = None\n",
        "\n",
        "temp_model = None\n",
        "\n",
        "for param in pdq:\n",
        "  for s_param in seasonal_pdq:\n",
        "    print(f\"Trying with pdq:{param} and s_pdq:{s_param}\")\n",
        "\n",
        "    try:\n",
        "      temp_model = SARIMAX(df_close['Close/Last'], order = param, seasonal_order = s_param, enforce_stationarity = False, enforce_invertibility=False)\n",
        "      results = temp_model.fit()\n",
        "\n",
        "      if results.aic < best_aic:\n",
        "        best_aic = results.aic\n",
        "        best_pdq = param\n",
        "        best_s_pdq = s_param\n",
        "        print(f\"New parameters: pdq {best_pdq}, s_pdq {best_s_pdq} with aic: {best_aic}\\n\")\n",
        "\n",
        "    except:\n",
        "      print(\"Error occured, skipping\\n\")\n",
        "      continue"
      ]
    },
    {
      "cell_type": "code",
      "execution_count": null,
      "metadata": {
        "colab": {
          "base_uri": "https://localhost:8080/"
        },
        "id": "qaMK67004ODT",
        "outputId": "1e7655ae-4527-45ba-a1c2-0d9ea3f82ab9"
      },
      "outputs": [
        {
          "name": "stdout",
          "output_type": "stream",
          "text": [
            "(0, 2, 2) (0, 2, 2, 12) 16269.530239805135\n"
          ]
        }
      ],
      "source": [
        "print(best_pdq, best_s_pdq, best_aic)"
      ]
    },
    {
      "cell_type": "code",
      "execution_count": 5,
      "metadata": {
        "colab": {
          "base_uri": "https://localhost:8080/"
        },
        "id": "l8fdWTFERLoL",
        "outputId": "3cb0c4f2-73f8-4fe9-87b5-547a5f8c854e"
      },
      "outputs": [
        {
          "name": "stderr",
          "output_type": "stream",
          "text": [
            "/usr/local/lib/python3.10/dist-packages/statsmodels/base/model.py:607: ConvergenceWarning: Maximum Likelihood optimization failed to converge. Check mle_retvals\n",
            "  warnings.warn(\"Maximum Likelihood optimization failed to \"\n"
          ]
        }
      ],
      "source": [
        "model = SARIMAX(df_close['Close/Last'], order = (0, 2, 2), seasonal_order = (0, 2, 2, 12), enforce_stationarity = False, enforce_invertibility=False)\n",
        "model = model.fit()"
      ]
    },
    {
      "cell_type": "code",
      "execution_count": 6,
      "metadata": {
        "colab": {
          "base_uri": "https://localhost:8080/",
          "height": 465
        },
        "id": "bq8wo6QTZDd2",
        "outputId": "15c8dd40-d5f7-4b8b-fdff-5c5f5c83c72f"
      },
      "outputs": [
        {
          "data": {
            "text/html": [
              "<table class=\"simpletable\">\n",
              "<caption>SARIMAX Results</caption>\n",
              "<tr>\n",
              "  <th>Dep. Variable:</th>             <td>Close/Last</td>           <th>  No. Observations:  </th>   <td>1259</td>   \n",
              "</tr>\n",
              "<tr>\n",
              "  <th>Model:</th>           <td>SARIMAX(0, 2, 2)x(0, 2, 2, 12)</td> <th>  Log Likelihood     </th> <td>-8129.765</td>\n",
              "</tr>\n",
              "<tr>\n",
              "  <th>Date:</th>                   <td>Tue, 04 Jun 2024</td>        <th>  AIC                </th> <td>16269.530</td>\n",
              "</tr>\n",
              "<tr>\n",
              "  <th>Time:</th>                       <td>06:48:39</td>            <th>  BIC                </th> <td>16295.006</td>\n",
              "</tr>\n",
              "<tr>\n",
              "  <th>Sample:</th>                         <td>0</td>               <th>  HQIC               </th> <td>16279.124</td>\n",
              "</tr>\n",
              "<tr>\n",
              "  <th></th>                             <td> - 1259</td>            <th>                     </th>     <td> </td>    \n",
              "</tr>\n",
              "<tr>\n",
              "  <th>Covariance Type:</th>               <td>opg</td>              <th>                     </th>     <td> </td>    \n",
              "</tr>\n",
              "</table>\n",
              "<table class=\"simpletable\">\n",
              "<tr>\n",
              "      <td></td>        <th>coef</th>     <th>std err</th>      <th>z</th>      <th>P>|z|</th>  <th>[0.025</th>    <th>0.975]</th>  \n",
              "</tr>\n",
              "<tr>\n",
              "  <th>ma.L1</th>    <td>   -1.0741</td> <td>    0.025</td> <td>  -43.450</td> <td> 0.000</td> <td>   -1.123</td> <td>   -1.026</td>\n",
              "</tr>\n",
              "<tr>\n",
              "  <th>ma.L2</th>    <td>    0.0815</td> <td>    0.024</td> <td>    3.377</td> <td> 0.001</td> <td>    0.034</td> <td>    0.129</td>\n",
              "</tr>\n",
              "<tr>\n",
              "  <th>ma.S.L12</th> <td>   -2.0140</td> <td>    0.095</td> <td>  -21.262</td> <td> 0.000</td> <td>   -2.200</td> <td>   -1.828</td>\n",
              "</tr>\n",
              "<tr>\n",
              "  <th>ma.S.L24</th> <td>    1.0148</td> <td>    0.097</td> <td>   10.475</td> <td> 0.000</td> <td>    0.825</td> <td>    1.205</td>\n",
              "</tr>\n",
              "<tr>\n",
              "  <th>sigma2</th>   <td> 3.637e+04</td> <td> 3543.081</td> <td>   10.264</td> <td> 0.000</td> <td> 2.94e+04</td> <td> 4.33e+04</td>\n",
              "</tr>\n",
              "</table>\n",
              "<table class=\"simpletable\">\n",
              "<tr>\n",
              "  <th>Ljung-Box (L1) (Q):</th>     <td>0.04</td> <th>  Jarque-Bera (JB):  </th> <td>52.60</td>\n",
              "</tr>\n",
              "<tr>\n",
              "  <th>Prob(Q):</th>                <td>0.84</td> <th>  Prob(JB):          </th> <td>0.00</td> \n",
              "</tr>\n",
              "<tr>\n",
              "  <th>Heteroskedasticity (H):</th> <td>0.95</td> <th>  Skew:              </th> <td>-0.10</td>\n",
              "</tr>\n",
              "<tr>\n",
              "  <th>Prob(H) (two-sided):</th>    <td>0.58</td> <th>  Kurtosis:          </th> <td>4.00</td> \n",
              "</tr>\n",
              "</table><br/><br/>Warnings:<br/>[1] Covariance matrix calculated using the outer product of gradients (complex-step)."
            ],
            "text/latex": [
              "\\begin{center}\n",
              "\\begin{tabular}{lclc}\n",
              "\\toprule\n",
              "\\textbf{Dep. Variable:}          &           Close/Last           & \\textbf{  No. Observations:  } &    1259     \\\\\n",
              "\\textbf{Model:}                  & SARIMAX(0, 2, 2)x(0, 2, 2, 12) & \\textbf{  Log Likelihood     } & -8129.765   \\\\\n",
              "\\textbf{Date:}                   &        Tue, 04 Jun 2024        & \\textbf{  AIC                } & 16269.530   \\\\\n",
              "\\textbf{Time:}                   &            06:48:39            & \\textbf{  BIC                } & 16295.006   \\\\\n",
              "\\textbf{Sample:}                 &               0                & \\textbf{  HQIC               } & 16279.124   \\\\\n",
              "\\textbf{}                        &             - 1259             & \\textbf{                     } &             \\\\\n",
              "\\textbf{Covariance Type:}        &              opg               & \\textbf{                     } &             \\\\\n",
              "\\bottomrule\n",
              "\\end{tabular}\n",
              "\\begin{tabular}{lcccccc}\n",
              "                  & \\textbf{coef} & \\textbf{std err} & \\textbf{z} & \\textbf{P$> |$z$|$} & \\textbf{[0.025} & \\textbf{0.975]}  \\\\\n",
              "\\midrule\n",
              "\\textbf{ma.L1}    &      -1.0741  &        0.025     &   -43.450  &         0.000        &       -1.123    &       -1.026     \\\\\n",
              "\\textbf{ma.L2}    &       0.0815  &        0.024     &     3.377  &         0.001        &        0.034    &        0.129     \\\\\n",
              "\\textbf{ma.S.L12} &      -2.0140  &        0.095     &   -21.262  &         0.000        &       -2.200    &       -1.828     \\\\\n",
              "\\textbf{ma.S.L24} &       1.0148  &        0.097     &    10.475  &         0.000        &        0.825    &        1.205     \\\\\n",
              "\\textbf{sigma2}   &    3.637e+04  &     3543.081     &    10.264  &         0.000        &     2.94e+04    &     4.33e+04     \\\\\n",
              "\\bottomrule\n",
              "\\end{tabular}\n",
              "\\begin{tabular}{lclc}\n",
              "\\textbf{Ljung-Box (L1) (Q):}     & 0.04 & \\textbf{  Jarque-Bera (JB):  } & 52.60  \\\\\n",
              "\\textbf{Prob(Q):}                & 0.84 & \\textbf{  Prob(JB):          } &  0.00  \\\\\n",
              "\\textbf{Heteroskedasticity (H):} & 0.95 & \\textbf{  Skew:              } & -0.10  \\\\\n",
              "\\textbf{Prob(H) (two-sided):}    & 0.58 & \\textbf{  Kurtosis:          } &  4.00  \\\\\n",
              "\\bottomrule\n",
              "\\end{tabular}\n",
              "%\\caption{SARIMAX Results}\n",
              "\\end{center}\n",
              "\n",
              "Warnings: \\newline\n",
              " [1] Covariance matrix calculated using the outer product of gradients (complex-step)."
            ],
            "text/plain": [
              "<class 'statsmodels.iolib.summary.Summary'>\n",
              "\"\"\"\n",
              "                                     SARIMAX Results                                      \n",
              "==========================================================================================\n",
              "Dep. Variable:                         Close/Last   No. Observations:                 1259\n",
              "Model:             SARIMAX(0, 2, 2)x(0, 2, 2, 12)   Log Likelihood               -8129.765\n",
              "Date:                            Tue, 04 Jun 2024   AIC                          16269.530\n",
              "Time:                                    06:48:39   BIC                          16295.006\n",
              "Sample:                                         0   HQIC                         16279.124\n",
              "                                           - 1259                                         \n",
              "Covariance Type:                              opg                                         \n",
              "==============================================================================\n",
              "                 coef    std err          z      P>|z|      [0.025      0.975]\n",
              "------------------------------------------------------------------------------\n",
              "ma.L1         -1.0741      0.025    -43.450      0.000      -1.123      -1.026\n",
              "ma.L2          0.0815      0.024      3.377      0.001       0.034       0.129\n",
              "ma.S.L12      -2.0140      0.095    -21.262      0.000      -2.200      -1.828\n",
              "ma.S.L24       1.0148      0.097     10.475      0.000       0.825       1.205\n",
              "sigma2      3.637e+04   3543.081     10.264      0.000    2.94e+04    4.33e+04\n",
              "===================================================================================\n",
              "Ljung-Box (L1) (Q):                   0.04   Jarque-Bera (JB):                52.60\n",
              "Prob(Q):                              0.84   Prob(JB):                         0.00\n",
              "Heteroskedasticity (H):               0.95   Skew:                            -0.10\n",
              "Prob(H) (two-sided):                  0.58   Kurtosis:                         4.00\n",
              "===================================================================================\n",
              "\n",
              "Warnings:\n",
              "[1] Covariance matrix calculated using the outer product of gradients (complex-step).\n",
              "\"\"\""
            ]
          },
          "execution_count": 6,
          "metadata": {},
          "output_type": "execute_result"
        }
      ],
      "source": [
        "model.summary()"
      ]
    },
    {
      "cell_type": "code",
      "execution_count": 7,
      "metadata": {
        "colab": {
          "base_uri": "https://localhost:8080/",
          "height": 850
        },
        "id": "c27iOnqHZFxq",
        "outputId": "02c7bd7a-e52d-4106-f393-3bd26f68f9d9"
      },
      "outputs": [
        {
          "data": {
            "image/png": "[encoded data removed]",
            "text/plain": [
              "<Figure size 1500x1000 with 1 Axes>"
            ]
          },
          "metadata": {},
          "output_type": "display_data"
        }
      ],
      "source": [
        "predictions = model.predict(start = len(df_close['Close/Last']), end = len(df_close['Close/Last']) + 30) # 30 for next 30 days\n",
        "\n",
        "plt.figure(figsize = (15,10))\n",
        "plt.plot(df_close['Close/Last'], label = 'Actual')\n",
        "plt.plot(predictions, label = 'Predicted')\n",
        "plt.xlabel('Date')\n",
        "plt.ylabel('Close price')\n",
        "plt.legend()\n",
        "plt.show()"
      ]
    },
    {
      "cell_type": "code",
      "execution_count": null,
      "metadata": {
        "id": "Sl9doQYA4shl"
      },
      "outputs": [],
      "source": []
    }
  ],
  "metadata": {
    "colab": {
      "provenance": []
    },
    "kernelspec": {
      "display_name": "Python 3",
      "name": "python3"
    },
    "language_info": {
      "name": "python"
    }
  },
  "nbformat": 4,
  "nbformat_minor": 0
}
