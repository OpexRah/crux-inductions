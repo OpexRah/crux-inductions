{
 "cells": [
  {
   "cell_type": "markdown",
   "metadata": {},
   "source": [
    "# Imports"
   ]
  },
  {
   "cell_type": "code",
   "execution_count": null,
   "metadata": {},
   "outputs": [],
   "source": [
    "import pandas as pd\n",
    "import numpy as np\n",
    "from sklearn.model_selection import train_test_split\n",
    "import tensorflow_datasets as tfds\n",
    "import tensorflow as tf\n",
    "\n",
    "from tensorflow import keras\n",
    "from tensorflow.keras import layers, Model\n",
    "from tensorflow.keras.callbacks import EarlyStopping\n",
    "\n",
    "from dataclasses import dataclass\n",
    "from einops import rearrange, repeat\n",
    "from typing import Union\n",
    "\n",
    "from transformers import AutoTokenizer\n",
    "\n",
    "import datasets\n",
    "import math"
   ]
  },
  {
   "cell_type": "markdown",
   "metadata": {},
   "source": [
    "# Data import and Pre-Process"
   ]
  },
  {
   "cell_type": "code",
   "execution_count": null,
   "metadata": {},
   "outputs": [],
   "source": [
    "df = pd.read_csv(\"dataset/youtube_dataset_balanced.csv\")\n",
    "df = df.sample(frac=1).reset_index(drop=True)\n",
    "\n",
    "texts = df['title']\n",
    "labels = df['Category']\n",
    "\n",
    "tokenizer = AutoTokenizer.from_pretrained(\"bert-base-uncased\")\n",
    "vocab_size = tokenizer.vocab_size\n",
    "tokenized_texts = tokenizer(texts.tolist(), padding='max_length', truncation=True, max_length=36, return_tensors=\"np\")\n",
    "\n",
    "input_ids = tokenized_texts['input_ids']\n",
    "labels = np.array(labels)\n",
    "\n",
    "x_train, x_val, y_train, y_val = train_test_split(input_ids, labels, test_size=0.2, random_state=42)\n",
    "\n",
    "BATCH_SIZE = 32\n",
    "train_dataset = tf.data.Dataset.from_tensor_slices((x_train, y_train)).batch(BATCH_SIZE).shuffle(1000)\n",
    "val_dataset = tf.data.Dataset.from_tensor_slices((x_val, y_val)).batch(BATCH_SIZE).shuffle(1000)"
   ]
  }
 ],
 "metadata": {
  "language_info": {
   "name": "python"
  }
 },
 "nbformat": 4,
 "nbformat_minor": 2
}
